{
  "cells": [
    {
      "cell_type": "markdown",
      "metadata": {
        "id": "view-in-github",
        "colab_type": "text"
      },
      "source": [
        "<a href=\"https://colab.research.google.com/github/Splav12341/H-M_kaggle_competiton/blob/main/graphical_appearance_no.ipynb\" target=\"_parent\"><img src=\"https://colab.research.google.com/assets/colab-badge.svg\" alt=\"Open In Colab\"/></a>"
      ]
    },
    {
      "cell_type": "code",
      "execution_count": null,
      "id": "2c652aa4-5be1-4d06-9bc0-766664397d2f",
      "metadata": {
        "id": "2c652aa4-5be1-4d06-9bc0-766664397d2f"
      },
      "outputs": [],
      "source": [
        "import torch\n",
        "from torchvision import transforms\n",
        "import torchvision\n",
        "import torch.nn as nn\n",
        "import torch.nn.functional as F\n",
        "\n",
        "from matplotlib import pyplot as plt\n",
        "import numpy as np\n",
        "import time\n",
        "from collections import defaultdict\n",
        "from tqdm import tqdm\n",
        "\n",
        "import os\n",
        "device = torch.device(\"cuda\") if torch.cuda.is_available() else torch.device(\"cpu\")"
      ]
    },
    {
      "cell_type": "code",
      "execution_count": null,
      "id": "5431607a-d5ee-4a1b-85d7-3e77c941880a",
      "metadata": {
        "id": "5431607a-d5ee-4a1b-85d7-3e77c941880a",
        "outputId": "284a52ea-8a1b-41cc-ae7c-cfb5793ee1b7"
      },
      "outputs": [
        {
          "data": {
            "text/plain": [
              "device(type='cuda')"
            ]
          },
          "execution_count": 2,
          "metadata": {},
          "output_type": "execute_result"
        }
      ],
      "source": [
        "device"
      ]
    },
    {
      "cell_type": "code",
      "execution_count": null,
      "id": "0a3e87e5-adcb-40b6-a50e-a35f97de1128",
      "metadata": {
        "id": "0a3e87e5-adcb-40b6-a50e-a35f97de1128",
        "outputId": "ac059b11-e39c-4b93-f57a-f89efca531a9"
      },
      "outputs": [
        {
          "data": {
            "text/plain": [
              "True"
            ]
          },
          "execution_count": 3,
          "metadata": {},
          "output_type": "execute_result"
        }
      ],
      "source": [
        "torch.cuda.is_available()"
      ]
    },
    {
      "cell_type": "code",
      "execution_count": null,
      "id": "7c9d6fe1-59ca-41de-83d1-4cd1e348a2f7",
      "metadata": {
        "id": "7c9d6fe1-59ca-41de-83d1-4cd1e348a2f7",
        "outputId": "9b47e8c7-b962-4e1e-a181-f50ca7244598"
      },
      "outputs": [
        {
          "name": "stdout",
          "output_type": "stream",
          "text": [
            "Wed Apr 27 22:20:15 2022       \n",
            "+-----------------------------------------------------------------------------+\n",
            "| NVIDIA-SMI 410.129      Driver Version: 410.129      CUDA Version: 10.1     |\n",
            "|-------------------------------+----------------------+----------------------+\n",
            "| GPU  Name        Persistence-M| Bus-Id        Disp.A | Volatile Uncorr. ECC |\n",
            "| Fan  Temp  Perf  Pwr:Usage/Cap|         Memory-Usage | GPU-Util  Compute M. |\n",
            "|===============================+======================+======================|\n",
            "|   0  Tesla V100-SXM3...  On   | 00000000:59:00.0 Off |                    0 |\n",
            "| N/A   40C    P0    60W / 312W |  14264MiB / 32480MiB |      0%      Default |\n",
            "+-------------------------------+----------------------+----------------------+\n",
            "                                                                               \n",
            "+-----------------------------------------------------------------------------+\n",
            "| Processes:                                                       GPU Memory |\n",
            "|  GPU       PID   Type   Process name                             Usage      |\n",
            "|=============================================================================|\n",
            "+-----------------------------------------------------------------------------+\n"
          ]
        }
      ],
      "source": [
        "!nvidia-smi"
      ]
    },
    {
      "cell_type": "code",
      "execution_count": null,
      "id": "656a5395-714b-40ee-92b7-ec034966c90e",
      "metadata": {
        "id": "656a5395-714b-40ee-92b7-ec034966c90e"
      },
      "outputs": [],
      "source": [
        "DATA_PATH = r\"./../H&M/images\"\n",
        "\n",
        "NUM_WORKERS = 8\n",
        "SIZE_H = SIZE_W = 256\n",
        "\n",
        "EPOCH_NUM = 30\n",
        "BATCH_SIZE = 250\n",
        "\n",
        "# Images mean and std channelwise\n",
        "image_mean = [0.485, 0.456, 0.406]\n",
        "image_std  = [0.229, 0.224, 0.225]"
      ]
    },
    {
      "cell_type": "code",
      "execution_count": null,
      "id": "869aa9a0-fd71-4a40-a1a2-c3097f111621",
      "metadata": {
        "id": "869aa9a0-fd71-4a40-a1a2-c3097f111621"
      },
      "outputs": [],
      "source": [
        "transformer = transforms.Compose([\n",
        "    transforms.Resize((SIZE_H, SIZE_W)),        # scaling images to fixed size\n",
        "    transforms.ToTensor(),                      # converting to tensors\n",
        "    transforms.Normalize(image_mean, image_std) # normalize image data per-channel\n",
        "])"
      ]
    },
    {
      "cell_type": "code",
      "execution_count": null,
      "id": "aefe1335-5ebc-4d88-8d50-076fc5ff7735",
      "metadata": {
        "id": "aefe1335-5ebc-4d88-8d50-076fc5ff7735"
      },
      "outputs": [],
      "source": [
        "import cv2\n",
        "from PIL import Image\n",
        "from torch.utils.data import Dataset, DataLoader, Subset"
      ]
    },
    {
      "cell_type": "code",
      "execution_count": null,
      "id": "3c22af6a-0f43-4d41-b909-374d37312107",
      "metadata": {
        "id": "3c22af6a-0f43-4d41-b909-374d37312107"
      },
      "outputs": [],
      "source": [
        "import pandas as pd\n",
        "df = pd.read_csv('./../H&M/articles.csv')\n",
        "df = df.astype({'article_id': 'str'})"
      ]
    },
    {
      "cell_type": "markdown",
      "id": "e4d9164f-d2d3-450a-a0f8-6dbf00678613",
      "metadata": {
        "id": "e4d9164f-d2d3-450a-a0f8-6dbf00678613"
      },
      "source": [
        "# Make Dataset"
      ]
    },
    {
      "cell_type": "code",
      "execution_count": null,
      "id": "87050e5b-a739-41ed-b842-cac37002b8e0",
      "metadata": {
        "id": "87050e5b-a739-41ed-b842-cac37002b8e0"
      },
      "outputs": [],
      "source": [
        "class DatasetImageFolder(torch.utils.data.Dataset):\n",
        "    def __init__(self, DATA_PATH: str, df, transform):\n",
        "        super(DatasetImageFolder, self).__init__()\n",
        "        self.root = DATA_PATH\n",
        "        self.transform = transform\n",
        "        self.class_names = []\n",
        "        self.images_filepaths = []\n",
        " \n",
        "        for directory in tqdm(sorted(os.listdir(os.path.join(DATA_PATH)))):\n",
        "            for fname in os.listdir(os.path.join(DATA_PATH + '/' + directory)):\n",
        "                for row in df.values:\n",
        "                    if fname[1:-4] == row[0]:\n",
        "                        self.images_filepaths.append(row[0])\n",
        "                        self.class_names.append(row[1])\n",
        "                        df = df.drop(df[df.article_id == row[0]].index)\n",
        "                        break\n",
        "                        \n",
        "        self.target_dict = dict()\n",
        "        for idx, label in enumerate(np.unique(self.class_names)):\n",
        "            self.target_dict[label] = idx\n",
        "\n",
        "    def __len__(self):\n",
        "        return len(self.images_filepaths)\n",
        " \n",
        "    def __getitem__(self, idx):\n",
        "        \n",
        "        image_filepath = ('./../H&M/images/' + '0' + str(test_dataset.images_filepaths[idx])[:2] + '/0' + \n",
        "                                str(test_dataset.images_filepaths[idx]) +'.jpg')\n",
        "        image = Image.open(image_filepath)\n",
        "     \n",
        "        label = torch.tensor(self.target_dict[self.class_names[idx]])\n",
        "        try:\n",
        "            image = self.transform(image)\n",
        "        except RuntimeError:\n",
        "            print('aaaaa:', image_filepath)\n",
        "            \n",
        "            image = torch.zeros((3, 256, 256))\n",
        "            label = torch.tensor(0)\n",
        "        return image, label, self.images_filepaths[idx]"
      ]
    },
    {
      "cell_type": "code",
      "execution_count": null,
      "id": "b011dc5b-b116-4164-a462-f81d75772eff",
      "metadata": {
        "id": "b011dc5b-b116-4164-a462-f81d75772eff",
        "outputId": "689395fb-045d-4fa2-8c2b-397ef59211ec"
      },
      "outputs": [
        {
          "name": "stderr",
          "output_type": "stream",
          "text": [
            "100%|██████████| 86/86 [21:19<00:00, 14.87s/it]\n"
          ]
        }
      ],
      "source": [
        "column = 'graphical_appearance_no'\n",
        "test_dataset = DatasetImageFolder(DATA_PATH, df[['article_id', column]], transformer)"
      ]
    },
    {
      "cell_type": "markdown",
      "id": "8ca970d3-67f0-4580-ab86-c9616506c083",
      "metadata": {
        "id": "8ca970d3-67f0-4580-ab86-c9616506c083"
      },
      "source": [
        "## pseudo balance classes"
      ]
    },
    {
      "cell_type": "code",
      "execution_count": null,
      "id": "c62a6fd3-4047-4c07-a047-d49c5e5ab778",
      "metadata": {
        "id": "c62a6fd3-4047-4c07-a047-d49c5e5ab778"
      },
      "outputs": [],
      "source": [
        "unique, counts = np.unique(test_dataset.class_names, return_counts=True)"
      ]
    },
    {
      "cell_type": "code",
      "execution_count": null,
      "id": "b36cc874-d8f8-473f-a9d9-aa8b1180c3e9",
      "metadata": {
        "id": "b36cc874-d8f8-473f-a9d9-aa8b1180c3e9",
        "outputId": "d502157e-5741-4c36-ba46-160024a46ca0"
      },
      "outputs": [
        {
          "data": {
            "text/plain": [
              "array([   51, 17128,  1337,    15,  2176,  1820,   680,  1163,  3210,\n",
              "         954,  5918,   337,  1127,   510,  3094,   806, 49450,  4980,\n",
              "         583,    81,   376,  1511,   826,  4835,   318,   153,  1501,\n",
              "          66,    86,     8])"
            ]
          },
          "execution_count": 12,
          "metadata": {},
          "output_type": "execute_result"
        }
      ],
      "source": [
        "counts"
      ]
    },
    {
      "cell_type": "code",
      "execution_count": null,
      "id": "8cf20447-dd26-4557-bf5b-c52c909f5c0c",
      "metadata": {
        "id": "8cf20447-dd26-4557-bf5b-c52c909f5c0c",
        "outputId": "073dc553-b80b-4ffa-8d1a-a7f747068b42"
      },
      "outputs": [
        {
          "data": {
            "text/plain": [
              "array([     -1, 1010001, 1010002, 1010003, 1010004, 1010005, 1010006,\n",
              "       1010007, 1010008, 1010009, 1010010, 1010011, 1010012, 1010013,\n",
              "       1010014, 1010015, 1010016, 1010017, 1010018, 1010019, 1010020,\n",
              "       1010021, 1010022, 1010023, 1010024, 1010025, 1010026, 1010027,\n",
              "       1010028, 1010029])"
            ]
          },
          "execution_count": 13,
          "metadata": {},
          "output_type": "execute_result"
        }
      ],
      "source": [
        "unique"
      ]
    },
    {
      "cell_type": "code",
      "execution_count": null,
      "id": "822218be-74b0-4509-9941-f82e741faa10",
      "metadata": {
        "id": "822218be-74b0-4509-9941-f82e741faa10",
        "outputId": "b76ec87a-dd6c-404e-83a7-1dc5f5004716"
      },
      "outputs": [
        {
          "data": {
            "text/plain": [
              " 1010016    49747\n",
              " 1010001    17165\n",
              " 1010010     5938\n",
              " 1010017     4990\n",
              " 1010023     4842\n",
              " 1010008     3215\n",
              " 1010014     3098\n",
              " 1010004     2178\n",
              " 1010005     1830\n",
              " 1010021     1513\n",
              " 1010026     1502\n",
              " 1010002     1341\n",
              " 1010007     1165\n",
              " 1010012     1132\n",
              " 1010009      958\n",
              " 1010022      830\n",
              " 1010015      806\n",
              " 1010006      681\n",
              " 1010018      586\n",
              " 1010013      515\n",
              " 1010020      376\n",
              " 1010011      346\n",
              " 1010024      322\n",
              " 1010025      153\n",
              " 1010019       86\n",
              " 1010028       86\n",
              " 1010027       66\n",
              "-1             52\n",
              " 1010003       15\n",
              " 1010029        8\n",
              "Name: graphical_appearance_no, dtype: int64"
            ]
          },
          "execution_count": 14,
          "metadata": {},
          "output_type": "execute_result"
        }
      ],
      "source": [
        "df[column].value_counts()"
      ]
    },
    {
      "cell_type": "markdown",
      "id": "9f600b4a-3c7f-4422-b2da-247fc4355b15",
      "metadata": {
        "id": "9f600b4a-3c7f-4422-b2da-247fc4355b15"
      },
      "source": [
        "## choose balance_number"
      ]
    },
    {
      "cell_type": "code",
      "execution_count": null,
      "id": "4a29ac12-47dc-485f-9c7f-9b306e24f8e8",
      "metadata": {
        "id": "4a29ac12-47dc-485f-9c7f-9b306e24f8e8",
        "outputId": "7bf18463-87e5-4204-989e-19fa35d144f1"
      },
      "outputs": [
        {
          "name": "stdout",
          "output_type": "stream",
          "text": [
            "{-1: 98, 1010001: 0, 1010002: 3, 1010003: 333, 1010004: 2, 1010005: 2, 1010006: 7, 1010007: 4, 1010008: 1, 1010009: 5, 1010010: 0, 1010011: 14, 1010012: 4, 1010013: 9, 1010014: 1, 1010015: 6, 1010016: 0, 1010017: 1, 1010018: 8, 1010019: 61, 1010020: 13, 1010021: 3, 1010022: 6, 1010023: 1, 1010024: 15, 1010025: 32, 1010026: 3, 1010027: 75, 1010028: 58, 1010029: 625}\n"
          ]
        }
      ],
      "source": [
        "d = dict()\n",
        "balance_number = 5000.\n",
        "\n",
        "for idx, value in enumerate(counts):\n",
        "    weight = int(balance_number/value)\n",
        "    d[unique[idx]] = weight\n",
        "print(d)"
      ]
    },
    {
      "cell_type": "markdown",
      "id": "6dbaf646-91cf-4e6d-92a9-f030580fa7d9",
      "metadata": {
        "id": "6dbaf646-91cf-4e6d-92a9-f030580fa7d9"
      },
      "source": [
        "## Balanced dataset "
      ]
    },
    {
      "cell_type": "code",
      "execution_count": null,
      "id": "4011b76b-7d35-42de-bee9-d2243d3122de",
      "metadata": {
        "id": "4011b76b-7d35-42de-bee9-d2243d3122de"
      },
      "outputs": [],
      "source": [
        "class BalancedDatasetImageFolder(torch.utils.data.Dataset):\n",
        "    def __init__(self, DATA_PATH: str, transform, class_names, images_filepaths, target_dict):\n",
        "        super().__init__()\n",
        "        self.root = DATA_PATH\n",
        "        self.transform = transform\n",
        "        self.class_names = class_names.copy()\n",
        "        self.images_filepaths = images_filepaths.copy()\n",
        "                        \n",
        "        self.target_dict = target_dict.copy()\n",
        "\n",
        "    def __len__(self):\n",
        "        return len(self.images_filepaths)\n",
        " \n",
        "    def __getitem__(self, idx):\n",
        "        image_filepath = ('./../H&M/images/' + '0' + str(self.images_filepaths[idx])[:2] + '/0' + \n",
        "                                str(self.images_filepaths[idx]) +'.jpg')\n",
        "        image = Image.open(image_filepath)\n",
        "        label = torch.tensor(self.target_dict[self.class_names[idx]])\n",
        "        try:\n",
        "            image = self.transform(image)\n",
        "        except RuntimeError:\n",
        "            print('aaaaa:', image_filepath)\n",
        "            \n",
        "            image = torch.zeros((3, 256, 256))\n",
        "            label = torch.tensor(0)\n",
        "        return image, label, self.images_filepaths[idx]"
      ]
    },
    {
      "cell_type": "code",
      "execution_count": null,
      "id": "b57aba26-29f3-486f-b965-4698940bd9e0",
      "metadata": {
        "id": "b57aba26-29f3-486f-b965-4698940bd9e0"
      },
      "outputs": [],
      "source": [
        "balanced_dataset = BalancedDatasetImageFolder(DATA_PATH, transformer, test_dataset.class_names, test_dataset.images_filepaths, test_dataset.target_dict)"
      ]
    },
    {
      "cell_type": "code",
      "execution_count": null,
      "id": "8f0e47c4-d4ab-4d00-bd5c-b128e43e3acc",
      "metadata": {
        "id": "8f0e47c4-d4ab-4d00-bd5c-b128e43e3acc",
        "outputId": "8606a98a-d0fe-4b38-fcad-e180c47e47b2"
      },
      "outputs": [
        {
          "name": "stderr",
          "output_type": "stream",
          "text": [
            "105100it [00:00, 891309.85it/s]\n"
          ]
        }
      ],
      "source": [
        "class_names = []\n",
        "images_filepaths = []\n",
        "for name, path in tqdm(zip(balanced_dataset.class_names, balanced_dataset.images_filepaths)):\n",
        "    \n",
        "    tmp_names = []\n",
        "    tmp_paths = []\n",
        "    if d[name]>0:\n",
        "        tmp_names.append(name)\n",
        "        tmp_names = tmp_names*d[name]\n",
        "        tmp_paths.append(path)\n",
        "        tmp_paths = tmp_paths*d[name]\n",
        "\n",
        "        class_names.extend(tmp_names)\n",
        "        images_filepaths.extend(tmp_paths)\n",
        "        \n",
        "balanced_dataset.class_names.extend(class_names)\n",
        "balanced_dataset.images_filepaths.extend(images_filepaths)    "
      ]
    },
    {
      "cell_type": "markdown",
      "id": "5b39238d-cdfc-4cb0-8569-afebbd1c45f2",
      "metadata": {
        "id": "5b39238d-cdfc-4cb0-8569-afebbd1c45f2"
      },
      "source": [
        "## checking"
      ]
    },
    {
      "cell_type": "code",
      "execution_count": null,
      "id": "626877d9-0a98-4af4-8361-b10441c419ad",
      "metadata": {
        "id": "626877d9-0a98-4af4-8361-b10441c419ad"
      },
      "outputs": [],
      "source": [
        "unique, counts = np.unique(balanced_dataset.class_names, return_counts=True)"
      ]
    },
    {
      "cell_type": "code",
      "execution_count": null,
      "id": "e172dada-24cf-4bd1-98c0-487b5776a53f",
      "metadata": {
        "id": "e172dada-24cf-4bd1-98c0-487b5776a53f",
        "outputId": "cf394b73-b058-4c02-e9b9-b8a6e06bc455"
      },
      "outputs": [
        {
          "data": {
            "text/plain": [
              "array([ 5049, 17128,  5348,  5010,  6528,  5460,  5440,  5815,  6420,\n",
              "        5724,  5918,  5055,  5635,  5100,  6188,  5642, 49450,  9960,\n",
              "        5247,  5022,  5264,  6044,  5782,  9670,  5088,  5049,  6004,\n",
              "        5016,  5074,  5008])"
            ]
          },
          "execution_count": 20,
          "metadata": {},
          "output_type": "execute_result"
        }
      ],
      "source": [
        "counts"
      ]
    },
    {
      "cell_type": "code",
      "execution_count": null,
      "id": "b018810f-8058-49bb-8246-c7bf5a0bd5bd",
      "metadata": {
        "id": "b018810f-8058-49bb-8246-c7bf5a0bd5bd"
      },
      "outputs": [],
      "source": [
        "unique, counts = np.unique(test_dataset.class_names, return_counts=True)"
      ]
    },
    {
      "cell_type": "code",
      "execution_count": null,
      "id": "88533b28-a9ff-4742-a538-fbe536d51793",
      "metadata": {
        "id": "88533b28-a9ff-4742-a538-fbe536d51793",
        "outputId": "c7166fd0-e4d0-4b5c-aeae-18ebe88ee06c"
      },
      "outputs": [
        {
          "data": {
            "text/plain": [
              "array([   51, 17128,  1337,    15,  2176,  1820,   680,  1163,  3210,\n",
              "         954,  5918,   337,  1127,   510,  3094,   806, 49450,  4980,\n",
              "         583,    81,   376,  1511,   826,  4835,   318,   153,  1501,\n",
              "          66,    86,     8])"
            ]
          },
          "execution_count": 22,
          "metadata": {},
          "output_type": "execute_result"
        }
      ],
      "source": [
        "counts"
      ]
    },
    {
      "cell_type": "markdown",
      "id": "8c3d6889-127c-4d05-b3d8-4a7202f2df4c",
      "metadata": {
        "id": "8c3d6889-127c-4d05-b3d8-4a7202f2df4c"
      },
      "source": [
        "# DataLoader"
      ]
    },
    {
      "cell_type": "code",
      "execution_count": null,
      "id": "9fc52c00-8e18-4201-971f-a581179ca55d",
      "metadata": {
        "id": "9fc52c00-8e18-4201-971f-a581179ca55d",
        "outputId": "2c984b97-95db-4172-821a-fd48ed322d0d"
      },
      "outputs": [
        {
          "name": "stdout",
          "output_type": "stream",
          "text": [
            "torch.Size([3, 256, 256])\n",
            "tensor(16)\n"
          ]
        }
      ],
      "source": [
        "img, label, images_filepaths = balanced_dataset[0]\n",
        "print(img.shape)\n",
        "print(label)"
      ]
    },
    {
      "cell_type": "code",
      "execution_count": null,
      "id": "eda63e15-42ad-412b-87b5-dce3263e406b",
      "metadata": {
        "id": "eda63e15-42ad-412b-87b5-dce3263e406b"
      },
      "outputs": [],
      "source": [
        "NUM_WORKERS=4\n",
        "train_loader = DataLoader(balanced_dataset, batch_size=BATCH_SIZE, shuffle=True, num_workers=NUM_WORKERS)\n",
        "\n",
        "emb_train_loader = DataLoader(test_dataset, batch_size=BATCH_SIZE, shuffle=True, num_workers=NUM_WORKERS)"
      ]
    },
    {
      "cell_type": "code",
      "execution_count": null,
      "id": "f0fdd3f7-8dfa-4415-9381-7630a5d42e47",
      "metadata": {
        "id": "f0fdd3f7-8dfa-4415-9381-7630a5d42e47"
      },
      "outputs": [],
      "source": [
        "# train_iter = iter(train_loader)\n",
        "# it = next(train_iter)\n",
        "# print(len(it))\n",
        "# print(it[0].shape)\n",
        "# print(it[1])"
      ]
    },
    {
      "cell_type": "markdown",
      "id": "87f76024-b6de-4d60-9345-f56e88ec8522",
      "metadata": {
        "id": "87f76024-b6de-4d60-9345-f56e88ec8522"
      },
      "source": [
        "## plot samples"
      ]
    },
    {
      "cell_type": "code",
      "execution_count": null,
      "id": "6e8770a4-822b-4821-9ef6-0a5842f666fe",
      "metadata": {
        "id": "6e8770a4-822b-4821-9ef6-0a5842f666fe"
      },
      "outputs": [],
      "source": [
        "def plot_from_batch_generator(batch_gen):\n",
        "    data_batch, label_batch, images_filepaths = next(iter(batch_gen))\n",
        "    grid_size = (3, 3)\n",
        "    f, axarr = plt.subplots(*grid_size)\n",
        "    f.set_size_inches(15,10)\n",
        "    class_names = batch_gen.dataset.class_names\n",
        "    for i in range(grid_size[0] * grid_size[1]):\n",
        "        \n",
        "        # read images from batch to numpy.ndarray and change axes order [H, W, C] -> [H, W, C]\n",
        "        batch_image_ndarray = np.transpose(data_batch[i].numpy(), [1, 2, 0])\n",
        "        \n",
        "        # inverse normalization for image data values back to [0,1] and clipping the values for correct pyplot.imshow()\n",
        "        src = np.clip(image_std * batch_image_ndarray + image_mean, 0, 1)\n",
        "        \n",
        "        # display batch samples with labels\n",
        "#         sample_title = 'Label = %d (%s)' % (label_batch[i], class_names[label_batch[i]])\n",
        "        sample_title = 'Label = %s' % class_names[label_batch[i]]\n",
        "        axarr[i // grid_size[0], i % grid_size[0]].imshow(src)\n",
        "        axarr[i // grid_size[0], i % grid_size[0]].set_title(sample_title)"
      ]
    },
    {
      "cell_type": "code",
      "execution_count": null,
      "id": "ea3b0ab1-666c-41a6-8cb8-d2469e8a8017",
      "metadata": {
        "id": "ea3b0ab1-666c-41a6-8cb8-d2469e8a8017"
      },
      "outputs": [],
      "source": [
        "# plot_from_batch_generator(train_loader)"
      ]
    },
    {
      "cell_type": "markdown",
      "id": "538f38a2-e8f9-436c-a243-8affbb2b9c41",
      "metadata": {
        "id": "538f38a2-e8f9-436c-a243-8affbb2b9c41"
      },
      "source": [
        "## define num_classes"
      ]
    },
    {
      "cell_type": "code",
      "execution_count": null,
      "id": "0d94efc6-13b5-414d-8025-f5fb67c2840a",
      "metadata": {
        "id": "0d94efc6-13b5-414d-8025-f5fb67c2840a"
      },
      "outputs": [],
      "source": [
        "NUM_CLASSES = len(np.unique(train_loader.dataset.class_names))"
      ]
    },
    {
      "cell_type": "markdown",
      "id": "33a2c204-ee47-44df-8e45-a729035b17b2",
      "metadata": {
        "id": "33a2c204-ee47-44df-8e45-a729035b17b2"
      },
      "source": [
        "# Download model"
      ]
    },
    {
      "cell_type": "code",
      "execution_count": null,
      "id": "3c3cf2f3-0f5f-4364-98dd-c413b90ca293",
      "metadata": {
        "id": "3c3cf2f3-0f5f-4364-98dd-c413b90ca293"
      },
      "outputs": [],
      "source": [
        "# !pip install efficientnet_pytorch"
      ]
    },
    {
      "cell_type": "code",
      "execution_count": null,
      "id": "7f483271-4df7-464f-aa5f-265277434768",
      "metadata": {
        "id": "7f483271-4df7-464f-aa5f-265277434768"
      },
      "outputs": [],
      "source": [
        "from efficientnet_pytorch import EfficientNet"
      ]
    },
    {
      "cell_type": "code",
      "execution_count": null,
      "id": "5b280168-dc81-4f6f-bde1-0b77e0bfbd25",
      "metadata": {
        "id": "5b280168-dc81-4f6f-bde1-0b77e0bfbd25",
        "outputId": "9b784b0d-d8a2-438b-fece-02f7404a0896"
      },
      "outputs": [
        {
          "name": "stdout",
          "output_type": "stream",
          "text": [
            "Loaded pretrained weights for efficientnet-b4\n"
          ]
        }
      ],
      "source": [
        "# Load pre-trained model\n",
        "# model_resnet18 = torchvision.models.resnet152(pretrained=True)\n",
        "from collections import OrderedDict\n",
        "model = EfficientNet.from_pretrained('efficientnet-b4')\n",
        "\n",
        "# Disable gradient updates for all the layers except  the final layer\n",
        "# YOUR CODE HERE\n",
        "for p in model.parameters():\n",
        "    p.requires_grad = False\n",
        "\n",
        "# Parameters of newly constructed modules have requires_grad=True by default\n",
        "num_feat = model._fc.in_features\n",
        "\n",
        "# hid_size = 200\n",
        "emb_size = 20\n",
        "model._fc = nn.Linear(num_feat, emb_size)\n",
        "\n",
        "model = nn.Sequential(OrderedDict([\n",
        "          ('efficientnet', model),\n",
        "          ('leaky_relu1', nn.LeakyReLU(0.3)),\n",
        "          ('lin', nn.Linear(emb_size, NUM_CLASSES)),\n",
        "          ('leaky_relu2', nn.LeakyReLU(0.3))\n",
        "]))\n",
        "\n",
        "# Use available device for calculations\n",
        "model = model.to(device)"
      ]
    },
    {
      "cell_type": "code",
      "execution_count": null,
      "id": "37836eeb-0ea7-4c78-b6e3-8d84ff75b5d3",
      "metadata": {
        "id": "37836eeb-0ea7-4c78-b6e3-8d84ff75b5d3",
        "outputId": "ef683546-aaed-44fe-99b9-b4b27be20d70"
      },
      "outputs": [
        {
          "name": "stdout",
          "output_type": "stream",
          "text": [
            "mkdir: cannot create directory ‘./models’: File exists\n"
          ]
        }
      ],
      "source": [
        "!mkdir ./models\n",
        "CHECKPOINT_PATH = \"./models/save3\""
      ]
    },
    {
      "cell_type": "code",
      "execution_count": null,
      "id": "3c05e332-2abd-444d-940a-83286e34ace3",
      "metadata": {
        "id": "3c05e332-2abd-444d-940a-83286e34ace3"
      },
      "outputs": [],
      "source": [
        "# torch.save(model.state_dict(),CHECKPOINT_PATH)\n",
        "# model.load_state_dict(torch.load(CHECKPOINT_PATH))\n",
        "# model = model.to(device)"
      ]
    },
    {
      "cell_type": "code",
      "execution_count": null,
      "id": "b270d01a-7c11-46ce-9153-69684b9afdd6",
      "metadata": {
        "id": "b270d01a-7c11-46ce-9153-69684b9afdd6"
      },
      "outputs": [],
      "source": [
        "# model(it[0].to(device)).shape"
      ]
    },
    {
      "cell_type": "markdown",
      "id": "63897426-99dc-4d3e-bf96-0c830e52426f",
      "metadata": {
        "id": "63897426-99dc-4d3e-bf96-0c830e52426f"
      },
      "source": [
        "## tensorboard"
      ]
    },
    {
      "cell_type": "code",
      "execution_count": null,
      "id": "5c3ad366-70fd-4921-b558-23f45866b549",
      "metadata": {
        "id": "5c3ad366-70fd-4921-b558-23f45866b549"
      },
      "outputs": [],
      "source": [
        "# !rm -r ./runs/log"
      ]
    },
    {
      "cell_type": "code",
      "execution_count": null,
      "id": "8ce144e0-033d-4b79-aee8-fea5752fec10",
      "metadata": {
        "id": "8ce144e0-033d-4b79-aee8-fea5752fec10"
      },
      "outputs": [],
      "source": [
        "# from torch.utils.tensorboard import SummaryWriter\n",
        "# writer = SummaryWriter('runs/log')"
      ]
    },
    {
      "cell_type": "code",
      "execution_count": null,
      "id": "70d436e2-0058-4540-aa2e-a14c093e28ff",
      "metadata": {
        "id": "70d436e2-0058-4540-aa2e-a14c093e28ff"
      },
      "outputs": [],
      "source": [
        "# %reload_ext tensorboard\n",
        "# %tensorboard --logdir=./runs --bind_all --port=6007# bind_all for remoted python\n",
        "# # or use http://tpls-sgmta00001.sigma.sbrf.ru:6006/"
      ]
    },
    {
      "cell_type": "markdown",
      "id": "ce9ae98c-4779-4f04-814d-d6d8a974052b",
      "metadata": {
        "id": "ce9ae98c-4779-4f04-814d-d6d8a974052b"
      },
      "source": [
        "## training"
      ]
    },
    {
      "cell_type": "code",
      "execution_count": null,
      "id": "23e3c8f8-ca29-4235-b08f-8552095272b8",
      "metadata": {
        "id": "23e3c8f8-ca29-4235-b08f-8552095272b8"
      },
      "outputs": [],
      "source": [
        "from IPython.display import clear_output\n",
        "import time\n",
        "from sklearn.metrics import accuracy_score\n",
        "\n",
        "def fit(model, epochs, lr):\n",
        "    torch.cuda.empty_cache()\n",
        "    \n",
        "    opt = torch.optim.Adam(model.parameters(), lr=lr, betas=(0.5, 0.999))\n",
        "    train_losses = []\n",
        "    accuracy = []\n",
        "    start = time.time()\n",
        "    i=0\n",
        "    flag = False\n",
        "    for epoch in range(epochs):\n",
        "        model.train(True)\n",
        "        for img, label, images_filepaths in tqdm(train_loader):\n",
        "            clear_output(True)\n",
        "            img = img.to(device)\n",
        "            label = label.to(device)\n",
        "            opt.zero_grad()\n",
        "            preds = model(img).to(device)\n",
        "            ce_loss = nn.CrossEntropyLoss()\n",
        "            loss = ce_loss(preds, label)\n",
        "            loss.backward()\n",
        "            opt.step()\n",
        "            tmp_loss = loss.item()\n",
        "            train_losses.append(tmp_loss)\n",
        "            \n",
        "            end = time.time() - start\n",
        "            \n",
        "            acc = accuracy_score(label.cpu(), np.argmax(preds.cpu().detach().numpy(), axis=1))\n",
        "            accuracy.append(acc)\n",
        "            \n",
        "            # if i%10==1:\n",
        "            plt.plot(np.arange(0, len(train_losses)), train_losses, label=f'spent_time={end}, ep={epoch}')\n",
        "            plt.legend()\n",
        "            plt.show()\n",
        "\n",
        "            plt.plot(np.arange(0, len(accuracy)), accuracy, label='accuracy')\n",
        "            plt.legend()\n",
        "            plt.show()\n",
        "            \n",
        "            if (np.mean(accuracy[-5:])>0.75):\n",
        "                flag = True\n",
        "            \n",
        "            i+=1\n",
        "        \n",
        "        torch.save(model.state_dict(),CHECKPOINT_PATH)\n",
        "        if flag == True:\n",
        "            break\n",
        "    model.train(False)\n",
        "    return model"
      ]
    },
    {
      "cell_type": "code",
      "execution_count": null,
      "id": "03950bf6-1308-4d80-b633-05887c880f9c",
      "metadata": {
        "id": "03950bf6-1308-4d80-b633-05887c880f9c",
        "outputId": "836532bb-0953-4a33-f995-0c57c676d9c5"
      },
      "outputs": [
        {
          "data": {
            "image/png": "[encoded data removed]",
            "text/plain": [
              "<Figure size 432x288 with 1 Axes>"
            ]
          },
          "metadata": {
            "needs_background": "light"
          },
          "output_type": "display_data"
        },
        {
          "data": {
            "image/png": "[encoded data removed]",
            "text/plain": [
              "<Figure size 432x288 with 1 Axes>"
            ]
          },
          "metadata": {
            "needs_background": "light"
          },
          "output_type": "display_data"
        },
        {
          "name": "stderr",
          "output_type": "stream",
          "text": [
            "  6%|▌         | 52/917 [01:56<32:10,  2.23s/it]\n"
          ]
        },
        {
          "ename": "KeyboardInterrupt",
          "evalue": "",
          "output_type": "error",
          "traceback": [
            "\u001b[0;31m---------------------------------------------------------------------------\u001b[0m",
            "\u001b[0;31mKeyboardInterrupt\u001b[0m                         Traceback (most recent call last)",
            "\u001b[0;32m/tmp/ipykernel_8170/566307639.py\u001b[0m in \u001b[0;36m<module>\u001b[0;34m\u001b[0m\n\u001b[1;32m      1\u001b[0m \u001b[0mEPOCH_NUM\u001b[0m\u001b[0;34m=\u001b[0m\u001b[0;36m100\u001b[0m\u001b[0;34m\u001b[0m\u001b[0;34m\u001b[0m\u001b[0m\n\u001b[0;32m----> 2\u001b[0;31m \u001b[0mmodel\u001b[0m \u001b[0;34m=\u001b[0m \u001b[0mfit\u001b[0m\u001b[0;34m(\u001b[0m\u001b[0mmodel\u001b[0m\u001b[0;34m,\u001b[0m \u001b[0mEPOCH_NUM\u001b[0m \u001b[0;34m,\u001b[0m \u001b[0mlr\u001b[0m\u001b[0;34m=\u001b[0m\u001b[0;36m0.0003\u001b[0m\u001b[0;34m)\u001b[0m\u001b[0;34m\u001b[0m\u001b[0;34m\u001b[0m\u001b[0m\n\u001b[0m",
            "\u001b[0;32m/tmp/ipykernel_8170/1430463498.py\u001b[0m in \u001b[0;36mfit\u001b[0;34m(model, epochs, lr)\u001b[0m\n\u001b[1;32m     14\u001b[0m     \u001b[0;32mfor\u001b[0m \u001b[0mepoch\u001b[0m \u001b[0;32min\u001b[0m \u001b[0mrange\u001b[0m\u001b[0;34m(\u001b[0m\u001b[0mepochs\u001b[0m\u001b[0;34m)\u001b[0m\u001b[0;34m:\u001b[0m\u001b[0;34m\u001b[0m\u001b[0;34m\u001b[0m\u001b[0m\n\u001b[1;32m     15\u001b[0m         \u001b[0mmodel\u001b[0m\u001b[0;34m.\u001b[0m\u001b[0mtrain\u001b[0m\u001b[0;34m(\u001b[0m\u001b[0;32mTrue\u001b[0m\u001b[0;34m)\u001b[0m\u001b[0;34m\u001b[0m\u001b[0;34m\u001b[0m\u001b[0m\n\u001b[0;32m---> 16\u001b[0;31m         \u001b[0;32mfor\u001b[0m \u001b[0mimg\u001b[0m\u001b[0;34m,\u001b[0m \u001b[0mlabel\u001b[0m\u001b[0;34m,\u001b[0m \u001b[0mimages_filepaths\u001b[0m \u001b[0;32min\u001b[0m \u001b[0mtqdm\u001b[0m\u001b[0;34m(\u001b[0m\u001b[0mtrain_loader\u001b[0m\u001b[0;34m)\u001b[0m\u001b[0;34m:\u001b[0m\u001b[0;34m\u001b[0m\u001b[0;34m\u001b[0m\u001b[0m\n\u001b[0m\u001b[1;32m     17\u001b[0m             \u001b[0mclear_output\u001b[0m\u001b[0;34m(\u001b[0m\u001b[0;32mTrue\u001b[0m\u001b[0;34m)\u001b[0m\u001b[0;34m\u001b[0m\u001b[0;34m\u001b[0m\u001b[0m\n\u001b[1;32m     18\u001b[0m             \u001b[0mimg\u001b[0m \u001b[0;34m=\u001b[0m \u001b[0mimg\u001b[0m\u001b[0;34m.\u001b[0m\u001b[0mto\u001b[0m\u001b[0;34m(\u001b[0m\u001b[0mdevice\u001b[0m\u001b[0;34m)\u001b[0m\u001b[0;34m\u001b[0m\u001b[0;34m\u001b[0m\u001b[0m\n",
            "\u001b[0;32m/home/user/conda/lib/python3.7/site-packages/tqdm/std.py\u001b[0m in \u001b[0;36m__iter__\u001b[0;34m(self)\u001b[0m\n\u001b[1;32m   1178\u001b[0m \u001b[0;34m\u001b[0m\u001b[0m\n\u001b[1;32m   1179\u001b[0m         \u001b[0;32mtry\u001b[0m\u001b[0;34m:\u001b[0m\u001b[0;34m\u001b[0m\u001b[0;34m\u001b[0m\u001b[0m\n\u001b[0;32m-> 1180\u001b[0;31m             \u001b[0;32mfor\u001b[0m \u001b[0mobj\u001b[0m \u001b[0;32min\u001b[0m \u001b[0miterable\u001b[0m\u001b[0;34m:\u001b[0m\u001b[0;34m\u001b[0m\u001b[0;34m\u001b[0m\u001b[0m\n\u001b[0m\u001b[1;32m   1181\u001b[0m                 \u001b[0;32myield\u001b[0m \u001b[0mobj\u001b[0m\u001b[0;34m\u001b[0m\u001b[0;34m\u001b[0m\u001b[0m\n\u001b[1;32m   1182\u001b[0m                 \u001b[0;31m# Update and possibly print the progressbar.\u001b[0m\u001b[0;34m\u001b[0m\u001b[0;34m\u001b[0m\u001b[0;34m\u001b[0m\u001b[0m\n",
            "\u001b[0;32m/home/user/conda/lib/python3.7/site-packages/torch/utils/data/dataloader.py\u001b[0m in \u001b[0;36m__next__\u001b[0;34m(self)\u001b[0m\n\u001b[1;32m    361\u001b[0m \u001b[0;34m\u001b[0m\u001b[0m\n\u001b[1;32m    362\u001b[0m     \u001b[0;32mdef\u001b[0m \u001b[0m__next__\u001b[0m\u001b[0;34m(\u001b[0m\u001b[0mself\u001b[0m\u001b[0;34m)\u001b[0m\u001b[0;34m:\u001b[0m\u001b[0;34m\u001b[0m\u001b[0;34m\u001b[0m\u001b[0m\n\u001b[0;32m--> 363\u001b[0;31m         \u001b[0mdata\u001b[0m \u001b[0;34m=\u001b[0m \u001b[0mself\u001b[0m\u001b[0;34m.\u001b[0m\u001b[0m_next_data\u001b[0m\u001b[0;34m(\u001b[0m\u001b[0;34m)\u001b[0m\u001b[0;34m\u001b[0m\u001b[0;34m\u001b[0m\u001b[0m\n\u001b[0m\u001b[1;32m    364\u001b[0m         \u001b[0mself\u001b[0m\u001b[0;34m.\u001b[0m\u001b[0m_num_yielded\u001b[0m \u001b[0;34m+=\u001b[0m \u001b[0;36m1\u001b[0m\u001b[0;34m\u001b[0m\u001b[0;34m\u001b[0m\u001b[0m\n\u001b[1;32m    365\u001b[0m         \u001b[0;32mif\u001b[0m \u001b[0mself\u001b[0m\u001b[0;34m.\u001b[0m\u001b[0m_dataset_kind\u001b[0m \u001b[0;34m==\u001b[0m \u001b[0m_DatasetKind\u001b[0m\u001b[0;34m.\u001b[0m\u001b[0mIterable\u001b[0m \u001b[0;32mand\u001b[0m\u001b[0;31m \u001b[0m\u001b[0;31m\\\u001b[0m\u001b[0;34m\u001b[0m\u001b[0;34m\u001b[0m\u001b[0m\n",
            "\u001b[0;32m/home/user/conda/lib/python3.7/site-packages/torch/utils/data/dataloader.py\u001b[0m in \u001b[0;36m_next_data\u001b[0;34m(self)\u001b[0m\n\u001b[1;32m    972\u001b[0m \u001b[0;34m\u001b[0m\u001b[0m\n\u001b[1;32m    973\u001b[0m             \u001b[0;32massert\u001b[0m \u001b[0;32mnot\u001b[0m \u001b[0mself\u001b[0m\u001b[0;34m.\u001b[0m\u001b[0m_shutdown\u001b[0m \u001b[0;32mand\u001b[0m \u001b[0mself\u001b[0m\u001b[0;34m.\u001b[0m\u001b[0m_tasks_outstanding\u001b[0m \u001b[0;34m>\u001b[0m \u001b[0;36m0\u001b[0m\u001b[0;34m\u001b[0m\u001b[0;34m\u001b[0m\u001b[0m\n\u001b[0;32m--> 974\u001b[0;31m             \u001b[0midx\u001b[0m\u001b[0;34m,\u001b[0m \u001b[0mdata\u001b[0m \u001b[0;34m=\u001b[0m \u001b[0mself\u001b[0m\u001b[0;34m.\u001b[0m\u001b[0m_get_data\u001b[0m\u001b[0;34m(\u001b[0m\u001b[0;34m)\u001b[0m\u001b[0;34m\u001b[0m\u001b[0;34m\u001b[0m\u001b[0m\n\u001b[0m\u001b[1;32m    975\u001b[0m             \u001b[0mself\u001b[0m\u001b[0;34m.\u001b[0m\u001b[0m_tasks_outstanding\u001b[0m \u001b[0;34m-=\u001b[0m \u001b[0;36m1\u001b[0m\u001b[0;34m\u001b[0m\u001b[0;34m\u001b[0m\u001b[0m\n\u001b[1;32m    976\u001b[0m \u001b[0;34m\u001b[0m\u001b[0m\n",
            "\u001b[0;32m/home/user/conda/lib/python3.7/site-packages/torch/utils/data/dataloader.py\u001b[0m in \u001b[0;36m_get_data\u001b[0;34m(self)\u001b[0m\n\u001b[1;32m    939\u001b[0m         \u001b[0;32melse\u001b[0m\u001b[0;34m:\u001b[0m\u001b[0;34m\u001b[0m\u001b[0;34m\u001b[0m\u001b[0m\n\u001b[1;32m    940\u001b[0m             \u001b[0;32mwhile\u001b[0m \u001b[0;32mTrue\u001b[0m\u001b[0;34m:\u001b[0m\u001b[0;34m\u001b[0m\u001b[0;34m\u001b[0m\u001b[0m\n\u001b[0;32m--> 941\u001b[0;31m                 \u001b[0msuccess\u001b[0m\u001b[0;34m,\u001b[0m \u001b[0mdata\u001b[0m \u001b[0;34m=\u001b[0m \u001b[0mself\u001b[0m\u001b[0;34m.\u001b[0m\u001b[0m_try_get_data\u001b[0m\u001b[0;34m(\u001b[0m\u001b[0;34m)\u001b[0m\u001b[0;34m\u001b[0m\u001b[0;34m\u001b[0m\u001b[0m\n\u001b[0m\u001b[1;32m    942\u001b[0m                 \u001b[0;32mif\u001b[0m \u001b[0msuccess\u001b[0m\u001b[0;34m:\u001b[0m\u001b[0;34m\u001b[0m\u001b[0;34m\u001b[0m\u001b[0m\n\u001b[1;32m    943\u001b[0m                     \u001b[0;32mreturn\u001b[0m \u001b[0mdata\u001b[0m\u001b[0;34m\u001b[0m\u001b[0;34m\u001b[0m\u001b[0m\n",
            "\u001b[0;32m/home/user/conda/lib/python3.7/site-packages/torch/utils/data/dataloader.py\u001b[0m in \u001b[0;36m_try_get_data\u001b[0;34m(self, timeout)\u001b[0m\n\u001b[1;32m    777\u001b[0m         \u001b[0;31m#   (bool: whether successfully get data, any: data if successful else None)\u001b[0m\u001b[0;34m\u001b[0m\u001b[0;34m\u001b[0m\u001b[0;34m\u001b[0m\u001b[0m\n\u001b[1;32m    778\u001b[0m         \u001b[0;32mtry\u001b[0m\u001b[0;34m:\u001b[0m\u001b[0;34m\u001b[0m\u001b[0;34m\u001b[0m\u001b[0m\n\u001b[0;32m--> 779\u001b[0;31m             \u001b[0mdata\u001b[0m \u001b[0;34m=\u001b[0m \u001b[0mself\u001b[0m\u001b[0;34m.\u001b[0m\u001b[0m_data_queue\u001b[0m\u001b[0;34m.\u001b[0m\u001b[0mget\u001b[0m\u001b[0;34m(\u001b[0m\u001b[0mtimeout\u001b[0m\u001b[0;34m=\u001b[0m\u001b[0mtimeout\u001b[0m\u001b[0;34m)\u001b[0m\u001b[0;34m\u001b[0m\u001b[0;34m\u001b[0m\u001b[0m\n\u001b[0m\u001b[1;32m    780\u001b[0m             \u001b[0;32mreturn\u001b[0m \u001b[0;34m(\u001b[0m\u001b[0;32mTrue\u001b[0m\u001b[0;34m,\u001b[0m \u001b[0mdata\u001b[0m\u001b[0;34m)\u001b[0m\u001b[0;34m\u001b[0m\u001b[0;34m\u001b[0m\u001b[0m\n\u001b[1;32m    781\u001b[0m         \u001b[0;32mexcept\u001b[0m \u001b[0mException\u001b[0m \u001b[0;32mas\u001b[0m \u001b[0me\u001b[0m\u001b[0;34m:\u001b[0m\u001b[0;34m\u001b[0m\u001b[0;34m\u001b[0m\u001b[0m\n",
            "\u001b[0;32m/home/user/conda/lib/python3.7/multiprocessing/queues.py\u001b[0m in \u001b[0;36mget\u001b[0;34m(self, block, timeout)\u001b[0m\n\u001b[1;32m    102\u001b[0m                 \u001b[0;32mif\u001b[0m \u001b[0mblock\u001b[0m\u001b[0;34m:\u001b[0m\u001b[0;34m\u001b[0m\u001b[0;34m\u001b[0m\u001b[0m\n\u001b[1;32m    103\u001b[0m                     \u001b[0mtimeout\u001b[0m \u001b[0;34m=\u001b[0m \u001b[0mdeadline\u001b[0m \u001b[0;34m-\u001b[0m \u001b[0mtime\u001b[0m\u001b[0;34m.\u001b[0m\u001b[0mmonotonic\u001b[0m\u001b[0;34m(\u001b[0m\u001b[0;34m)\u001b[0m\u001b[0;34m\u001b[0m\u001b[0;34m\u001b[0m\u001b[0m\n\u001b[0;32m--> 104\u001b[0;31m                     \u001b[0;32mif\u001b[0m \u001b[0;32mnot\u001b[0m \u001b[0mself\u001b[0m\u001b[0;34m.\u001b[0m\u001b[0m_poll\u001b[0m\u001b[0;34m(\u001b[0m\u001b[0mtimeout\u001b[0m\u001b[0;34m)\u001b[0m\u001b[0;34m:\u001b[0m\u001b[0;34m\u001b[0m\u001b[0;34m\u001b[0m\u001b[0m\n\u001b[0m\u001b[1;32m    105\u001b[0m                         \u001b[0;32mraise\u001b[0m \u001b[0mEmpty\u001b[0m\u001b[0;34m\u001b[0m\u001b[0;34m\u001b[0m\u001b[0m\n\u001b[1;32m    106\u001b[0m                 \u001b[0;32melif\u001b[0m \u001b[0;32mnot\u001b[0m \u001b[0mself\u001b[0m\u001b[0;34m.\u001b[0m\u001b[0m_poll\u001b[0m\u001b[0;34m(\u001b[0m\u001b[0;34m)\u001b[0m\u001b[0;34m:\u001b[0m\u001b[0;34m\u001b[0m\u001b[0;34m\u001b[0m\u001b[0m\n",
            "\u001b[0;32m/home/user/conda/lib/python3.7/multiprocessing/connection.py\u001b[0m in \u001b[0;36mpoll\u001b[0;34m(self, timeout)\u001b[0m\n\u001b[1;32m    255\u001b[0m         \u001b[0mself\u001b[0m\u001b[0;34m.\u001b[0m\u001b[0m_check_closed\u001b[0m\u001b[0;34m(\u001b[0m\u001b[0;34m)\u001b[0m\u001b[0;34m\u001b[0m\u001b[0;34m\u001b[0m\u001b[0m\n\u001b[1;32m    256\u001b[0m         \u001b[0mself\u001b[0m\u001b[0;34m.\u001b[0m\u001b[0m_check_readable\u001b[0m\u001b[0;34m(\u001b[0m\u001b[0;34m)\u001b[0m\u001b[0;34m\u001b[0m\u001b[0;34m\u001b[0m\u001b[0m\n\u001b[0;32m--> 257\u001b[0;31m         \u001b[0;32mreturn\u001b[0m \u001b[0mself\u001b[0m\u001b[0;34m.\u001b[0m\u001b[0m_poll\u001b[0m\u001b[0;34m(\u001b[0m\u001b[0mtimeout\u001b[0m\u001b[0;34m)\u001b[0m\u001b[0;34m\u001b[0m\u001b[0;34m\u001b[0m\u001b[0m\n\u001b[0m\u001b[1;32m    258\u001b[0m \u001b[0;34m\u001b[0m\u001b[0m\n\u001b[1;32m    259\u001b[0m     \u001b[0;32mdef\u001b[0m \u001b[0m__enter__\u001b[0m\u001b[0;34m(\u001b[0m\u001b[0mself\u001b[0m\u001b[0;34m)\u001b[0m\u001b[0;34m:\u001b[0m\u001b[0;34m\u001b[0m\u001b[0;34m\u001b[0m\u001b[0m\n",
            "\u001b[0;32m/home/user/conda/lib/python3.7/multiprocessing/connection.py\u001b[0m in \u001b[0;36m_poll\u001b[0;34m(self, timeout)\u001b[0m\n\u001b[1;32m    412\u001b[0m \u001b[0;34m\u001b[0m\u001b[0m\n\u001b[1;32m    413\u001b[0m     \u001b[0;32mdef\u001b[0m \u001b[0m_poll\u001b[0m\u001b[0;34m(\u001b[0m\u001b[0mself\u001b[0m\u001b[0;34m,\u001b[0m \u001b[0mtimeout\u001b[0m\u001b[0;34m)\u001b[0m\u001b[0;34m:\u001b[0m\u001b[0;34m\u001b[0m\u001b[0;34m\u001b[0m\u001b[0m\n\u001b[0;32m--> 414\u001b[0;31m         \u001b[0mr\u001b[0m \u001b[0;34m=\u001b[0m \u001b[0mwait\u001b[0m\u001b[0;34m(\u001b[0m\u001b[0;34m[\u001b[0m\u001b[0mself\u001b[0m\u001b[0;34m]\u001b[0m\u001b[0;34m,\u001b[0m \u001b[0mtimeout\u001b[0m\u001b[0;34m)\u001b[0m\u001b[0;34m\u001b[0m\u001b[0;34m\u001b[0m\u001b[0m\n\u001b[0m\u001b[1;32m    415\u001b[0m         \u001b[0;32mreturn\u001b[0m \u001b[0mbool\u001b[0m\u001b[0;34m(\u001b[0m\u001b[0mr\u001b[0m\u001b[0;34m)\u001b[0m\u001b[0;34m\u001b[0m\u001b[0;34m\u001b[0m\u001b[0m\n\u001b[1;32m    416\u001b[0m \u001b[0;34m\u001b[0m\u001b[0m\n",
            "\u001b[0;32m/home/user/conda/lib/python3.7/multiprocessing/connection.py\u001b[0m in \u001b[0;36mwait\u001b[0;34m(object_list, timeout)\u001b[0m\n\u001b[1;32m    919\u001b[0m \u001b[0;34m\u001b[0m\u001b[0m\n\u001b[1;32m    920\u001b[0m             \u001b[0;32mwhile\u001b[0m \u001b[0;32mTrue\u001b[0m\u001b[0;34m:\u001b[0m\u001b[0;34m\u001b[0m\u001b[0;34m\u001b[0m\u001b[0m\n\u001b[0;32m--> 921\u001b[0;31m                 \u001b[0mready\u001b[0m \u001b[0;34m=\u001b[0m \u001b[0mselector\u001b[0m\u001b[0;34m.\u001b[0m\u001b[0mselect\u001b[0m\u001b[0;34m(\u001b[0m\u001b[0mtimeout\u001b[0m\u001b[0;34m)\u001b[0m\u001b[0;34m\u001b[0m\u001b[0;34m\u001b[0m\u001b[0m\n\u001b[0m\u001b[1;32m    922\u001b[0m                 \u001b[0;32mif\u001b[0m \u001b[0mready\u001b[0m\u001b[0;34m:\u001b[0m\u001b[0;34m\u001b[0m\u001b[0;34m\u001b[0m\u001b[0m\n\u001b[1;32m    923\u001b[0m                     \u001b[0;32mreturn\u001b[0m \u001b[0;34m[\u001b[0m\u001b[0mkey\u001b[0m\u001b[0;34m.\u001b[0m\u001b[0mfileobj\u001b[0m \u001b[0;32mfor\u001b[0m \u001b[0;34m(\u001b[0m\u001b[0mkey\u001b[0m\u001b[0;34m,\u001b[0m \u001b[0mevents\u001b[0m\u001b[0;34m)\u001b[0m \u001b[0;32min\u001b[0m \u001b[0mready\u001b[0m\u001b[0;34m]\u001b[0m\u001b[0;34m\u001b[0m\u001b[0;34m\u001b[0m\u001b[0m\n",
            "\u001b[0;32m/home/user/conda/lib/python3.7/selectors.py\u001b[0m in \u001b[0;36mselect\u001b[0;34m(self, timeout)\u001b[0m\n\u001b[1;32m    413\u001b[0m         \u001b[0mready\u001b[0m \u001b[0;34m=\u001b[0m \u001b[0;34m[\u001b[0m\u001b[0;34m]\u001b[0m\u001b[0;34m\u001b[0m\u001b[0;34m\u001b[0m\u001b[0m\n\u001b[1;32m    414\u001b[0m         \u001b[0;32mtry\u001b[0m\u001b[0;34m:\u001b[0m\u001b[0;34m\u001b[0m\u001b[0;34m\u001b[0m\u001b[0m\n\u001b[0;32m--> 415\u001b[0;31m             \u001b[0mfd_event_list\u001b[0m \u001b[0;34m=\u001b[0m \u001b[0mself\u001b[0m\u001b[0;34m.\u001b[0m\u001b[0m_selector\u001b[0m\u001b[0;34m.\u001b[0m\u001b[0mpoll\u001b[0m\u001b[0;34m(\u001b[0m\u001b[0mtimeout\u001b[0m\u001b[0;34m)\u001b[0m\u001b[0;34m\u001b[0m\u001b[0;34m\u001b[0m\u001b[0m\n\u001b[0m\u001b[1;32m    416\u001b[0m         \u001b[0;32mexcept\u001b[0m \u001b[0mInterruptedError\u001b[0m\u001b[0;34m:\u001b[0m\u001b[0;34m\u001b[0m\u001b[0;34m\u001b[0m\u001b[0m\n\u001b[1;32m    417\u001b[0m             \u001b[0;32mreturn\u001b[0m \u001b[0mready\u001b[0m\u001b[0;34m\u001b[0m\u001b[0;34m\u001b[0m\u001b[0m\n",
            "\u001b[0;31mKeyboardInterrupt\u001b[0m: "
          ]
        }
      ],
      "source": [
        "EPOCH_NUM=100\n",
        "model = fit(model, EPOCH_NUM , lr=0.0003)"
      ]
    },
    {
      "cell_type": "code",
      "execution_count": null,
      "id": "9449818f-329d-4676-93d5-2b007450bb88",
      "metadata": {
        "id": "9449818f-329d-4676-93d5-2b007450bb88"
      },
      "outputs": [],
      "source": [
        "torch.save(model.state_dict(),CHECKPOINT_PATH)"
      ]
    },
    {
      "cell_type": "code",
      "execution_count": null,
      "id": "c4ce9382-9d76-4e40-81aa-146f91435279",
      "metadata": {
        "id": "c4ce9382-9d76-4e40-81aa-146f91435279"
      },
      "outputs": [],
      "source": [
        "model.load_state_dict(torch.load(CHECKPOINT_PATH))\n",
        "model = model.to(device)"
      ]
    },
    {
      "cell_type": "markdown",
      "id": "3b20fc0a-9700-485f-949c-ea88ecc4b28d",
      "metadata": {
        "id": "3b20fc0a-9700-485f-949c-ea88ecc4b28d"
      },
      "source": [
        "# Make embeddings"
      ]
    },
    {
      "cell_type": "code",
      "execution_count": null,
      "id": "7c5c78b6-d08a-4d2f-8bee-912cf903b99e",
      "metadata": {
        "id": "7c5c78b6-d08a-4d2f-8bee-912cf903b99e",
        "outputId": "7daa2d03-1bad-4b50-b619-ba487410e6b1"
      },
      "outputs": [
        {
          "name": "stderr",
          "output_type": "stream",
          "text": [
            " 59%|█████▉    | 249/421 [08:11<07:46,  2.71s/it]"
          ]
        },
        {
          "name": "stdout",
          "output_type": "stream",
          "text": [
            "aaaaa: ./../H&M/images/061/0616100001.jpg\n"
          ]
        },
        {
          "name": "stderr",
          "output_type": "stream",
          "text": [
            " 90%|████████▉ | 378/421 [12:22<01:28,  2.07s/it]"
          ]
        }
      ],
      "source": [
        "df = np.zeros((len(test_dataset.images_filepaths), emb_size+1))\n",
        "i=0\n",
        "for img, label, images_filepaths in tqdm(emb_train_loader):\n",
        "    img = img.to(device)\n",
        "    preds = model.efficientnet(img).cpu().detach().numpy()\n",
        "    \n",
        "    for k in range(img.shape[0]):\n",
        "        df[i*BATCH_SIZE + k, 0] = int(images_filepaths[k])\n",
        "        for m in range(emb_size):\n",
        "            df[i*BATCH_SIZE + k, m+1] = preds[k,m:m+1][0]\n",
        "    i+=1\n",
        "    \n",
        "df = pd.DataFrame(df)\n",
        "print(df.shape)\n",
        "df.head()"
      ]
    },
    {
      "cell_type": "code",
      "execution_count": null,
      "id": "4e4b8dbb-7789-445d-9354-12c178bcd165",
      "metadata": {
        "id": "4e4b8dbb-7789-445d-9354-12c178bcd165"
      },
      "outputs": [],
      "source": [
        "df"
      ]
    },
    {
      "cell_type": "code",
      "execution_count": null,
      "id": "58828acc-c991-48f6-a742-30ccde52a6a2",
      "metadata": {
        "id": "58828acc-c991-48f6-a742-30ccde52a6a2"
      },
      "outputs": [],
      "source": [
        "df.to_csv('./checkpoint3.csv')"
      ]
    }
  ],
  "metadata": {
    "kernelspec": {
      "display_name": "Python 3 (ipykernel)",
      "language": "python",
      "name": "python3"
    },
    "language_info": {
      "codemirror_mode": {
        "name": "ipython",
        "version": 3
      },
      "file_extension": ".py",
      "mimetype": "text/x-python",
      "name": "python",
      "nbconvert_exporter": "python",
      "pygments_lexer": "ipython3",
      "version": "3.7.12"
    },
    "colab": {
      "name": "graphical_appearance_no.ipynb",
      "provenance": [],
      "include_colab_link": true
    }
  },
  "nbformat": 4,
  "nbformat_minor": 5
}
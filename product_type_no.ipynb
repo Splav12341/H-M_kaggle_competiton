{
  "cells": [
    {
      "cell_type": "markdown",
      "metadata": {
        "id": "view-in-github",
        "colab_type": "text"
      },
      "source": [
        "<a href=\"https://colab.research.google.com/github/Splav12341/H-M_kaggle_competiton/blob/main/product_type_no.ipynb\" target=\"_parent\"><img src=\"https://colab.research.google.com/assets/colab-badge.svg\" alt=\"Open In Colab\"/></a>"
      ]
    },
    {
      "cell_type": "code",
      "execution_count": null,
      "id": "2c652aa4-5be1-4d06-9bc0-766664397d2f",
      "metadata": {
        "id": "2c652aa4-5be1-4d06-9bc0-766664397d2f"
      },
      "outputs": [],
      "source": [
        "import torch\n",
        "from torchvision import transforms\n",
        "import torchvision\n",
        "import torch.nn as nn\n",
        "import torch.nn.functional as F\n",
        "\n",
        "from matplotlib import pyplot as plt\n",
        "import numpy as np\n",
        "import time\n",
        "from collections import defaultdict\n",
        "from tqdm import tqdm\n",
        "\n",
        "import os\n",
        "device = torch.device(\"cuda\") if torch.cuda.is_available() else torch.device(\"cpu\")"
      ]
    },
    {
      "cell_type": "code",
      "execution_count": null,
      "id": "5431607a-d5ee-4a1b-85d7-3e77c941880a",
      "metadata": {
        "id": "5431607a-d5ee-4a1b-85d7-3e77c941880a",
        "outputId": "1f9ead72-a21f-4443-de50-2c4dcf1c9d72"
      },
      "outputs": [
        {
          "data": {
            "text/plain": [
              "device(type='cuda')"
            ]
          },
          "execution_count": 4,
          "metadata": {},
          "output_type": "execute_result"
        }
      ],
      "source": [
        "device"
      ]
    },
    {
      "cell_type": "code",
      "execution_count": null,
      "id": "0a3e87e5-adcb-40b6-a50e-a35f97de1128",
      "metadata": {
        "id": "0a3e87e5-adcb-40b6-a50e-a35f97de1128",
        "outputId": "d93dbac4-566f-45cf-c963-fd118b790f3a"
      },
      "outputs": [
        {
          "data": {
            "text/plain": [
              "True"
            ]
          },
          "execution_count": 5,
          "metadata": {},
          "output_type": "execute_result"
        }
      ],
      "source": [
        "torch.cuda.is_available()"
      ]
    },
    {
      "cell_type": "code",
      "execution_count": null,
      "id": "7c9d6fe1-59ca-41de-83d1-4cd1e348a2f7",
      "metadata": {
        "id": "7c9d6fe1-59ca-41de-83d1-4cd1e348a2f7",
        "outputId": "2955e141-ccf0-4fdf-c275-0e3401f8c264"
      },
      "outputs": [
        {
          "name": "stdout",
          "output_type": "stream",
          "text": [
            "Wed Apr 27 17:50:43 2022       \n",
            "+-----------------------------------------------------------------------------+\n",
            "| NVIDIA-SMI 410.129      Driver Version: 410.129      CUDA Version: 10.1     |\n",
            "|-------------------------------+----------------------+----------------------+\n",
            "| GPU  Name        Persistence-M| Bus-Id        Disp.A | Volatile Uncorr. ECC |\n",
            "| Fan  Temp  Perf  Pwr:Usage/Cap|         Memory-Usage | GPU-Util  Compute M. |\n",
            "|===============================+======================+======================|\n",
            "|   0  Tesla V100-SXM3...  On   | 00000000:59:00.0 Off |                    0 |\n",
            "| N/A   35C    P0    49W / 312W |     13MiB / 32480MiB |      0%      Default |\n",
            "+-------------------------------+----------------------+----------------------+\n",
            "                                                                               \n",
            "+-----------------------------------------------------------------------------+\n",
            "| Processes:                                                       GPU Memory |\n",
            "|  GPU       PID   Type   Process name                             Usage      |\n",
            "|=============================================================================|\n",
            "|  No running processes found                                                 |\n",
            "+-----------------------------------------------------------------------------+\n"
          ]
        }
      ],
      "source": [
        "!nvidia-smi"
      ]
    },
    {
      "cell_type": "code",
      "execution_count": null,
      "id": "656a5395-714b-40ee-92b7-ec034966c90e",
      "metadata": {
        "id": "656a5395-714b-40ee-92b7-ec034966c90e"
      },
      "outputs": [],
      "source": [
        "DATA_PATH = r\"./../H&M/images\"\n",
        "\n",
        "NUM_WORKERS = 8\n",
        "SIZE_H = SIZE_W = 256\n",
        "\n",
        "EPOCH_NUM = 30\n",
        "BATCH_SIZE = 250\n",
        "\n",
        "# Images mean and std channelwise\n",
        "image_mean = [0.485, 0.456, 0.406]\n",
        "image_std  = [0.229, 0.224, 0.225]"
      ]
    },
    {
      "cell_type": "code",
      "execution_count": null,
      "id": "869aa9a0-fd71-4a40-a1a2-c3097f111621",
      "metadata": {
        "id": "869aa9a0-fd71-4a40-a1a2-c3097f111621"
      },
      "outputs": [],
      "source": [
        "transformer = transforms.Compose([\n",
        "    transforms.Resize((SIZE_H, SIZE_W)),        # scaling images to fixed size\n",
        "    transforms.ToTensor(),                      # converting to tensors\n",
        "    transforms.Normalize(image_mean, image_std) # normalize image data per-channel\n",
        "])"
      ]
    },
    {
      "cell_type": "code",
      "execution_count": null,
      "id": "aefe1335-5ebc-4d88-8d50-076fc5ff7735",
      "metadata": {
        "id": "aefe1335-5ebc-4d88-8d50-076fc5ff7735"
      },
      "outputs": [],
      "source": [
        "import cv2\n",
        "from PIL import Image\n",
        "from torch.utils.data import Dataset, DataLoader, Subset"
      ]
    },
    {
      "cell_type": "code",
      "execution_count": null,
      "id": "3c22af6a-0f43-4d41-b909-374d37312107",
      "metadata": {
        "id": "3c22af6a-0f43-4d41-b909-374d37312107"
      },
      "outputs": [],
      "source": [
        "import pandas as pd\n",
        "df = pd.read_csv('./../H&M/articles.csv')\n",
        "df = df.astype({'article_id': 'str'})"
      ]
    },
    {
      "cell_type": "markdown",
      "id": "e4d9164f-d2d3-450a-a0f8-6dbf00678613",
      "metadata": {
        "id": "e4d9164f-d2d3-450a-a0f8-6dbf00678613"
      },
      "source": [
        "# Make Dataset"
      ]
    },
    {
      "cell_type": "code",
      "execution_count": null,
      "id": "87050e5b-a739-41ed-b842-cac37002b8e0",
      "metadata": {
        "id": "87050e5b-a739-41ed-b842-cac37002b8e0"
      },
      "outputs": [],
      "source": [
        "class DatasetImageFolder(torch.utils.data.Dataset):\n",
        "    def __init__(self, DATA_PATH: str, df, transform):\n",
        "        super(DatasetImageFolder, self).__init__()\n",
        "        self.root = DATA_PATH\n",
        "        self.transform = transform\n",
        "        self.class_names = []\n",
        "        self.images_filepaths = []\n",
        " \n",
        "        for directory in tqdm(sorted(os.listdir(os.path.join(DATA_PATH)))):\n",
        "            for fname in os.listdir(os.path.join(DATA_PATH + '/' + directory)):\n",
        "                for row in df.values:\n",
        "                    if fname[1:-4] == row[0]:\n",
        "                        self.images_filepaths.append(row[0])\n",
        "                        self.class_names.append(row[1])\n",
        "                        df = df.drop(df[df.article_id == row[0]].index)\n",
        "                        break\n",
        "                        \n",
        "        self.target_dict = dict()\n",
        "        for idx, label in enumerate(np.unique(self.class_names)):\n",
        "            self.target_dict[label] = idx\n",
        "\n",
        "    def __len__(self):\n",
        "        return len(self.images_filepaths)\n",
        " \n",
        "    def __getitem__(self, idx):\n",
        "        \n",
        "        image_filepath = ('./../H&M/images/' + '0' + str(test_dataset.images_filepaths[idx])[:2] + '/0' + \n",
        "                                str(test_dataset.images_filepaths[idx]) +'.jpg')\n",
        "        image = Image.open(image_filepath)\n",
        "     \n",
        "        label = torch.tensor(self.target_dict[self.class_names[idx]])\n",
        "        try:\n",
        "            image = self.transform(image)\n",
        "        except RuntimeError:\n",
        "            print('aaaaa:', image_filepath)\n",
        "            \n",
        "            image = torch.zeros((3, 256, 256))\n",
        "            label = torch.tensor(0)\n",
        "        return image, label, self.images_filepaths[idx]"
      ]
    },
    {
      "cell_type": "code",
      "execution_count": null,
      "id": "b011dc5b-b116-4164-a462-f81d75772eff",
      "metadata": {
        "id": "b011dc5b-b116-4164-a462-f81d75772eff",
        "outputId": "c094ccfa-ee3d-4af1-e4af-7e3c7400d0b9"
      },
      "outputs": [
        {
          "name": "stderr",
          "output_type": "stream",
          "text": [
            "100%|██████████| 86/86 [11:50<00:00,  8.26s/it]\n"
          ]
        }
      ],
      "source": [
        "column = 'product_type_no'\n",
        "test_dataset = DatasetImageFolder(DATA_PATH, df[['article_id', column]], transformer)"
      ]
    },
    {
      "cell_type": "markdown",
      "id": "8ca970d3-67f0-4580-ab86-c9616506c083",
      "metadata": {
        "id": "8ca970d3-67f0-4580-ab86-c9616506c083"
      },
      "source": [
        "## pseudo balance classes"
      ]
    },
    {
      "cell_type": "code",
      "execution_count": null,
      "id": "c62a6fd3-4047-4c07-a047-d49c5e5ab778",
      "metadata": {
        "id": "c62a6fd3-4047-4c07-a047-d49c5e5ab778"
      },
      "outputs": [],
      "source": [
        "unique, counts = np.unique(test_dataset.class_names, return_counts=True)"
      ]
    },
    {
      "cell_type": "code",
      "execution_count": null,
      "id": "b36cc874-d8f8-473f-a9d9-aa8b1180c3e9",
      "metadata": {
        "id": "b36cc874-d8f8-473f-a9d9-aa8b1180c3e9",
        "outputId": "a621537b-361b-4790-ec25-3b8528c574b3"
      },
      "outputs": [
        {
          "data": {
            "text/plain": [
              "array([  121,    48,   662,  1305,    50,  1273,   449,   172,   572,\n",
              "        1154,   366,   242,   235,   836,  1343,   390,   563,  1017,\n",
              "         236,  1013,   575,   140,    26,    77,    73,   346,  1028,\n",
              "         123,   383,   186,   733,   200,   244,  1573,   113,     3,\n",
              "          45,    31,     4,   159,    45,    22,    15,     6,    22,\n",
              "          20,  1546,  9295,  2979,  4152,  7880,   911,   448,  3975,\n",
              "        3403,    73,   154,  3940,   460,  1108, 10348,  1147,   309,\n",
              "        1319,    64, 11150,  1875,  3926,  2689,   130,    89,   172,\n",
              "           7,    19,  2725,    30,    47,    19,     1,   171,   387,\n",
              "         220,  1120,   850,   192,    66,  1880,     7,   544,   136,\n",
              "        2210,    96,  2356,    13,     1,     1,     1,     2,     1,\n",
              "          10,     6,     1,     5,     2,     2,     9,     1,     1,\n",
              "           2,     1,     1,     7,     6,    56,     3,     3,     7,\n",
              "          13,    11,    10,     2,     2,    24,     1,     6,     7,\n",
              "           2,     1,     4,     3,     5,     3])"
            ]
          },
          "execution_count": 14,
          "metadata": {},
          "output_type": "execute_result"
        }
      ],
      "source": [
        "counts"
      ]
    },
    {
      "cell_type": "code",
      "execution_count": null,
      "id": "8cf20447-dd26-4557-bf5b-c52c909f5c0c",
      "metadata": {
        "id": "8cf20447-dd26-4557-bf5b-c52c909f5c0c",
        "outputId": "fedeb626-3e89-4118-ec2c-9d7555bf189c"
      },
      "outputs": [
        {
          "data": {
            "text/plain": [
              "array([ -1,  49,  57,  59,  60,  66,  67,  68,  69,  70,  71,  72,  73,\n",
              "        74,  75,  76,  77,  78,  79,  80,  81,  82,  83,  84,  85,  86,\n",
              "        87,  88,  89,  90,  91,  92,  93,  94,  95,  96,  98, 100, 102,\n",
              "       144, 155, 156, 161, 196, 230, 231, 245, 252, 253, 254, 255, 256,\n",
              "       257, 258, 259, 260, 261, 262, 263, 264, 265, 267, 268, 270, 271,\n",
              "       272, 273, 274, 275, 276, 277, 283, 284, 285, 286, 287, 288, 289,\n",
              "       291, 293, 295, 296, 297, 298, 299, 300, 302, 303, 304, 305, 306,\n",
              "       307, 308, 326, 349, 351, 366, 389, 464, 465, 467, 468, 470, 475,\n",
              "       476, 477, 483, 489, 491, 492, 493, 494, 495, 496, 498, 499, 503,\n",
              "       504, 508, 509, 510, 511, 512, 514, 515, 521, 523, 525, 529, 532,\n",
              "       761, 762])"
            ]
          },
          "execution_count": 15,
          "metadata": {},
          "output_type": "execute_result"
        }
      ],
      "source": [
        "unique"
      ]
    },
    {
      "cell_type": "code",
      "execution_count": null,
      "id": "822218be-74b0-4509-9941-f82e741faa10",
      "metadata": {
        "id": "822218be-74b0-4509-9941-f82e741faa10",
        "outputId": "0ba3e3f8-bc90-4cf8-8f9d-f0c856f96241"
      },
      "outputs": [
        {
          "data": {
            "text/plain": [
              "272    11169\n",
              "265    10362\n",
              "252     9302\n",
              "255     7904\n",
              "254     4155\n",
              "       ...  \n",
              "525        1\n",
              "514        1\n",
              "351        1\n",
              "349        1\n",
              "483        1\n",
              "Name: product_type_no, Length: 132, dtype: int64"
            ]
          },
          "execution_count": 16,
          "metadata": {},
          "output_type": "execute_result"
        }
      ],
      "source": [
        "df[column].value_counts()"
      ]
    },
    {
      "cell_type": "markdown",
      "id": "9f600b4a-3c7f-4422-b2da-247fc4355b15",
      "metadata": {
        "id": "9f600b4a-3c7f-4422-b2da-247fc4355b15"
      },
      "source": [
        "## choose balance_number"
      ]
    },
    {
      "cell_type": "code",
      "execution_count": null,
      "id": "4a29ac12-47dc-485f-9c7f-9b306e24f8e8",
      "metadata": {
        "id": "4a29ac12-47dc-485f-9c7f-9b306e24f8e8",
        "outputId": "5bd390b5-1531-4ee0-a31a-756e3b272456"
      },
      "outputs": [
        {
          "name": "stdout",
          "output_type": "stream",
          "text": [
            "{-1: 8, 49: 20, 57: 1, 59: 0, 60: 20, 66: 0, 67: 2, 68: 5, 69: 1, 70: 0, 71: 2, 72: 4, 73: 4, 74: 1, 75: 0, 76: 2, 77: 1, 78: 0, 79: 4, 80: 0, 81: 1, 82: 7, 83: 38, 84: 12, 85: 13, 86: 2, 87: 0, 88: 8, 89: 2, 90: 5, 91: 1, 92: 5, 93: 4, 94: 0, 95: 8, 96: 333, 98: 22, 100: 32, 102: 250, 144: 6, 155: 22, 156: 45, 161: 66, 196: 166, 230: 45, 231: 50, 245: 0, 252: 0, 253: 0, 254: 0, 255: 0, 256: 1, 257: 2, 258: 0, 259: 0, 260: 13, 261: 6, 262: 0, 263: 2, 264: 0, 265: 0, 267: 0, 268: 3, 270: 0, 271: 15, 272: 0, 273: 0, 274: 0, 275: 0, 276: 7, 277: 11, 283: 5, 284: 142, 285: 52, 286: 0, 287: 33, 288: 21, 289: 52, 291: 1000, 293: 5, 295: 2, 296: 4, 297: 0, 298: 1, 299: 5, 300: 15, 302: 0, 303: 142, 304: 1, 305: 7, 306: 0, 307: 10, 308: 0, 326: 76, 349: 1000, 351: 1000, 366: 1000, 389: 500, 464: 1000, 465: 100, 467: 166, 468: 1000, 470: 200, 475: 500, 476: 500, 477: 111, 483: 1000, 489: 1000, 491: 500, 492: 1000, 493: 1000, 494: 142, 495: 166, 496: 17, 498: 333, 499: 333, 503: 142, 504: 76, 508: 90, 509: 100, 510: 500, 511: 500, 512: 41, 514: 1000, 515: 166, 521: 142, 523: 500, 525: 1000, 529: 250, 532: 333, 761: 200, 762: 333}\n"
          ]
        }
      ],
      "source": [
        "d = dict()\n",
        "balance_number = 1000.\n",
        "\n",
        "for idx, value in enumerate(counts):\n",
        "    weight = int(balance_number/value)\n",
        "    d[unique[idx]] = weight\n",
        "print(d)"
      ]
    },
    {
      "cell_type": "markdown",
      "id": "6dbaf646-91cf-4e6d-92a9-f030580fa7d9",
      "metadata": {
        "id": "6dbaf646-91cf-4e6d-92a9-f030580fa7d9"
      },
      "source": [
        "## Balanced dataset "
      ]
    },
    {
      "cell_type": "code",
      "execution_count": null,
      "id": "4011b76b-7d35-42de-bee9-d2243d3122de",
      "metadata": {
        "id": "4011b76b-7d35-42de-bee9-d2243d3122de"
      },
      "outputs": [],
      "source": [
        "class BalancedDatasetImageFolder(torch.utils.data.Dataset):\n",
        "    def __init__(self, DATA_PATH: str, transform, class_names, images_filepaths, target_dict):\n",
        "        super().__init__()\n",
        "        self.root = DATA_PATH\n",
        "        self.transform = transform\n",
        "        self.class_names = class_names.copy()\n",
        "        self.images_filepaths = images_filepaths.copy()\n",
        "                        \n",
        "        self.target_dict = target_dict.copy()\n",
        "\n",
        "    def __len__(self):\n",
        "        return len(self.images_filepaths)\n",
        " \n",
        "    def __getitem__(self, idx):\n",
        "        image_filepath = ('./../H&M/images/' + '0' + str(self.images_filepaths[idx])[:2] + '/0' + \n",
        "                                str(self.images_filepaths[idx]) +'.jpg')\n",
        "        image = Image.open(image_filepath)\n",
        "        label = torch.tensor(self.target_dict[self.class_names[idx]])\n",
        "        try:\n",
        "            image = self.transform(image)\n",
        "        except RuntimeError:\n",
        "            print('aaaaa:', image_filepath)\n",
        "            \n",
        "            image = torch.zeros((3, 256, 256))\n",
        "            label = torch.tensor(0)\n",
        "        return image, label, self.images_filepaths[idx]"
      ]
    },
    {
      "cell_type": "code",
      "execution_count": null,
      "id": "b57aba26-29f3-486f-b965-4698940bd9e0",
      "metadata": {
        "id": "b57aba26-29f3-486f-b965-4698940bd9e0"
      },
      "outputs": [],
      "source": [
        "balanced_dataset = BalancedDatasetImageFolder(DATA_PATH, transformer, test_dataset.class_names, test_dataset.images_filepaths, test_dataset.target_dict)"
      ]
    },
    {
      "cell_type": "code",
      "execution_count": null,
      "id": "8f0e47c4-d4ab-4d00-bd5c-b128e43e3acc",
      "metadata": {
        "id": "8f0e47c4-d4ab-4d00-bd5c-b128e43e3acc",
        "outputId": "813e6d0e-f62a-4046-f945-5025f25f8431"
      },
      "outputs": [
        {
          "name": "stderr",
          "output_type": "stream",
          "text": [
            "105100it [00:00, 1548599.90it/s]\n"
          ]
        }
      ],
      "source": [
        "class_names = []\n",
        "images_filepaths = []\n",
        "for name, path in tqdm(zip(balanced_dataset.class_names, balanced_dataset.images_filepaths)):\n",
        "    \n",
        "    tmp_names = []\n",
        "    tmp_paths = []\n",
        "    if d[name]>0:\n",
        "        tmp_names.append(name)\n",
        "        tmp_names = tmp_names*d[name]\n",
        "        tmp_paths.append(path)\n",
        "        tmp_paths = tmp_paths*d[name]\n",
        "\n",
        "        class_names.extend(tmp_names)\n",
        "        images_filepaths.extend(tmp_paths)\n",
        "        \n",
        "balanced_dataset.class_names.extend(class_names)\n",
        "balanced_dataset.images_filepaths.extend(images_filepaths)    "
      ]
    },
    {
      "cell_type": "markdown",
      "id": "5b39238d-cdfc-4cb0-8569-afebbd1c45f2",
      "metadata": {
        "id": "5b39238d-cdfc-4cb0-8569-afebbd1c45f2"
      },
      "source": [
        "## checking"
      ]
    },
    {
      "cell_type": "code",
      "execution_count": null,
      "id": "626877d9-0a98-4af4-8361-b10441c419ad",
      "metadata": {
        "id": "626877d9-0a98-4af4-8361-b10441c419ad"
      },
      "outputs": [],
      "source": [
        "unique, counts = np.unique(balanced_dataset.class_names, return_counts=True)"
      ]
    },
    {
      "cell_type": "code",
      "execution_count": null,
      "id": "e172dada-24cf-4bd1-98c0-487b5776a53f",
      "metadata": {
        "id": "e172dada-24cf-4bd1-98c0-487b5776a53f",
        "outputId": "2bd7c8c7-0527-4672-9e00-87e365d723e6"
      },
      "outputs": [
        {
          "data": {
            "text/plain": [
              "array([ 1089,  1008,  1324,  1305,  1050,  1273,  1347,  1032,  1144,\n",
              "        1154,  1098,  1210,  1175,  1672,  1343,  1170,  1126,  1017,\n",
              "        1180,  1013,  1150,  1120,  1014,  1001,  1022,  1038,  1028,\n",
              "        1107,  1149,  1116,  1466,  1200,  1220,  1573,  1017,  1002,\n",
              "        1035,  1023,  1004,  1113,  1035,  1012,  1005,  1002,  1012,\n",
              "        1020,  1546,  9295,  2979,  4152,  7880,  1822,  1344,  3975,\n",
              "        3403,  1022,  1078,  3940,  1380,  1108, 10348,  1147,  1236,\n",
              "        1319,  1024, 11150,  1875,  3926,  2689,  1040,  1068,  1032,\n",
              "        1001,  1007,  2725,  1020,  1034,  1007,  1001,  1026,  1161,\n",
              "        1100,  1120,  1700,  1152,  1056,  1880,  1001,  1088,  1088,\n",
              "        2210,  1056,  2356,  1001,  1001,  1001,  1001,  1002,  1001,\n",
              "        1010,  1002,  1001,  1005,  1002,  1002,  1008,  1001,  1001,\n",
              "        1002,  1001,  1001,  1001,  1002,  1008,  1002,  1002,  1001,\n",
              "        1001,  1001,  1010,  1002,  1002,  1008,  1001,  1002,  1001,\n",
              "        1002,  1001,  1004,  1002,  1005,  1002])"
            ]
          },
          "execution_count": 22,
          "metadata": {},
          "output_type": "execute_result"
        }
      ],
      "source": [
        "counts"
      ]
    },
    {
      "cell_type": "code",
      "execution_count": null,
      "id": "b018810f-8058-49bb-8246-c7bf5a0bd5bd",
      "metadata": {
        "id": "b018810f-8058-49bb-8246-c7bf5a0bd5bd"
      },
      "outputs": [],
      "source": [
        "unique, counts = np.unique(test_dataset.class_names, return_counts=True)"
      ]
    },
    {
      "cell_type": "code",
      "execution_count": null,
      "id": "88533b28-a9ff-4742-a538-fbe536d51793",
      "metadata": {
        "id": "88533b28-a9ff-4742-a538-fbe536d51793",
        "outputId": "e828fc48-56ac-4bfe-fc06-e9c8790507f4"
      },
      "outputs": [
        {
          "data": {
            "text/plain": [
              "array([  121,    48,   662,  1305,    50,  1273,   449,   172,   572,\n",
              "        1154,   366,   242,   235,   836,  1343,   390,   563,  1017,\n",
              "         236,  1013,   575,   140,    26,    77,    73,   346,  1028,\n",
              "         123,   383,   186,   733,   200,   244,  1573,   113,     3,\n",
              "          45,    31,     4,   159,    45,    22,    15,     6,    22,\n",
              "          20,  1546,  9295,  2979,  4152,  7880,   911,   448,  3975,\n",
              "        3403,    73,   154,  3940,   460,  1108, 10348,  1147,   309,\n",
              "        1319,    64, 11150,  1875,  3926,  2689,   130,    89,   172,\n",
              "           7,    19,  2725,    30,    47,    19,     1,   171,   387,\n",
              "         220,  1120,   850,   192,    66,  1880,     7,   544,   136,\n",
              "        2210,    96,  2356,    13,     1,     1,     1,     2,     1,\n",
              "          10,     6,     1,     5,     2,     2,     9,     1,     1,\n",
              "           2,     1,     1,     7,     6,    56,     3,     3,     7,\n",
              "          13,    11,    10,     2,     2,    24,     1,     6,     7,\n",
              "           2,     1,     4,     3,     5,     3])"
            ]
          },
          "execution_count": 24,
          "metadata": {},
          "output_type": "execute_result"
        }
      ],
      "source": [
        "counts"
      ]
    },
    {
      "cell_type": "markdown",
      "id": "8c3d6889-127c-4d05-b3d8-4a7202f2df4c",
      "metadata": {
        "id": "8c3d6889-127c-4d05-b3d8-4a7202f2df4c"
      },
      "source": [
        "# DataLoader"
      ]
    },
    {
      "cell_type": "code",
      "execution_count": null,
      "id": "9fc52c00-8e18-4201-971f-a581179ca55d",
      "metadata": {
        "id": "9fc52c00-8e18-4201-971f-a581179ca55d",
        "outputId": "eb0aee61-82ca-4a44-b927-18c9d335e9c9"
      },
      "outputs": [
        {
          "name": "stdout",
          "output_type": "stream",
          "text": [
            "torch.Size([3, 256, 256])\n",
            "tensor(48)\n"
          ]
        }
      ],
      "source": [
        "img, label, images_filepaths = balanced_dataset[0]\n",
        "print(img.shape)\n",
        "print(label)"
      ]
    },
    {
      "cell_type": "code",
      "execution_count": null,
      "id": "eda63e15-42ad-412b-87b5-dce3263e406b",
      "metadata": {
        "id": "eda63e15-42ad-412b-87b5-dce3263e406b"
      },
      "outputs": [],
      "source": [
        "NUM_WORKERS=4\n",
        "train_loader = DataLoader(balanced_dataset, batch_size=BATCH_SIZE, shuffle=True, num_workers=NUM_WORKERS)\n",
        "\n",
        "emb_train_loader = DataLoader(test_dataset, batch_size=BATCH_SIZE, shuffle=True, num_workers=NUM_WORKERS)"
      ]
    },
    {
      "cell_type": "code",
      "execution_count": null,
      "id": "f0fdd3f7-8dfa-4415-9381-7630a5d42e47",
      "metadata": {
        "id": "f0fdd3f7-8dfa-4415-9381-7630a5d42e47"
      },
      "outputs": [],
      "source": [
        "# train_iter = iter(train_loader)\n",
        "# it = next(train_iter)\n",
        "# print(len(it))\n",
        "# print(it[0].shape)\n",
        "# print(it[1])"
      ]
    },
    {
      "cell_type": "markdown",
      "id": "87f76024-b6de-4d60-9345-f56e88ec8522",
      "metadata": {
        "id": "87f76024-b6de-4d60-9345-f56e88ec8522"
      },
      "source": [
        "## plot samples"
      ]
    },
    {
      "cell_type": "code",
      "execution_count": null,
      "id": "6e8770a4-822b-4821-9ef6-0a5842f666fe",
      "metadata": {
        "id": "6e8770a4-822b-4821-9ef6-0a5842f666fe"
      },
      "outputs": [],
      "source": [
        "def plot_from_batch_generator(batch_gen):\n",
        "    data_batch, label_batch, images_filepaths = next(iter(batch_gen))\n",
        "    grid_size = (3, 3)\n",
        "    f, axarr = plt.subplots(*grid_size)\n",
        "    f.set_size_inches(15,10)\n",
        "    class_names = batch_gen.dataset.class_names\n",
        "    for i in range(grid_size[0] * grid_size[1]):\n",
        "        \n",
        "        # read images from batch to numpy.ndarray and change axes order [H, W, C] -> [H, W, C]\n",
        "        batch_image_ndarray = np.transpose(data_batch[i].numpy(), [1, 2, 0])\n",
        "        \n",
        "        # inverse normalization for image data values back to [0,1] and clipping the values for correct pyplot.imshow()\n",
        "        src = np.clip(image_std * batch_image_ndarray + image_mean, 0, 1)\n",
        "        \n",
        "        # display batch samples with labels\n",
        "#         sample_title = 'Label = %d (%s)' % (label_batch[i], class_names[label_batch[i]])\n",
        "        sample_title = 'Label = %s' % class_names[label_batch[i]]\n",
        "        axarr[i // grid_size[0], i % grid_size[0]].imshow(src)\n",
        "        axarr[i // grid_size[0], i % grid_size[0]].set_title(sample_title)"
      ]
    },
    {
      "cell_type": "code",
      "execution_count": null,
      "id": "ea3b0ab1-666c-41a6-8cb8-d2469e8a8017",
      "metadata": {
        "id": "ea3b0ab1-666c-41a6-8cb8-d2469e8a8017"
      },
      "outputs": [],
      "source": [
        "# plot_from_batch_generator(train_loader)"
      ]
    },
    {
      "cell_type": "markdown",
      "id": "538f38a2-e8f9-436c-a243-8affbb2b9c41",
      "metadata": {
        "id": "538f38a2-e8f9-436c-a243-8affbb2b9c41"
      },
      "source": [
        "## define num_classes"
      ]
    },
    {
      "cell_type": "code",
      "execution_count": null,
      "id": "0d94efc6-13b5-414d-8025-f5fb67c2840a",
      "metadata": {
        "id": "0d94efc6-13b5-414d-8025-f5fb67c2840a"
      },
      "outputs": [],
      "source": [
        "NUM_CLASSES = len(np.unique(train_loader.dataset.class_names))"
      ]
    },
    {
      "cell_type": "markdown",
      "id": "33a2c204-ee47-44df-8e45-a729035b17b2",
      "metadata": {
        "id": "33a2c204-ee47-44df-8e45-a729035b17b2"
      },
      "source": [
        "# Download model"
      ]
    },
    {
      "cell_type": "code",
      "execution_count": null,
      "id": "7f483271-4df7-464f-aa5f-265277434768",
      "metadata": {
        "id": "7f483271-4df7-464f-aa5f-265277434768"
      },
      "outputs": [],
      "source": [
        "from efficientnet_pytorch import EfficientNet"
      ]
    },
    {
      "cell_type": "code",
      "execution_count": null,
      "id": "5b280168-dc81-4f6f-bde1-0b77e0bfbd25",
      "metadata": {
        "id": "5b280168-dc81-4f6f-bde1-0b77e0bfbd25",
        "outputId": "583fadea-e7de-4e9b-dc03-9e7e51e7e051"
      },
      "outputs": [
        {
          "name": "stdout",
          "output_type": "stream",
          "text": [
            "Loaded pretrained weights for efficientnet-b4\n"
          ]
        }
      ],
      "source": [
        "# Load pre-trained model\n",
        "# model_resnet18 = torchvision.models.resnet152(pretrained=True)\n",
        "from collections import OrderedDict\n",
        "model = EfficientNet.from_pretrained('efficientnet-b4')\n",
        "\n",
        "# Disable gradient updates for all the layers except  the final layer\n",
        "# YOUR CODE HERE\n",
        "for p in model.parameters():\n",
        "    p.requires_grad = False\n",
        "\n",
        "# Parameters of newly constructed modules have requires_grad=True by default\n",
        "num_feat = model._fc.in_features\n",
        "\n",
        "# hid_size = 200\n",
        "emb_size = 20\n",
        "model._fc = nn.Linear(num_feat, emb_size)\n",
        "\n",
        "model = nn.Sequential(OrderedDict([\n",
        "          ('efficientnet', model),\n",
        "          ('leaky_relu1', nn.LeakyReLU(0.3)),\n",
        "          ('lin', nn.Linear(emb_size, NUM_CLASSES)),\n",
        "          ('leaky_relu2', nn.LeakyReLU(0.3))\n",
        "]))\n",
        "\n",
        "# Use available device for calculations\n",
        "model = model.to(device)"
      ]
    },
    {
      "cell_type": "code",
      "execution_count": null,
      "id": "37836eeb-0ea7-4c78-b6e3-8d84ff75b5d3",
      "metadata": {
        "id": "37836eeb-0ea7-4c78-b6e3-8d84ff75b5d3",
        "outputId": "e8fec2f4-3fd5-40ca-9f49-26606f1eb493"
      },
      "outputs": [
        {
          "name": "stdout",
          "output_type": "stream",
          "text": [
            "mkdir: cannot create directory ‘./models’: File exists\n"
          ]
        }
      ],
      "source": [
        "!mkdir ./models\n",
        "CHECKPOINT_PATH = \"./models/save1\""
      ]
    },
    {
      "cell_type": "code",
      "execution_count": null,
      "id": "3c05e332-2abd-444d-940a-83286e34ace3",
      "metadata": {
        "id": "3c05e332-2abd-444d-940a-83286e34ace3"
      },
      "outputs": [],
      "source": [
        "# torch.save(model.state_dict(),CHECKPOINT_PATH)\n",
        "# model.load_state_dict(torch.load(CHECKPOINT_PATH))\n",
        "# model = model.to(device)"
      ]
    },
    {
      "cell_type": "code",
      "execution_count": null,
      "id": "b270d01a-7c11-46ce-9153-69684b9afdd6",
      "metadata": {
        "id": "b270d01a-7c11-46ce-9153-69684b9afdd6"
      },
      "outputs": [],
      "source": [
        "# model(it[0].to(device)).shape"
      ]
    },
    {
      "cell_type": "markdown",
      "id": "63897426-99dc-4d3e-bf96-0c830e52426f",
      "metadata": {
        "id": "63897426-99dc-4d3e-bf96-0c830e52426f"
      },
      "source": [
        "## tensorboard"
      ]
    },
    {
      "cell_type": "code",
      "execution_count": null,
      "id": "5c3ad366-70fd-4921-b558-23f45866b549",
      "metadata": {
        "id": "5c3ad366-70fd-4921-b558-23f45866b549",
        "outputId": "e5913845-eafd-4370-f0fe-0847a6311a92"
      },
      "outputs": [
        {
          "name": "stdout",
          "output_type": "stream",
          "text": [
            "rm: cannot remove './runs/log': Directory not empty\n"
          ]
        }
      ],
      "source": [
        "!rm -r ./runs/log"
      ]
    },
    {
      "cell_type": "code",
      "execution_count": null,
      "id": "8ce144e0-033d-4b79-aee8-fea5752fec10",
      "metadata": {
        "id": "8ce144e0-033d-4b79-aee8-fea5752fec10"
      },
      "outputs": [],
      "source": [
        "# from torch.utils.tensorboard import SummaryWriter\n",
        "# writer = SummaryWriter('runs/log')"
      ]
    },
    {
      "cell_type": "code",
      "execution_count": null,
      "id": "70d436e2-0058-4540-aa2e-a14c093e28ff",
      "metadata": {
        "id": "70d436e2-0058-4540-aa2e-a14c093e28ff"
      },
      "outputs": [],
      "source": [
        "# %reload_ext tensorboard\n",
        "# %tensorboard --logdir=./runs --bind_all --port=6007# bind_all for remoted python\n",
        "# # or use http://tpls-sgmta00001.sigma.sbrf.ru:6006/"
      ]
    },
    {
      "cell_type": "markdown",
      "id": "ce9ae98c-4779-4f04-814d-d6d8a974052b",
      "metadata": {
        "id": "ce9ae98c-4779-4f04-814d-d6d8a974052b"
      },
      "source": [
        "## training"
      ]
    },
    {
      "cell_type": "code",
      "execution_count": null,
      "id": "23e3c8f8-ca29-4235-b08f-8552095272b8",
      "metadata": {
        "id": "23e3c8f8-ca29-4235-b08f-8552095272b8"
      },
      "outputs": [],
      "source": [
        "from IPython.display import clear_output\n",
        "import time\n",
        "from sklearn.metrics import accuracy_score\n",
        "\n",
        "def fit(model, epochs, lr):\n",
        "    torch.cuda.empty_cache()\n",
        "    \n",
        "    opt = torch.optim.Adam(model.parameters(), lr=lr, betas=(0.5, 0.999))\n",
        "    train_losses = []\n",
        "    accuracy = []\n",
        "    start = time.time()\n",
        "    i=0\n",
        "    flag = False\n",
        "    for epoch in range(epochs):\n",
        "        model.train(True)\n",
        "        for img, label, images_filepaths in tqdm(train_loader):\n",
        "            clear_output(True)\n",
        "            img = img.to(device)\n",
        "            label = label.to(device)\n",
        "            opt.zero_grad()\n",
        "            preds = model(img).to(device)\n",
        "            ce_loss = nn.CrossEntropyLoss()\n",
        "            loss = ce_loss(preds, label)\n",
        "            loss.backward()\n",
        "            opt.step()\n",
        "            tmp_loss = loss.item()\n",
        "            train_losses.append(tmp_loss)\n",
        "            \n",
        "            end = time.time() - start\n",
        "            \n",
        "            acc = accuracy_score(label.cpu(), np.argmax(preds.cpu().detach().numpy(), axis=1))\n",
        "            accuracy.append(acc)\n",
        "            \n",
        "            # if i%10==1:\n",
        "            plt.plot(np.arange(0, len(train_losses)), train_losses, label=f'spent_time={end}, ep={epoch}')\n",
        "            plt.legend()\n",
        "            plt.show()\n",
        "\n",
        "            plt.plot(np.arange(0, len(accuracy)), accuracy, label='accuracy')\n",
        "            plt.legend()\n",
        "            plt.show()\n",
        "            \n",
        "            if (np.mean(accuracy[-5:])>0.75):\n",
        "                flag = True\n",
        "            \n",
        "            # writer.add_scalar('loss', tmp_loss, i)\n",
        "            # writer.add_scalar('accuracy', acc, i)\n",
        "            \n",
        "            i+=1\n",
        "        \n",
        "        torch.save(model.state_dict(),CHECKPOINT_PATH)\n",
        "        if flag == True:\n",
        "            break\n",
        "    model.train(False)\n",
        "    writer.close()\n",
        "    return model"
      ]
    },
    {
      "cell_type": "code",
      "execution_count": null,
      "id": "03950bf6-1308-4d80-b633-05887c880f9c",
      "metadata": {
        "id": "03950bf6-1308-4d80-b633-05887c880f9c",
        "outputId": "5060d2ae-fafc-4c26-e4f2-b4f93e533b89"
      },
      "outputs": [
        {
          "data": {
            "image/png": "[encoded data removed]",
            "text/plain": [
              "<Figure size 432x288 with 1 Axes>"
            ]
          },
          "metadata": {
            "needs_background": "light"
          },
          "output_type": "display_data"
        },
        {
          "name": "stderr",
          "output_type": "stream",
          "text": [
            "  5%|▌         | 44/808 [03:18<57:21,  4.51s/it]\n"
          ]
        },
        {
          "ename": "KeyboardInterrupt",
          "evalue": "",
          "output_type": "error",
          "traceback": [
            "\u001b[0;31m---------------------------------------------------------------------------\u001b[0m",
            "\u001b[0;31mAttributeError\u001b[0m                            Traceback (most recent call last)",
            "\u001b[0;32m/home/user/conda/lib/python3.7/site-packages/PIL/ImageFile.py\u001b[0m in \u001b[0;36m_save\u001b[0;34m(im, fp, tile, bufsize)\u001b[0m\n\u001b[1;32m    494\u001b[0m     \u001b[0;32mtry\u001b[0m\u001b[0;34m:\u001b[0m\u001b[0;34m\u001b[0m\u001b[0;34m\u001b[0m\u001b[0m\n\u001b[0;32m--> 495\u001b[0;31m         \u001b[0mfh\u001b[0m \u001b[0;34m=\u001b[0m \u001b[0mfp\u001b[0m\u001b[0;34m.\u001b[0m\u001b[0mfileno\u001b[0m\u001b[0;34m(\u001b[0m\u001b[0;34m)\u001b[0m\u001b[0;34m\u001b[0m\u001b[0;34m\u001b[0m\u001b[0m\n\u001b[0m\u001b[1;32m    496\u001b[0m         \u001b[0mfp\u001b[0m\u001b[0;34m.\u001b[0m\u001b[0mflush\u001b[0m\u001b[0;34m(\u001b[0m\u001b[0;34m)\u001b[0m\u001b[0;34m\u001b[0m\u001b[0;34m\u001b[0m\u001b[0m\n",
            "\u001b[0;31mAttributeError\u001b[0m: '_idat' object has no attribute 'fileno'",
            "\nDuring handling of the above exception, another exception occurred:\n",
            "\u001b[0;31mKeyboardInterrupt\u001b[0m                         Traceback (most recent call last)",
            "\u001b[0;32m/tmp/ipykernel_1587/566307639.py\u001b[0m in \u001b[0;36m<module>\u001b[0;34m\u001b[0m\n\u001b[1;32m      1\u001b[0m \u001b[0mEPOCH_NUM\u001b[0m\u001b[0;34m=\u001b[0m\u001b[0;36m100\u001b[0m\u001b[0;34m\u001b[0m\u001b[0;34m\u001b[0m\u001b[0m\n\u001b[0;32m----> 2\u001b[0;31m \u001b[0mmodel\u001b[0m \u001b[0;34m=\u001b[0m \u001b[0mfit\u001b[0m\u001b[0;34m(\u001b[0m\u001b[0mmodel\u001b[0m\u001b[0;34m,\u001b[0m \u001b[0mEPOCH_NUM\u001b[0m \u001b[0;34m,\u001b[0m \u001b[0mlr\u001b[0m\u001b[0;34m=\u001b[0m\u001b[0;36m0.0003\u001b[0m\u001b[0;34m)\u001b[0m\u001b[0;34m\u001b[0m\u001b[0;34m\u001b[0m\u001b[0m\n\u001b[0m",
            "\u001b[0;32m/tmp/ipykernel_1587/3255617840.py\u001b[0m in \u001b[0;36mfit\u001b[0;34m(model, epochs, lr)\u001b[0m\n\u001b[1;32m     39\u001b[0m             \u001b[0mplt\u001b[0m\u001b[0;34m.\u001b[0m\u001b[0mplot\u001b[0m\u001b[0;34m(\u001b[0m\u001b[0mnp\u001b[0m\u001b[0;34m.\u001b[0m\u001b[0marange\u001b[0m\u001b[0;34m(\u001b[0m\u001b[0;36m0\u001b[0m\u001b[0;34m,\u001b[0m \u001b[0mlen\u001b[0m\u001b[0;34m(\u001b[0m\u001b[0maccuracy\u001b[0m\u001b[0;34m)\u001b[0m\u001b[0;34m)\u001b[0m\u001b[0;34m,\u001b[0m \u001b[0maccuracy\u001b[0m\u001b[0;34m,\u001b[0m \u001b[0mlabel\u001b[0m\u001b[0;34m=\u001b[0m\u001b[0;34m'accuracy'\u001b[0m\u001b[0;34m)\u001b[0m\u001b[0;34m\u001b[0m\u001b[0;34m\u001b[0m\u001b[0m\n\u001b[1;32m     40\u001b[0m             \u001b[0mplt\u001b[0m\u001b[0;34m.\u001b[0m\u001b[0mlegend\u001b[0m\u001b[0;34m(\u001b[0m\u001b[0;34m)\u001b[0m\u001b[0;34m\u001b[0m\u001b[0;34m\u001b[0m\u001b[0m\n\u001b[0;32m---> 41\u001b[0;31m             \u001b[0mplt\u001b[0m\u001b[0;34m.\u001b[0m\u001b[0mshow\u001b[0m\u001b[0;34m(\u001b[0m\u001b[0;34m)\u001b[0m\u001b[0;34m\u001b[0m\u001b[0;34m\u001b[0m\u001b[0m\n\u001b[0m\u001b[1;32m     42\u001b[0m \u001b[0;34m\u001b[0m\u001b[0m\n\u001b[1;32m     43\u001b[0m             \u001b[0;32mif\u001b[0m \u001b[0;34m(\u001b[0m\u001b[0mnp\u001b[0m\u001b[0;34m.\u001b[0m\u001b[0mmean\u001b[0m\u001b[0;34m(\u001b[0m\u001b[0maccuracy\u001b[0m\u001b[0;34m[\u001b[0m\u001b[0;34m-\u001b[0m\u001b[0;36m5\u001b[0m\u001b[0;34m:\u001b[0m\u001b[0;34m]\u001b[0m\u001b[0;34m)\u001b[0m\u001b[0;34m>\u001b[0m\u001b[0;36m0.75\u001b[0m\u001b[0;34m)\u001b[0m\u001b[0;34m:\u001b[0m\u001b[0;34m\u001b[0m\u001b[0;34m\u001b[0m\u001b[0m\n",
            "\u001b[0;32m/home/user/conda/lib/python3.7/site-packages/matplotlib/pyplot.py\u001b[0m in \u001b[0;36mshow\u001b[0;34m(*args, **kwargs)\u001b[0m\n\u001b[1;32m    366\u001b[0m     \"\"\"\n\u001b[1;32m    367\u001b[0m     \u001b[0m_warn_if_gui_out_of_main_thread\u001b[0m\u001b[0;34m(\u001b[0m\u001b[0;34m)\u001b[0m\u001b[0;34m\u001b[0m\u001b[0;34m\u001b[0m\u001b[0m\n\u001b[0;32m--> 368\u001b[0;31m     \u001b[0;32mreturn\u001b[0m \u001b[0m_backend_mod\u001b[0m\u001b[0;34m.\u001b[0m\u001b[0mshow\u001b[0m\u001b[0;34m(\u001b[0m\u001b[0;34m*\u001b[0m\u001b[0margs\u001b[0m\u001b[0;34m,\u001b[0m \u001b[0;34m**\u001b[0m\u001b[0mkwargs\u001b[0m\u001b[0;34m)\u001b[0m\u001b[0;34m\u001b[0m\u001b[0;34m\u001b[0m\u001b[0m\n\u001b[0m\u001b[1;32m    369\u001b[0m \u001b[0;34m\u001b[0m\u001b[0m\n\u001b[1;32m    370\u001b[0m \u001b[0;34m\u001b[0m\u001b[0m\n",
            "\u001b[0;32m/home/user/conda/lib/python3.7/site-packages/matplotlib_inline/backend_inline.py\u001b[0m in \u001b[0;36mshow\u001b[0;34m(close, block)\u001b[0m\n\u001b[1;32m     41\u001b[0m             display(\n\u001b[1;32m     42\u001b[0m                 \u001b[0mfigure_manager\u001b[0m\u001b[0;34m.\u001b[0m\u001b[0mcanvas\u001b[0m\u001b[0;34m.\u001b[0m\u001b[0mfigure\u001b[0m\u001b[0;34m,\u001b[0m\u001b[0;34m\u001b[0m\u001b[0;34m\u001b[0m\u001b[0m\n\u001b[0;32m---> 43\u001b[0;31m                 \u001b[0mmetadata\u001b[0m\u001b[0;34m=\u001b[0m\u001b[0m_fetch_figure_metadata\u001b[0m\u001b[0;34m(\u001b[0m\u001b[0mfigure_manager\u001b[0m\u001b[0;34m.\u001b[0m\u001b[0mcanvas\u001b[0m\u001b[0;34m.\u001b[0m\u001b[0mfigure\u001b[0m\u001b[0;34m)\u001b[0m\u001b[0;34m\u001b[0m\u001b[0;34m\u001b[0m\u001b[0m\n\u001b[0m\u001b[1;32m     44\u001b[0m             )\n\u001b[1;32m     45\u001b[0m     \u001b[0;32mfinally\u001b[0m\u001b[0;34m:\u001b[0m\u001b[0;34m\u001b[0m\u001b[0;34m\u001b[0m\u001b[0m\n",
            "\u001b[0;32m/home/user/conda/lib/python3.7/site-packages/IPython/core/display.py\u001b[0m in \u001b[0;36mdisplay\u001b[0;34m(include, exclude, metadata, transient, display_id, *objs, **kwargs)\u001b[0m\n\u001b[1;32m    318\u001b[0m             \u001b[0mpublish_display_data\u001b[0m\u001b[0;34m(\u001b[0m\u001b[0mdata\u001b[0m\u001b[0;34m=\u001b[0m\u001b[0mobj\u001b[0m\u001b[0;34m,\u001b[0m \u001b[0mmetadata\u001b[0m\u001b[0;34m=\u001b[0m\u001b[0mmetadata\u001b[0m\u001b[0;34m,\u001b[0m \u001b[0;34m**\u001b[0m\u001b[0mkwargs\u001b[0m\u001b[0;34m)\u001b[0m\u001b[0;34m\u001b[0m\u001b[0;34m\u001b[0m\u001b[0m\n\u001b[1;32m    319\u001b[0m         \u001b[0;32melse\u001b[0m\u001b[0;34m:\u001b[0m\u001b[0;34m\u001b[0m\u001b[0;34m\u001b[0m\u001b[0m\n\u001b[0;32m--> 320\u001b[0;31m             \u001b[0mformat_dict\u001b[0m\u001b[0;34m,\u001b[0m \u001b[0mmd_dict\u001b[0m \u001b[0;34m=\u001b[0m \u001b[0mformat\u001b[0m\u001b[0;34m(\u001b[0m\u001b[0mobj\u001b[0m\u001b[0;34m,\u001b[0m \u001b[0minclude\u001b[0m\u001b[0;34m=\u001b[0m\u001b[0minclude\u001b[0m\u001b[0;34m,\u001b[0m \u001b[0mexclude\u001b[0m\u001b[0;34m=\u001b[0m\u001b[0mexclude\u001b[0m\u001b[0;34m)\u001b[0m\u001b[0;34m\u001b[0m\u001b[0;34m\u001b[0m\u001b[0m\n\u001b[0m\u001b[1;32m    321\u001b[0m             \u001b[0;32mif\u001b[0m \u001b[0;32mnot\u001b[0m \u001b[0mformat_dict\u001b[0m\u001b[0;34m:\u001b[0m\u001b[0;34m\u001b[0m\u001b[0;34m\u001b[0m\u001b[0m\n\u001b[1;32m    322\u001b[0m                 \u001b[0;31m# nothing to display (e.g. _ipython_display_ took over)\u001b[0m\u001b[0;34m\u001b[0m\u001b[0;34m\u001b[0m\u001b[0;34m\u001b[0m\u001b[0m\n",
            "\u001b[0;32m/home/user/conda/lib/python3.7/site-packages/IPython/core/formatters.py\u001b[0m in \u001b[0;36mformat\u001b[0;34m(self, obj, include, exclude)\u001b[0m\n\u001b[1;32m    178\u001b[0m             \u001b[0mmd\u001b[0m \u001b[0;34m=\u001b[0m \u001b[0;32mNone\u001b[0m\u001b[0;34m\u001b[0m\u001b[0;34m\u001b[0m\u001b[0m\n\u001b[1;32m    179\u001b[0m             \u001b[0;32mtry\u001b[0m\u001b[0;34m:\u001b[0m\u001b[0;34m\u001b[0m\u001b[0;34m\u001b[0m\u001b[0m\n\u001b[0;32m--> 180\u001b[0;31m                 \u001b[0mdata\u001b[0m \u001b[0;34m=\u001b[0m \u001b[0mformatter\u001b[0m\u001b[0;34m(\u001b[0m\u001b[0mobj\u001b[0m\u001b[0;34m)\u001b[0m\u001b[0;34m\u001b[0m\u001b[0;34m\u001b[0m\u001b[0m\n\u001b[0m\u001b[1;32m    181\u001b[0m             \u001b[0;32mexcept\u001b[0m\u001b[0;34m:\u001b[0m\u001b[0;34m\u001b[0m\u001b[0;34m\u001b[0m\u001b[0m\n\u001b[1;32m    182\u001b[0m                 \u001b[0;31m# FIXME: log the exception\u001b[0m\u001b[0;34m\u001b[0m\u001b[0;34m\u001b[0m\u001b[0;34m\u001b[0m\u001b[0m\n",
            "\u001b[0;32m/home/user/conda/lib/python3.7/site-packages/decorator.py\u001b[0m in \u001b[0;36mfun\u001b[0;34m(*args, **kw)\u001b[0m\n\u001b[1;32m    230\u001b[0m             \u001b[0;32mif\u001b[0m \u001b[0;32mnot\u001b[0m \u001b[0mkwsyntax\u001b[0m\u001b[0;34m:\u001b[0m\u001b[0;34m\u001b[0m\u001b[0;34m\u001b[0m\u001b[0m\n\u001b[1;32m    231\u001b[0m                 \u001b[0margs\u001b[0m\u001b[0;34m,\u001b[0m \u001b[0mkw\u001b[0m \u001b[0;34m=\u001b[0m \u001b[0mfix\u001b[0m\u001b[0;34m(\u001b[0m\u001b[0margs\u001b[0m\u001b[0;34m,\u001b[0m \u001b[0mkw\u001b[0m\u001b[0;34m,\u001b[0m \u001b[0msig\u001b[0m\u001b[0;34m)\u001b[0m\u001b[0;34m\u001b[0m\u001b[0;34m\u001b[0m\u001b[0m\n\u001b[0;32m--> 232\u001b[0;31m             \u001b[0;32mreturn\u001b[0m \u001b[0mcaller\u001b[0m\u001b[0;34m(\u001b[0m\u001b[0mfunc\u001b[0m\u001b[0;34m,\u001b[0m \u001b[0;34m*\u001b[0m\u001b[0;34m(\u001b[0m\u001b[0mextras\u001b[0m \u001b[0;34m+\u001b[0m \u001b[0margs\u001b[0m\u001b[0;34m)\u001b[0m\u001b[0;34m,\u001b[0m \u001b[0;34m**\u001b[0m\u001b[0mkw\u001b[0m\u001b[0;34m)\u001b[0m\u001b[0;34m\u001b[0m\u001b[0;34m\u001b[0m\u001b[0m\n\u001b[0m\u001b[1;32m    233\u001b[0m     \u001b[0mfun\u001b[0m\u001b[0;34m.\u001b[0m\u001b[0m__name__\u001b[0m \u001b[0;34m=\u001b[0m \u001b[0mfunc\u001b[0m\u001b[0;34m.\u001b[0m\u001b[0m__name__\u001b[0m\u001b[0;34m\u001b[0m\u001b[0;34m\u001b[0m\u001b[0m\n\u001b[1;32m    234\u001b[0m     \u001b[0mfun\u001b[0m\u001b[0;34m.\u001b[0m\u001b[0m__doc__\u001b[0m \u001b[0;34m=\u001b[0m \u001b[0mfunc\u001b[0m\u001b[0;34m.\u001b[0m\u001b[0m__doc__\u001b[0m\u001b[0;34m\u001b[0m\u001b[0;34m\u001b[0m\u001b[0m\n",
            "\u001b[0;32m/home/user/conda/lib/python3.7/site-packages/IPython/core/formatters.py\u001b[0m in \u001b[0;36mcatch_format_error\u001b[0;34m(method, self, *args, **kwargs)\u001b[0m\n\u001b[1;32m    222\u001b[0m     \u001b[0;34m\"\"\"show traceback on failed format call\"\"\"\u001b[0m\u001b[0;34m\u001b[0m\u001b[0;34m\u001b[0m\u001b[0m\n\u001b[1;32m    223\u001b[0m     \u001b[0;32mtry\u001b[0m\u001b[0;34m:\u001b[0m\u001b[0;34m\u001b[0m\u001b[0;34m\u001b[0m\u001b[0m\n\u001b[0;32m--> 224\u001b[0;31m         \u001b[0mr\u001b[0m \u001b[0;34m=\u001b[0m \u001b[0mmethod\u001b[0m\u001b[0;34m(\u001b[0m\u001b[0mself\u001b[0m\u001b[0;34m,\u001b[0m \u001b[0;34m*\u001b[0m\u001b[0margs\u001b[0m\u001b[0;34m,\u001b[0m \u001b[0;34m**\u001b[0m\u001b[0mkwargs\u001b[0m\u001b[0;34m)\u001b[0m\u001b[0;34m\u001b[0m\u001b[0;34m\u001b[0m\u001b[0m\n\u001b[0m\u001b[1;32m    225\u001b[0m     \u001b[0;32mexcept\u001b[0m \u001b[0mNotImplementedError\u001b[0m\u001b[0;34m:\u001b[0m\u001b[0;34m\u001b[0m\u001b[0;34m\u001b[0m\u001b[0m\n\u001b[1;32m    226\u001b[0m         \u001b[0;31m# don't warn on NotImplementedErrors\u001b[0m\u001b[0;34m\u001b[0m\u001b[0;34m\u001b[0m\u001b[0;34m\u001b[0m\u001b[0m\n",
            "\u001b[0;32m/home/user/conda/lib/python3.7/site-packages/IPython/core/formatters.py\u001b[0m in \u001b[0;36m__call__\u001b[0;34m(self, obj)\u001b[0m\n\u001b[1;32m    339\u001b[0m                 \u001b[0;32mpass\u001b[0m\u001b[0;34m\u001b[0m\u001b[0;34m\u001b[0m\u001b[0m\n\u001b[1;32m    340\u001b[0m             \u001b[0;32melse\u001b[0m\u001b[0;34m:\u001b[0m\u001b[0;34m\u001b[0m\u001b[0;34m\u001b[0m\u001b[0m\n\u001b[0;32m--> 341\u001b[0;31m                 \u001b[0;32mreturn\u001b[0m \u001b[0mprinter\u001b[0m\u001b[0;34m(\u001b[0m\u001b[0mobj\u001b[0m\u001b[0;34m)\u001b[0m\u001b[0;34m\u001b[0m\u001b[0;34m\u001b[0m\u001b[0m\n\u001b[0m\u001b[1;32m    342\u001b[0m             \u001b[0;31m# Finally look for special method names\u001b[0m\u001b[0;34m\u001b[0m\u001b[0;34m\u001b[0m\u001b[0;34m\u001b[0m\u001b[0m\n\u001b[1;32m    343\u001b[0m             \u001b[0mmethod\u001b[0m \u001b[0;34m=\u001b[0m \u001b[0mget_real_method\u001b[0m\u001b[0;34m(\u001b[0m\u001b[0mobj\u001b[0m\u001b[0;34m,\u001b[0m \u001b[0mself\u001b[0m\u001b[0;34m.\u001b[0m\u001b[0mprint_method\u001b[0m\u001b[0;34m)\u001b[0m\u001b[0;34m\u001b[0m\u001b[0;34m\u001b[0m\u001b[0m\n",
            "\u001b[0;32m/home/user/conda/lib/python3.7/site-packages/IPython/core/pylabtools.py\u001b[0m in \u001b[0;36mprint_figure\u001b[0;34m(fig, fmt, bbox_inches, base64, **kwargs)\u001b[0m\n\u001b[1;32m    149\u001b[0m         \u001b[0mFigureCanvasBase\u001b[0m\u001b[0;34m(\u001b[0m\u001b[0mfig\u001b[0m\u001b[0;34m)\u001b[0m\u001b[0;34m\u001b[0m\u001b[0;34m\u001b[0m\u001b[0m\n\u001b[1;32m    150\u001b[0m \u001b[0;34m\u001b[0m\u001b[0m\n\u001b[0;32m--> 151\u001b[0;31m     \u001b[0mfig\u001b[0m\u001b[0;34m.\u001b[0m\u001b[0mcanvas\u001b[0m\u001b[0;34m.\u001b[0m\u001b[0mprint_figure\u001b[0m\u001b[0;34m(\u001b[0m\u001b[0mbytes_io\u001b[0m\u001b[0;34m,\u001b[0m \u001b[0;34m**\u001b[0m\u001b[0mkw\u001b[0m\u001b[0;34m)\u001b[0m\u001b[0;34m\u001b[0m\u001b[0;34m\u001b[0m\u001b[0m\n\u001b[0m\u001b[1;32m    152\u001b[0m     \u001b[0mdata\u001b[0m \u001b[0;34m=\u001b[0m \u001b[0mbytes_io\u001b[0m\u001b[0;34m.\u001b[0m\u001b[0mgetvalue\u001b[0m\u001b[0;34m(\u001b[0m\u001b[0;34m)\u001b[0m\u001b[0;34m\u001b[0m\u001b[0;34m\u001b[0m\u001b[0m\n\u001b[1;32m    153\u001b[0m     \u001b[0;32mif\u001b[0m \u001b[0mfmt\u001b[0m \u001b[0;34m==\u001b[0m \u001b[0;34m'svg'\u001b[0m\u001b[0;34m:\u001b[0m\u001b[0;34m\u001b[0m\u001b[0;34m\u001b[0m\u001b[0m\n",
            "\u001b[0;32m/home/user/conda/lib/python3.7/site-packages/matplotlib/backend_bases.py\u001b[0m in \u001b[0;36mprint_figure\u001b[0;34m(self, filename, dpi, facecolor, edgecolor, orientation, format, bbox_inches, pad_inches, bbox_extra_artists, backend, **kwargs)\u001b[0m\n\u001b[1;32m   2323\u001b[0m                         \u001b[0morientation\u001b[0m\u001b[0;34m=\u001b[0m\u001b[0morientation\u001b[0m\u001b[0;34m,\u001b[0m\u001b[0;34m\u001b[0m\u001b[0;34m\u001b[0m\u001b[0m\n\u001b[1;32m   2324\u001b[0m                         \u001b[0mbbox_inches_restore\u001b[0m\u001b[0;34m=\u001b[0m\u001b[0m_bbox_inches_restore\u001b[0m\u001b[0;34m,\u001b[0m\u001b[0;34m\u001b[0m\u001b[0;34m\u001b[0m\u001b[0m\n\u001b[0;32m-> 2325\u001b[0;31m                         **kwargs)\n\u001b[0m\u001b[1;32m   2326\u001b[0m             \u001b[0;32mfinally\u001b[0m\u001b[0;34m:\u001b[0m\u001b[0;34m\u001b[0m\u001b[0;34m\u001b[0m\u001b[0m\n\u001b[1;32m   2327\u001b[0m                 \u001b[0;32mif\u001b[0m \u001b[0mbbox_inches\u001b[0m \u001b[0;32mand\u001b[0m \u001b[0mrestore_bbox\u001b[0m\u001b[0;34m:\u001b[0m\u001b[0;34m\u001b[0m\u001b[0;34m\u001b[0m\u001b[0m\n",
            "\u001b[0;32m/home/user/conda/lib/python3.7/site-packages/matplotlib/backend_bases.py\u001b[0m in \u001b[0;36mwrapper\u001b[0;34m(*args, **kwargs)\u001b[0m\n\u001b[1;32m   1646\u001b[0m             \u001b[0mkwargs\u001b[0m\u001b[0;34m.\u001b[0m\u001b[0mpop\u001b[0m\u001b[0;34m(\u001b[0m\u001b[0marg\u001b[0m\u001b[0;34m)\u001b[0m\u001b[0;34m\u001b[0m\u001b[0;34m\u001b[0m\u001b[0m\n\u001b[1;32m   1647\u001b[0m \u001b[0;34m\u001b[0m\u001b[0m\n\u001b[0;32m-> 1648\u001b[0;31m         \u001b[0;32mreturn\u001b[0m \u001b[0mfunc\u001b[0m\u001b[0;34m(\u001b[0m\u001b[0;34m*\u001b[0m\u001b[0margs\u001b[0m\u001b[0;34m,\u001b[0m \u001b[0;34m**\u001b[0m\u001b[0mkwargs\u001b[0m\u001b[0;34m)\u001b[0m\u001b[0;34m\u001b[0m\u001b[0;34m\u001b[0m\u001b[0m\n\u001b[0m\u001b[1;32m   1649\u001b[0m \u001b[0;34m\u001b[0m\u001b[0m\n\u001b[1;32m   1650\u001b[0m     \u001b[0;32mreturn\u001b[0m \u001b[0mwrapper\u001b[0m\u001b[0;34m\u001b[0m\u001b[0;34m\u001b[0m\u001b[0m\n",
            "\u001b[0;32m/home/user/conda/lib/python3.7/site-packages/matplotlib/_api/deprecation.py\u001b[0m in \u001b[0;36mwrapper\u001b[0;34m(*inner_args, **inner_kwargs)\u001b[0m\n\u001b[1;32m    410\u001b[0m                          \u001b[0;32melse\u001b[0m \u001b[0mdeprecation_addendum\u001b[0m\u001b[0;34m,\u001b[0m\u001b[0;34m\u001b[0m\u001b[0;34m\u001b[0m\u001b[0m\n\u001b[1;32m    411\u001b[0m                 **kwargs)\n\u001b[0;32m--> 412\u001b[0;31m         \u001b[0;32mreturn\u001b[0m \u001b[0mfunc\u001b[0m\u001b[0;34m(\u001b[0m\u001b[0;34m*\u001b[0m\u001b[0minner_args\u001b[0m\u001b[0;34m,\u001b[0m \u001b[0;34m**\u001b[0m\u001b[0minner_kwargs\u001b[0m\u001b[0;34m)\u001b[0m\u001b[0;34m\u001b[0m\u001b[0;34m\u001b[0m\u001b[0m\n\u001b[0m\u001b[1;32m    413\u001b[0m \u001b[0;34m\u001b[0m\u001b[0m\n\u001b[1;32m    414\u001b[0m     \u001b[0mDECORATORS\u001b[0m\u001b[0;34m[\u001b[0m\u001b[0mwrapper\u001b[0m\u001b[0;34m]\u001b[0m \u001b[0;34m=\u001b[0m \u001b[0mdecorator\u001b[0m\u001b[0;34m\u001b[0m\u001b[0;34m\u001b[0m\u001b[0m\n",
            "\u001b[0;32m/home/user/conda/lib/python3.7/site-packages/matplotlib/backends/backend_agg.py\u001b[0m in \u001b[0;36mprint_png\u001b[0;34m(self, filename_or_obj, metadata, pil_kwargs, *args)\u001b[0m\n\u001b[1;32m    541\u001b[0m         mpl.image.imsave(\n\u001b[1;32m    542\u001b[0m             \u001b[0mfilename_or_obj\u001b[0m\u001b[0;34m,\u001b[0m \u001b[0mself\u001b[0m\u001b[0;34m.\u001b[0m\u001b[0mbuffer_rgba\u001b[0m\u001b[0;34m(\u001b[0m\u001b[0;34m)\u001b[0m\u001b[0;34m,\u001b[0m \u001b[0mformat\u001b[0m\u001b[0;34m=\u001b[0m\u001b[0;34m\"png\"\u001b[0m\u001b[0;34m,\u001b[0m \u001b[0morigin\u001b[0m\u001b[0;34m=\u001b[0m\u001b[0;34m\"upper\"\u001b[0m\u001b[0;34m,\u001b[0m\u001b[0;34m\u001b[0m\u001b[0;34m\u001b[0m\u001b[0m\n\u001b[0;32m--> 543\u001b[0;31m             dpi=self.figure.dpi, metadata=metadata, pil_kwargs=pil_kwargs)\n\u001b[0m\u001b[1;32m    544\u001b[0m \u001b[0;34m\u001b[0m\u001b[0m\n\u001b[1;32m    545\u001b[0m     \u001b[0;32mdef\u001b[0m \u001b[0mprint_to_buffer\u001b[0m\u001b[0;34m(\u001b[0m\u001b[0mself\u001b[0m\u001b[0;34m)\u001b[0m\u001b[0;34m:\u001b[0m\u001b[0;34m\u001b[0m\u001b[0;34m\u001b[0m\u001b[0m\n",
            "\u001b[0;32m/home/user/conda/lib/python3.7/site-packages/matplotlib/image.py\u001b[0m in \u001b[0;36mimsave\u001b[0;34m(fname, arr, vmin, vmax, cmap, format, origin, dpi, metadata, pil_kwargs)\u001b[0m\n\u001b[1;32m   1673\u001b[0m         \u001b[0mpil_kwargs\u001b[0m\u001b[0;34m.\u001b[0m\u001b[0msetdefault\u001b[0m\u001b[0;34m(\u001b[0m\u001b[0;34m\"format\"\u001b[0m\u001b[0;34m,\u001b[0m \u001b[0mformat\u001b[0m\u001b[0;34m)\u001b[0m\u001b[0;34m\u001b[0m\u001b[0;34m\u001b[0m\u001b[0m\n\u001b[1;32m   1674\u001b[0m         \u001b[0mpil_kwargs\u001b[0m\u001b[0;34m.\u001b[0m\u001b[0msetdefault\u001b[0m\u001b[0;34m(\u001b[0m\u001b[0;34m\"dpi\"\u001b[0m\u001b[0;34m,\u001b[0m \u001b[0;34m(\u001b[0m\u001b[0mdpi\u001b[0m\u001b[0;34m,\u001b[0m \u001b[0mdpi\u001b[0m\u001b[0;34m)\u001b[0m\u001b[0;34m)\u001b[0m\u001b[0;34m\u001b[0m\u001b[0;34m\u001b[0m\u001b[0m\n\u001b[0;32m-> 1675\u001b[0;31m         \u001b[0mimage\u001b[0m\u001b[0;34m.\u001b[0m\u001b[0msave\u001b[0m\u001b[0;34m(\u001b[0m\u001b[0mfname\u001b[0m\u001b[0;34m,\u001b[0m \u001b[0;34m**\u001b[0m\u001b[0mpil_kwargs\u001b[0m\u001b[0;34m)\u001b[0m\u001b[0;34m\u001b[0m\u001b[0;34m\u001b[0m\u001b[0m\n\u001b[0m\u001b[1;32m   1676\u001b[0m \u001b[0;34m\u001b[0m\u001b[0m\n\u001b[1;32m   1677\u001b[0m \u001b[0;34m\u001b[0m\u001b[0m\n",
            "\u001b[0;32m/home/user/conda/lib/python3.7/site-packages/PIL/Image.py\u001b[0m in \u001b[0;36msave\u001b[0;34m(self, fp, format, **params)\u001b[0m\n\u001b[1;32m   2210\u001b[0m \u001b[0;34m\u001b[0m\u001b[0m\n\u001b[1;32m   2211\u001b[0m         \u001b[0;32mtry\u001b[0m\u001b[0;34m:\u001b[0m\u001b[0;34m\u001b[0m\u001b[0;34m\u001b[0m\u001b[0m\n\u001b[0;32m-> 2212\u001b[0;31m             \u001b[0msave_handler\u001b[0m\u001b[0;34m(\u001b[0m\u001b[0mself\u001b[0m\u001b[0;34m,\u001b[0m \u001b[0mfp\u001b[0m\u001b[0;34m,\u001b[0m \u001b[0mfilename\u001b[0m\u001b[0;34m)\u001b[0m\u001b[0;34m\u001b[0m\u001b[0;34m\u001b[0m\u001b[0m\n\u001b[0m\u001b[1;32m   2213\u001b[0m         \u001b[0;32mfinally\u001b[0m\u001b[0;34m:\u001b[0m\u001b[0;34m\u001b[0m\u001b[0;34m\u001b[0m\u001b[0m\n\u001b[1;32m   2214\u001b[0m             \u001b[0;31m# do what we can to clean up\u001b[0m\u001b[0;34m\u001b[0m\u001b[0;34m\u001b[0m\u001b[0;34m\u001b[0m\u001b[0m\n",
            "\u001b[0;32m/home/user/conda/lib/python3.7/site-packages/PIL/PngImagePlugin.py\u001b[0m in \u001b[0;36m_save\u001b[0;34m(im, fp, filename, chunk, save_all)\u001b[0m\n\u001b[1;32m   1346\u001b[0m         \u001b[0m_write_multiple_frames\u001b[0m\u001b[0;34m(\u001b[0m\u001b[0mim\u001b[0m\u001b[0;34m,\u001b[0m \u001b[0mfp\u001b[0m\u001b[0;34m,\u001b[0m \u001b[0mchunk\u001b[0m\u001b[0;34m,\u001b[0m \u001b[0mrawmode\u001b[0m\u001b[0;34m)\u001b[0m\u001b[0;34m\u001b[0m\u001b[0;34m\u001b[0m\u001b[0m\n\u001b[1;32m   1347\u001b[0m     \u001b[0;32melse\u001b[0m\u001b[0;34m:\u001b[0m\u001b[0;34m\u001b[0m\u001b[0;34m\u001b[0m\u001b[0m\n\u001b[0;32m-> 1348\u001b[0;31m         \u001b[0mImageFile\u001b[0m\u001b[0;34m.\u001b[0m\u001b[0m_save\u001b[0m\u001b[0;34m(\u001b[0m\u001b[0mim\u001b[0m\u001b[0;34m,\u001b[0m \u001b[0m_idat\u001b[0m\u001b[0;34m(\u001b[0m\u001b[0mfp\u001b[0m\u001b[0;34m,\u001b[0m \u001b[0mchunk\u001b[0m\u001b[0;34m)\u001b[0m\u001b[0;34m,\u001b[0m \u001b[0;34m[\u001b[0m\u001b[0;34m(\u001b[0m\u001b[0;34m\"zip\"\u001b[0m\u001b[0;34m,\u001b[0m \u001b[0;34m(\u001b[0m\u001b[0;36m0\u001b[0m\u001b[0;34m,\u001b[0m \u001b[0;36m0\u001b[0m\u001b[0;34m)\u001b[0m \u001b[0;34m+\u001b[0m \u001b[0mim\u001b[0m\u001b[0;34m.\u001b[0m\u001b[0msize\u001b[0m\u001b[0;34m,\u001b[0m \u001b[0;36m0\u001b[0m\u001b[0;34m,\u001b[0m \u001b[0mrawmode\u001b[0m\u001b[0;34m)\u001b[0m\u001b[0;34m]\u001b[0m\u001b[0;34m)\u001b[0m\u001b[0;34m\u001b[0m\u001b[0;34m\u001b[0m\u001b[0m\n\u001b[0m\u001b[1;32m   1349\u001b[0m \u001b[0;34m\u001b[0m\u001b[0m\n\u001b[1;32m   1350\u001b[0m     \u001b[0;32mif\u001b[0m \u001b[0minfo\u001b[0m\u001b[0;34m:\u001b[0m\u001b[0;34m\u001b[0m\u001b[0;34m\u001b[0m\u001b[0m\n",
            "\u001b[0;32m/home/user/conda/lib/python3.7/site-packages/PIL/ImageFile.py\u001b[0m in \u001b[0;36m_save\u001b[0;34m(im, fp, tile, bufsize)\u001b[0m\n\u001b[1;32m    507\u001b[0m             \u001b[0;32melse\u001b[0m\u001b[0;34m:\u001b[0m\u001b[0;34m\u001b[0m\u001b[0;34m\u001b[0m\u001b[0m\n\u001b[1;32m    508\u001b[0m                 \u001b[0;32mwhile\u001b[0m \u001b[0;32mTrue\u001b[0m\u001b[0;34m:\u001b[0m\u001b[0;34m\u001b[0m\u001b[0;34m\u001b[0m\u001b[0m\n\u001b[0;32m--> 509\u001b[0;31m                     \u001b[0ml\u001b[0m\u001b[0;34m,\u001b[0m \u001b[0ms\u001b[0m\u001b[0;34m,\u001b[0m \u001b[0md\u001b[0m \u001b[0;34m=\u001b[0m \u001b[0me\u001b[0m\u001b[0;34m.\u001b[0m\u001b[0mencode\u001b[0m\u001b[0;34m(\u001b[0m\u001b[0mbufsize\u001b[0m\u001b[0;34m)\u001b[0m\u001b[0;34m\u001b[0m\u001b[0;34m\u001b[0m\u001b[0m\n\u001b[0m\u001b[1;32m    510\u001b[0m                     \u001b[0mfp\u001b[0m\u001b[0;34m.\u001b[0m\u001b[0mwrite\u001b[0m\u001b[0;34m(\u001b[0m\u001b[0md\u001b[0m\u001b[0;34m)\u001b[0m\u001b[0;34m\u001b[0m\u001b[0;34m\u001b[0m\u001b[0m\n\u001b[1;32m    511\u001b[0m                     \u001b[0;32mif\u001b[0m \u001b[0ms\u001b[0m\u001b[0;34m:\u001b[0m\u001b[0;34m\u001b[0m\u001b[0;34m\u001b[0m\u001b[0m\n",
            "\u001b[0;31mKeyboardInterrupt\u001b[0m: "
          ]
        }
      ],
      "source": [
        "EPOCH_NUM=100\n",
        "model = fit(model, EPOCH_NUM , lr=0.0003)"
      ]
    },
    {
      "cell_type": "code",
      "execution_count": null,
      "id": "9449818f-329d-4676-93d5-2b007450bb88",
      "metadata": {
        "id": "9449818f-329d-4676-93d5-2b007450bb88"
      },
      "outputs": [],
      "source": [
        "torch.save(model.state_dict(),CHECKPOINT_PATH)"
      ]
    },
    {
      "cell_type": "code",
      "execution_count": null,
      "id": "c4ce9382-9d76-4e40-81aa-146f91435279",
      "metadata": {
        "id": "c4ce9382-9d76-4e40-81aa-146f91435279"
      },
      "outputs": [],
      "source": [
        "model.load_state_dict(torch.load(CHECKPOINT_PATH))\n",
        "model = model.to(device)"
      ]
    },
    {
      "cell_type": "markdown",
      "id": "3b20fc0a-9700-485f-949c-ea88ecc4b28d",
      "metadata": {
        "id": "3b20fc0a-9700-485f-949c-ea88ecc4b28d"
      },
      "source": [
        "# Make embeddings"
      ]
    },
    {
      "cell_type": "code",
      "execution_count": null,
      "id": "7c5c78b6-d08a-4d2f-8bee-912cf903b99e",
      "metadata": {
        "id": "7c5c78b6-d08a-4d2f-8bee-912cf903b99e",
        "outputId": "99c85fac-d623-4325-f579-bd7c6837d9cd"
      },
      "outputs": [
        {
          "name": "stderr",
          "output_type": "stream",
          "text": [
            " 50%|█████     | 211/421 [14:06<09:06,  2.60s/it]"
          ]
        },
        {
          "name": "stdout",
          "output_type": "stream",
          "text": [
            "aaaaa: ./../H&M/images/061/0616100001.jpg\n"
          ]
        },
        {
          "name": "stderr",
          "output_type": "stream",
          "text": [
            "100%|██████████| 421/421 [28:32<00:00,  4.07s/it]"
          ]
        },
        {
          "name": "stdout",
          "output_type": "stream",
          "text": [
            "(105100, 21)\n"
          ]
        },
        {
          "name": "stderr",
          "output_type": "stream",
          "text": [
            "\n"
          ]
        },
        {
          "data": {
            "text/html": [
              "<div>\n",
              "<style scoped>\n",
              "    .dataframe tbody tr th:only-of-type {\n",
              "        vertical-align: middle;\n",
              "    }\n",
              "\n",
              "    .dataframe tbody tr th {\n",
              "        vertical-align: top;\n",
              "    }\n",
              "\n",
              "    .dataframe thead th {\n",
              "        text-align: right;\n",
              "    }\n",
              "</style>\n",
              "<table border=\"1\" class=\"dataframe\">\n",
              "  <thead>\n",
              "    <tr style=\"text-align: right;\">\n",
              "      <th></th>\n",
              "      <th>0</th>\n",
              "      <th>1</th>\n",
              "      <th>2</th>\n",
              "      <th>3</th>\n",
              "      <th>4</th>\n",
              "      <th>5</th>\n",
              "      <th>6</th>\n",
              "      <th>7</th>\n",
              "      <th>8</th>\n",
              "      <th>9</th>\n",
              "      <th>...</th>\n",
              "      <th>11</th>\n",
              "      <th>12</th>\n",
              "      <th>13</th>\n",
              "      <th>14</th>\n",
              "      <th>15</th>\n",
              "      <th>16</th>\n",
              "      <th>17</th>\n",
              "      <th>18</th>\n",
              "      <th>19</th>\n",
              "      <th>20</th>\n",
              "    </tr>\n",
              "  </thead>\n",
              "  <tbody>\n",
              "    <tr>\n",
              "      <th>0</th>\n",
              "      <td>731985001.0</td>\n",
              "      <td>2.994194</td>\n",
              "      <td>4.241562</td>\n",
              "      <td>-2.868546</td>\n",
              "      <td>-3.128559</td>\n",
              "      <td>0.719550</td>\n",
              "      <td>3.129874</td>\n",
              "      <td>2.509374</td>\n",
              "      <td>-2.994750</td>\n",
              "      <td>1.544502</td>\n",
              "      <td>...</td>\n",
              "      <td>2.282867</td>\n",
              "      <td>-1.418456</td>\n",
              "      <td>2.482316</td>\n",
              "      <td>0.265031</td>\n",
              "      <td>4.023338</td>\n",
              "      <td>-3.676731</td>\n",
              "      <td>2.789105</td>\n",
              "      <td>3.580810</td>\n",
              "      <td>-2.182226</td>\n",
              "      <td>1.945852</td>\n",
              "    </tr>\n",
              "    <tr>\n",
              "      <th>1</th>\n",
              "      <td>768992001.0</td>\n",
              "      <td>1.612334</td>\n",
              "      <td>0.077584</td>\n",
              "      <td>2.205141</td>\n",
              "      <td>13.581420</td>\n",
              "      <td>2.362908</td>\n",
              "      <td>5.214824</td>\n",
              "      <td>5.604954</td>\n",
              "      <td>4.838928</td>\n",
              "      <td>6.989165</td>\n",
              "      <td>...</td>\n",
              "      <td>4.048374</td>\n",
              "      <td>7.022014</td>\n",
              "      <td>7.646264</td>\n",
              "      <td>2.621736</td>\n",
              "      <td>-1.670957</td>\n",
              "      <td>-2.222898</td>\n",
              "      <td>5.880712</td>\n",
              "      <td>7.948969</td>\n",
              "      <td>6.732757</td>\n",
              "      <td>8.424791</td>\n",
              "    </tr>\n",
              "    <tr>\n",
              "      <th>2</th>\n",
              "      <td>599074003.0</td>\n",
              "      <td>2.994942</td>\n",
              "      <td>4.308848</td>\n",
              "      <td>-3.210676</td>\n",
              "      <td>3.174331</td>\n",
              "      <td>4.860772</td>\n",
              "      <td>1.771442</td>\n",
              "      <td>4.509799</td>\n",
              "      <td>3.517703</td>\n",
              "      <td>2.079408</td>\n",
              "      <td>...</td>\n",
              "      <td>-2.326030</td>\n",
              "      <td>1.115398</td>\n",
              "      <td>2.047053</td>\n",
              "      <td>-0.070947</td>\n",
              "      <td>6.705506</td>\n",
              "      <td>3.571543</td>\n",
              "      <td>1.371255</td>\n",
              "      <td>2.363821</td>\n",
              "      <td>0.266854</td>\n",
              "      <td>2.573630</td>\n",
              "    </tr>\n",
              "    <tr>\n",
              "      <th>3</th>\n",
              "      <td>747474001.0</td>\n",
              "      <td>1.735365</td>\n",
              "      <td>6.563901</td>\n",
              "      <td>-2.666107</td>\n",
              "      <td>0.181467</td>\n",
              "      <td>1.999983</td>\n",
              "      <td>6.046667</td>\n",
              "      <td>7.012327</td>\n",
              "      <td>-0.153060</td>\n",
              "      <td>-0.637658</td>\n",
              "      <td>...</td>\n",
              "      <td>1.040345</td>\n",
              "      <td>5.799710</td>\n",
              "      <td>3.771623</td>\n",
              "      <td>2.089844</td>\n",
              "      <td>5.029505</td>\n",
              "      <td>2.617890</td>\n",
              "      <td>3.022340</td>\n",
              "      <td>0.277686</td>\n",
              "      <td>-1.758441</td>\n",
              "      <td>6.393712</td>\n",
              "    </tr>\n",
              "    <tr>\n",
              "      <th>4</th>\n",
              "      <td>665188002.0</td>\n",
              "      <td>6.150174</td>\n",
              "      <td>5.119413</td>\n",
              "      <td>4.873886</td>\n",
              "      <td>1.113933</td>\n",
              "      <td>0.188778</td>\n",
              "      <td>3.057647</td>\n",
              "      <td>1.603413</td>\n",
              "      <td>0.339739</td>\n",
              "      <td>2.886212</td>\n",
              "      <td>...</td>\n",
              "      <td>5.963342</td>\n",
              "      <td>-4.205397</td>\n",
              "      <td>0.591804</td>\n",
              "      <td>2.037338</td>\n",
              "      <td>2.474230</td>\n",
              "      <td>1.740465</td>\n",
              "      <td>7.284883</td>\n",
              "      <td>1.139745</td>\n",
              "      <td>2.296670</td>\n",
              "      <td>1.678148</td>\n",
              "    </tr>\n",
              "  </tbody>\n",
              "</table>\n",
              "<p>5 rows × 21 columns</p>\n",
              "</div>"
            ],
            "text/plain": [
              "            0         1         2         3          4         5         6   \\\n",
              "0  731985001.0  2.994194  4.241562 -2.868546  -3.128559  0.719550  3.129874   \n",
              "1  768992001.0  1.612334  0.077584  2.205141  13.581420  2.362908  5.214824   \n",
              "2  599074003.0  2.994942  4.308848 -3.210676   3.174331  4.860772  1.771442   \n",
              "3  747474001.0  1.735365  6.563901 -2.666107   0.181467  1.999983  6.046667   \n",
              "4  665188002.0  6.150174  5.119413  4.873886   1.113933  0.188778  3.057647   \n",
              "\n",
              "         7         8         9   ...        11        12        13        14  \\\n",
              "0  2.509374 -2.994750  1.544502  ...  2.282867 -1.418456  2.482316  0.265031   \n",
              "1  5.604954  4.838928  6.989165  ...  4.048374  7.022014  7.646264  2.621736   \n",
              "2  4.509799  3.517703  2.079408  ... -2.326030  1.115398  2.047053 -0.070947   \n",
              "3  7.012327 -0.153060 -0.637658  ...  1.040345  5.799710  3.771623  2.089844   \n",
              "4  1.603413  0.339739  2.886212  ...  5.963342 -4.205397  0.591804  2.037338   \n",
              "\n",
              "         15        16        17        18        19        20  \n",
              "0  4.023338 -3.676731  2.789105  3.580810 -2.182226  1.945852  \n",
              "1 -1.670957 -2.222898  5.880712  7.948969  6.732757  8.424791  \n",
              "2  6.705506  3.571543  1.371255  2.363821  0.266854  2.573630  \n",
              "3  5.029505  2.617890  3.022340  0.277686 -1.758441  6.393712  \n",
              "4  2.474230  1.740465  7.284883  1.139745  2.296670  1.678148  \n",
              "\n",
              "[5 rows x 21 columns]"
            ]
          },
          "execution_count": 64,
          "metadata": {},
          "output_type": "execute_result"
        }
      ],
      "source": [
        "df = np.zeros((len(test_dataset.images_filepaths), emb_size+1))\n",
        "i=0\n",
        "for img, label, images_filepaths in tqdm(emb_train_loader):\n",
        "    img = img.to(device)\n",
        "    preds = model.efficientnet(img).cpu().detach().numpy()\n",
        "    \n",
        "    for k in range(img.shape[0]):\n",
        "        df[i*BATCH_SIZE + k, 0] = int(images_filepaths[k])\n",
        "        for m in range(emb_size):\n",
        "            df[i*BATCH_SIZE + k, m+1] = preds[k,m:m+1][0]\n",
        "    i+=1\n",
        "    \n",
        "df = pd.DataFrame(df)\n",
        "print(df.shape)\n",
        "df.head()"
      ]
    },
    {
      "cell_type": "code",
      "execution_count": null,
      "id": "4e4b8dbb-7789-445d-9354-12c178bcd165",
      "metadata": {
        "id": "4e4b8dbb-7789-445d-9354-12c178bcd165",
        "outputId": "6e0f4292-f6a0-4bad-bc28-c5898ed8f61a"
      },
      "outputs": [
        {
          "data": {
            "text/html": [
              "<div>\n",
              "<style scoped>\n",
              "    .dataframe tbody tr th:only-of-type {\n",
              "        vertical-align: middle;\n",
              "    }\n",
              "\n",
              "    .dataframe tbody tr th {\n",
              "        vertical-align: top;\n",
              "    }\n",
              "\n",
              "    .dataframe thead th {\n",
              "        text-align: right;\n",
              "    }\n",
              "</style>\n",
              "<table border=\"1\" class=\"dataframe\">\n",
              "  <thead>\n",
              "    <tr style=\"text-align: right;\">\n",
              "      <th></th>\n",
              "      <th>0</th>\n",
              "      <th>1</th>\n",
              "      <th>2</th>\n",
              "      <th>3</th>\n",
              "      <th>4</th>\n",
              "      <th>5</th>\n",
              "      <th>6</th>\n",
              "      <th>7</th>\n",
              "      <th>8</th>\n",
              "      <th>9</th>\n",
              "      <th>...</th>\n",
              "      <th>11</th>\n",
              "      <th>12</th>\n",
              "      <th>13</th>\n",
              "      <th>14</th>\n",
              "      <th>15</th>\n",
              "      <th>16</th>\n",
              "      <th>17</th>\n",
              "      <th>18</th>\n",
              "      <th>19</th>\n",
              "      <th>20</th>\n",
              "    </tr>\n",
              "  </thead>\n",
              "  <tbody>\n",
              "    <tr>\n",
              "      <th>0</th>\n",
              "      <td>731985001.0</td>\n",
              "      <td>2.994194</td>\n",
              "      <td>4.241562</td>\n",
              "      <td>-2.868546</td>\n",
              "      <td>-3.128559</td>\n",
              "      <td>0.719550</td>\n",
              "      <td>3.129874</td>\n",
              "      <td>2.509374</td>\n",
              "      <td>-2.994750</td>\n",
              "      <td>1.544502</td>\n",
              "      <td>...</td>\n",
              "      <td>2.282867</td>\n",
              "      <td>-1.418456</td>\n",
              "      <td>2.482316</td>\n",
              "      <td>0.265031</td>\n",
              "      <td>4.023338</td>\n",
              "      <td>-3.676731</td>\n",
              "      <td>2.789105</td>\n",
              "      <td>3.580810</td>\n",
              "      <td>-2.182226</td>\n",
              "      <td>1.945852</td>\n",
              "    </tr>\n",
              "    <tr>\n",
              "      <th>1</th>\n",
              "      <td>768992001.0</td>\n",
              "      <td>1.612334</td>\n",
              "      <td>0.077584</td>\n",
              "      <td>2.205141</td>\n",
              "      <td>13.581420</td>\n",
              "      <td>2.362908</td>\n",
              "      <td>5.214824</td>\n",
              "      <td>5.604954</td>\n",
              "      <td>4.838928</td>\n",
              "      <td>6.989165</td>\n",
              "      <td>...</td>\n",
              "      <td>4.048374</td>\n",
              "      <td>7.022014</td>\n",
              "      <td>7.646264</td>\n",
              "      <td>2.621736</td>\n",
              "      <td>-1.670957</td>\n",
              "      <td>-2.222898</td>\n",
              "      <td>5.880712</td>\n",
              "      <td>7.948969</td>\n",
              "      <td>6.732757</td>\n",
              "      <td>8.424791</td>\n",
              "    </tr>\n",
              "    <tr>\n",
              "      <th>2</th>\n",
              "      <td>599074003.0</td>\n",
              "      <td>2.994942</td>\n",
              "      <td>4.308848</td>\n",
              "      <td>-3.210676</td>\n",
              "      <td>3.174331</td>\n",
              "      <td>4.860772</td>\n",
              "      <td>1.771442</td>\n",
              "      <td>4.509799</td>\n",
              "      <td>3.517703</td>\n",
              "      <td>2.079408</td>\n",
              "      <td>...</td>\n",
              "      <td>-2.326030</td>\n",
              "      <td>1.115398</td>\n",
              "      <td>2.047053</td>\n",
              "      <td>-0.070947</td>\n",
              "      <td>6.705506</td>\n",
              "      <td>3.571543</td>\n",
              "      <td>1.371255</td>\n",
              "      <td>2.363821</td>\n",
              "      <td>0.266854</td>\n",
              "      <td>2.573630</td>\n",
              "    </tr>\n",
              "    <tr>\n",
              "      <th>3</th>\n",
              "      <td>747474001.0</td>\n",
              "      <td>1.735365</td>\n",
              "      <td>6.563901</td>\n",
              "      <td>-2.666107</td>\n",
              "      <td>0.181467</td>\n",
              "      <td>1.999983</td>\n",
              "      <td>6.046667</td>\n",
              "      <td>7.012327</td>\n",
              "      <td>-0.153060</td>\n",
              "      <td>-0.637658</td>\n",
              "      <td>...</td>\n",
              "      <td>1.040345</td>\n",
              "      <td>5.799710</td>\n",
              "      <td>3.771623</td>\n",
              "      <td>2.089844</td>\n",
              "      <td>5.029505</td>\n",
              "      <td>2.617890</td>\n",
              "      <td>3.022340</td>\n",
              "      <td>0.277686</td>\n",
              "      <td>-1.758441</td>\n",
              "      <td>6.393712</td>\n",
              "    </tr>\n",
              "    <tr>\n",
              "      <th>4</th>\n",
              "      <td>665188002.0</td>\n",
              "      <td>6.150174</td>\n",
              "      <td>5.119413</td>\n",
              "      <td>4.873886</td>\n",
              "      <td>1.113933</td>\n",
              "      <td>0.188778</td>\n",
              "      <td>3.057647</td>\n",
              "      <td>1.603413</td>\n",
              "      <td>0.339739</td>\n",
              "      <td>2.886212</td>\n",
              "      <td>...</td>\n",
              "      <td>5.963342</td>\n",
              "      <td>-4.205397</td>\n",
              "      <td>0.591804</td>\n",
              "      <td>2.037338</td>\n",
              "      <td>2.474230</td>\n",
              "      <td>1.740465</td>\n",
              "      <td>7.284883</td>\n",
              "      <td>1.139745</td>\n",
              "      <td>2.296670</td>\n",
              "      <td>1.678148</td>\n",
              "    </tr>\n",
              "    <tr>\n",
              "      <th>...</th>\n",
              "      <td>...</td>\n",
              "      <td>...</td>\n",
              "      <td>...</td>\n",
              "      <td>...</td>\n",
              "      <td>...</td>\n",
              "      <td>...</td>\n",
              "      <td>...</td>\n",
              "      <td>...</td>\n",
              "      <td>...</td>\n",
              "      <td>...</td>\n",
              "      <td>...</td>\n",
              "      <td>...</td>\n",
              "      <td>...</td>\n",
              "      <td>...</td>\n",
              "      <td>...</td>\n",
              "      <td>...</td>\n",
              "      <td>...</td>\n",
              "      <td>...</td>\n",
              "      <td>...</td>\n",
              "      <td>...</td>\n",
              "      <td>...</td>\n",
              "    </tr>\n",
              "    <tr>\n",
              "      <th>105095</th>\n",
              "      <td>756099006.0</td>\n",
              "      <td>2.222937</td>\n",
              "      <td>-0.211029</td>\n",
              "      <td>-1.454410</td>\n",
              "      <td>6.160294</td>\n",
              "      <td>-1.565254</td>\n",
              "      <td>7.794731</td>\n",
              "      <td>4.425190</td>\n",
              "      <td>2.555802</td>\n",
              "      <td>3.886233</td>\n",
              "      <td>...</td>\n",
              "      <td>-1.025774</td>\n",
              "      <td>4.051438</td>\n",
              "      <td>8.301147</td>\n",
              "      <td>0.867091</td>\n",
              "      <td>2.382906</td>\n",
              "      <td>1.257830</td>\n",
              "      <td>2.378281</td>\n",
              "      <td>2.663671</td>\n",
              "      <td>5.419829</td>\n",
              "      <td>2.042294</td>\n",
              "    </tr>\n",
              "    <tr>\n",
              "      <th>105096</th>\n",
              "      <td>902874001.0</td>\n",
              "      <td>2.007353</td>\n",
              "      <td>5.746308</td>\n",
              "      <td>2.142246</td>\n",
              "      <td>7.100118</td>\n",
              "      <td>-0.788274</td>\n",
              "      <td>1.256388</td>\n",
              "      <td>-0.953932</td>\n",
              "      <td>5.817311</td>\n",
              "      <td>5.905631</td>\n",
              "      <td>...</td>\n",
              "      <td>5.867220</td>\n",
              "      <td>-1.176309</td>\n",
              "      <td>3.913308</td>\n",
              "      <td>-0.250143</td>\n",
              "      <td>-3.981148</td>\n",
              "      <td>2.055040</td>\n",
              "      <td>1.295731</td>\n",
              "      <td>3.077320</td>\n",
              "      <td>3.382244</td>\n",
              "      <td>1.651125</td>\n",
              "    </tr>\n",
              "    <tr>\n",
              "      <th>105097</th>\n",
              "      <td>512972002.0</td>\n",
              "      <td>4.641219</td>\n",
              "      <td>3.706736</td>\n",
              "      <td>3.595165</td>\n",
              "      <td>-1.968270</td>\n",
              "      <td>6.209640</td>\n",
              "      <td>8.210551</td>\n",
              "      <td>-2.062597</td>\n",
              "      <td>-3.272281</td>\n",
              "      <td>5.053578</td>\n",
              "      <td>...</td>\n",
              "      <td>8.498046</td>\n",
              "      <td>0.697883</td>\n",
              "      <td>-2.938936</td>\n",
              "      <td>2.723743</td>\n",
              "      <td>4.350425</td>\n",
              "      <td>-1.741276</td>\n",
              "      <td>5.440692</td>\n",
              "      <td>5.570922</td>\n",
              "      <td>3.524458</td>\n",
              "      <td>2.812809</td>\n",
              "    </tr>\n",
              "    <tr>\n",
              "      <th>105098</th>\n",
              "      <td>763858002.0</td>\n",
              "      <td>3.688154</td>\n",
              "      <td>1.721997</td>\n",
              "      <td>1.887282</td>\n",
              "      <td>3.182931</td>\n",
              "      <td>2.773946</td>\n",
              "      <td>5.029028</td>\n",
              "      <td>4.839123</td>\n",
              "      <td>0.314462</td>\n",
              "      <td>8.273583</td>\n",
              "      <td>...</td>\n",
              "      <td>1.830853</td>\n",
              "      <td>5.323287</td>\n",
              "      <td>1.868093</td>\n",
              "      <td>1.938050</td>\n",
              "      <td>2.436076</td>\n",
              "      <td>2.210815</td>\n",
              "      <td>9.429467</td>\n",
              "      <td>4.631519</td>\n",
              "      <td>1.556428</td>\n",
              "      <td>5.065269</td>\n",
              "    </tr>\n",
              "    <tr>\n",
              "      <th>105099</th>\n",
              "      <td>779333002.0</td>\n",
              "      <td>1.030034</td>\n",
              "      <td>-0.199019</td>\n",
              "      <td>1.055936</td>\n",
              "      <td>1.471929</td>\n",
              "      <td>1.618976</td>\n",
              "      <td>3.133803</td>\n",
              "      <td>4.153226</td>\n",
              "      <td>0.872614</td>\n",
              "      <td>-1.343269</td>\n",
              "      <td>...</td>\n",
              "      <td>1.790210</td>\n",
              "      <td>3.277255</td>\n",
              "      <td>2.523986</td>\n",
              "      <td>4.742838</td>\n",
              "      <td>4.941422</td>\n",
              "      <td>0.900543</td>\n",
              "      <td>2.977074</td>\n",
              "      <td>2.378352</td>\n",
              "      <td>0.470334</td>\n",
              "      <td>-0.666156</td>\n",
              "    </tr>\n",
              "  </tbody>\n",
              "</table>\n",
              "<p>105100 rows × 21 columns</p>\n",
              "</div>"
            ],
            "text/plain": [
              "                 0         1         2         3          4         5   \\\n",
              "0       731985001.0  2.994194  4.241562 -2.868546  -3.128559  0.719550   \n",
              "1       768992001.0  1.612334  0.077584  2.205141  13.581420  2.362908   \n",
              "2       599074003.0  2.994942  4.308848 -3.210676   3.174331  4.860772   \n",
              "3       747474001.0  1.735365  6.563901 -2.666107   0.181467  1.999983   \n",
              "4       665188002.0  6.150174  5.119413  4.873886   1.113933  0.188778   \n",
              "...             ...       ...       ...       ...        ...       ...   \n",
              "105095  756099006.0  2.222937 -0.211029 -1.454410   6.160294 -1.565254   \n",
              "105096  902874001.0  2.007353  5.746308  2.142246   7.100118 -0.788274   \n",
              "105097  512972002.0  4.641219  3.706736  3.595165  -1.968270  6.209640   \n",
              "105098  763858002.0  3.688154  1.721997  1.887282   3.182931  2.773946   \n",
              "105099  779333002.0  1.030034 -0.199019  1.055936   1.471929  1.618976   \n",
              "\n",
              "              6         7         8         9   ...        11        12  \\\n",
              "0       3.129874  2.509374 -2.994750  1.544502  ...  2.282867 -1.418456   \n",
              "1       5.214824  5.604954  4.838928  6.989165  ...  4.048374  7.022014   \n",
              "2       1.771442  4.509799  3.517703  2.079408  ... -2.326030  1.115398   \n",
              "3       6.046667  7.012327 -0.153060 -0.637658  ...  1.040345  5.799710   \n",
              "4       3.057647  1.603413  0.339739  2.886212  ...  5.963342 -4.205397   \n",
              "...          ...       ...       ...       ...  ...       ...       ...   \n",
              "105095  7.794731  4.425190  2.555802  3.886233  ... -1.025774  4.051438   \n",
              "105096  1.256388 -0.953932  5.817311  5.905631  ...  5.867220 -1.176309   \n",
              "105097  8.210551 -2.062597 -3.272281  5.053578  ...  8.498046  0.697883   \n",
              "105098  5.029028  4.839123  0.314462  8.273583  ...  1.830853  5.323287   \n",
              "105099  3.133803  4.153226  0.872614 -1.343269  ...  1.790210  3.277255   \n",
              "\n",
              "              13        14        15        16        17        18        19  \\\n",
              "0       2.482316  0.265031  4.023338 -3.676731  2.789105  3.580810 -2.182226   \n",
              "1       7.646264  2.621736 -1.670957 -2.222898  5.880712  7.948969  6.732757   \n",
              "2       2.047053 -0.070947  6.705506  3.571543  1.371255  2.363821  0.266854   \n",
              "3       3.771623  2.089844  5.029505  2.617890  3.022340  0.277686 -1.758441   \n",
              "4       0.591804  2.037338  2.474230  1.740465  7.284883  1.139745  2.296670   \n",
              "...          ...       ...       ...       ...       ...       ...       ...   \n",
              "105095  8.301147  0.867091  2.382906  1.257830  2.378281  2.663671  5.419829   \n",
              "105096  3.913308 -0.250143 -3.981148  2.055040  1.295731  3.077320  3.382244   \n",
              "105097 -2.938936  2.723743  4.350425 -1.741276  5.440692  5.570922  3.524458   \n",
              "105098  1.868093  1.938050  2.436076  2.210815  9.429467  4.631519  1.556428   \n",
              "105099  2.523986  4.742838  4.941422  0.900543  2.977074  2.378352  0.470334   \n",
              "\n",
              "              20  \n",
              "0       1.945852  \n",
              "1       8.424791  \n",
              "2       2.573630  \n",
              "3       6.393712  \n",
              "4       1.678148  \n",
              "...          ...  \n",
              "105095  2.042294  \n",
              "105096  1.651125  \n",
              "105097  2.812809  \n",
              "105098  5.065269  \n",
              "105099 -0.666156  \n",
              "\n",
              "[105100 rows x 21 columns]"
            ]
          },
          "execution_count": 65,
          "metadata": {},
          "output_type": "execute_result"
        }
      ],
      "source": [
        "df"
      ]
    },
    {
      "cell_type": "code",
      "execution_count": null,
      "id": "58828acc-c991-48f6-a742-30ccde52a6a2",
      "metadata": {
        "id": "58828acc-c991-48f6-a742-30ccde52a6a2"
      },
      "outputs": [],
      "source": [
        "df.to_csv('./checkpoint1.csv')"
      ]
    },
    {
      "cell_type": "code",
      "execution_count": null,
      "id": "0c68b800-21a6-478f-b05b-20d06b6c140d",
      "metadata": {
        "id": "0c68b800-21a6-478f-b05b-20d06b6c140d"
      },
      "outputs": [],
      "source": [
        ""
      ]
    }
  ],
  "metadata": {
    "kernelspec": {
      "display_name": "Python 3 (ipykernel)",
      "language": "python",
      "name": "python3"
    },
    "language_info": {
      "codemirror_mode": {
        "name": "ipython",
        "version": 3
      },
      "file_extension": ".py",
      "mimetype": "text/x-python",
      "name": "python",
      "nbconvert_exporter": "python",
      "pygments_lexer": "ipython3",
      "version": "3.7.12"
    },
    "colab": {
      "name": "product_type_no.ipynb",
      "provenance": [],
      "include_colab_link": true
    }
  },
  "nbformat": 4,
  "nbformat_minor": 5
}
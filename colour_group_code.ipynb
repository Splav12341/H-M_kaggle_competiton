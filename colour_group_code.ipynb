{
  "cells": [
    {
      "cell_type": "markdown",
      "metadata": {
        "id": "view-in-github",
        "colab_type": "text"
      },
      "source": [
        "<a href=\"https://colab.research.google.com/github/Splav12341/H-M_kaggle_competiton/blob/main/colour_group_code.ipynb\" target=\"_parent\"><img src=\"https://colab.research.google.com/assets/colab-badge.svg\" alt=\"Open In Colab\"/></a>"
      ]
    },
    {
      "cell_type": "code",
      "execution_count": null,
      "id": "2c652aa4-5be1-4d06-9bc0-766664397d2f",
      "metadata": {
        "id": "2c652aa4-5be1-4d06-9bc0-766664397d2f"
      },
      "outputs": [],
      "source": [
        "import torch\n",
        "from torchvision import transforms\n",
        "import torchvision\n",
        "import torch.nn as nn\n",
        "import torch.nn.functional as F\n",
        "\n",
        "from matplotlib import pyplot as plt\n",
        "import numpy as np\n",
        "import time\n",
        "from collections import defaultdict\n",
        "from tqdm import tqdm\n",
        "\n",
        "import os\n",
        "device = torch.device(\"cuda\") if torch.cuda.is_available() else torch.device(\"cpu\")"
      ]
    },
    {
      "cell_type": "code",
      "execution_count": null,
      "id": "5431607a-d5ee-4a1b-85d7-3e77c941880a",
      "metadata": {
        "id": "5431607a-d5ee-4a1b-85d7-3e77c941880a",
        "outputId": "f184e522-6f7f-44d8-b3e8-9a711ea18d47"
      },
      "outputs": [
        {
          "data": {
            "text/plain": [
              "device(type='cuda')"
            ]
          },
          "execution_count": 2,
          "metadata": {},
          "output_type": "execute_result"
        }
      ],
      "source": [
        "device"
      ]
    },
    {
      "cell_type": "code",
      "execution_count": null,
      "id": "0a3e87e5-adcb-40b6-a50e-a35f97de1128",
      "metadata": {
        "id": "0a3e87e5-adcb-40b6-a50e-a35f97de1128",
        "outputId": "86f1f729-e15c-42c3-f323-7b9d665a4210"
      },
      "outputs": [
        {
          "data": {
            "text/plain": [
              "True"
            ]
          },
          "execution_count": 3,
          "metadata": {},
          "output_type": "execute_result"
        }
      ],
      "source": [
        "torch.cuda.is_available()"
      ]
    },
    {
      "cell_type": "code",
      "execution_count": null,
      "id": "7c9d6fe1-59ca-41de-83d1-4cd1e348a2f7",
      "metadata": {
        "id": "7c9d6fe1-59ca-41de-83d1-4cd1e348a2f7",
        "outputId": "1c1d8c57-3be1-45d8-b7b8-aebbc9bf1e0f"
      },
      "outputs": [
        {
          "name": "stdout",
          "output_type": "stream",
          "text": [
            "Wed Apr 27 17:58:00 2022       \n",
            "+-----------------------------------------------------------------------------+\n",
            "| NVIDIA-SMI 410.129      Driver Version: 410.129      CUDA Version: 10.1     |\n",
            "|-------------------------------+----------------------+----------------------+\n",
            "| GPU  Name        Persistence-M| Bus-Id        Disp.A | Volatile Uncorr. ECC |\n",
            "| Fan  Temp  Perf  Pwr:Usage/Cap|         Memory-Usage | GPU-Util  Compute M. |\n",
            "|===============================+======================+======================|\n",
            "|   0  Tesla V100-SXM3...  On   | 00000000:59:00.0 Off |                    0 |\n",
            "| N/A   35C    P0    49W / 312W |     13MiB / 32480MiB |      0%      Default |\n",
            "+-------------------------------+----------------------+----------------------+\n",
            "                                                                               \n",
            "+-----------------------------------------------------------------------------+\n",
            "| Processes:                                                       GPU Memory |\n",
            "|  GPU       PID   Type   Process name                             Usage      |\n",
            "|=============================================================================|\n",
            "|  No running processes found                                                 |\n",
            "+-----------------------------------------------------------------------------+\n"
          ]
        }
      ],
      "source": [
        "!nvidia-smi"
      ]
    },
    {
      "cell_type": "code",
      "execution_count": null,
      "id": "656a5395-714b-40ee-92b7-ec034966c90e",
      "metadata": {
        "id": "656a5395-714b-40ee-92b7-ec034966c90e"
      },
      "outputs": [],
      "source": [
        "DATA_PATH = r\"./../H&M/images\"\n",
        "\n",
        "NUM_WORKERS = 8\n",
        "SIZE_H = SIZE_W = 256\n",
        "\n",
        "EPOCH_NUM = 30\n",
        "BATCH_SIZE = 250\n",
        "\n",
        "# Images mean and std channelwise\n",
        "image_mean = [0.485, 0.456, 0.406]\n",
        "image_std  = [0.229, 0.224, 0.225]"
      ]
    },
    {
      "cell_type": "code",
      "execution_count": null,
      "id": "869aa9a0-fd71-4a40-a1a2-c3097f111621",
      "metadata": {
        "id": "869aa9a0-fd71-4a40-a1a2-c3097f111621"
      },
      "outputs": [],
      "source": [
        "transformer = transforms.Compose([\n",
        "    transforms.Resize((SIZE_H, SIZE_W)),        # scaling images to fixed size\n",
        "    transforms.ToTensor(),                      # converting to tensors\n",
        "    transforms.Normalize(image_mean, image_std) # normalize image data per-channel\n",
        "])"
      ]
    },
    {
      "cell_type": "code",
      "execution_count": null,
      "id": "aefe1335-5ebc-4d88-8d50-076fc5ff7735",
      "metadata": {
        "id": "aefe1335-5ebc-4d88-8d50-076fc5ff7735"
      },
      "outputs": [],
      "source": [
        "import cv2\n",
        "from PIL import Image\n",
        "from torch.utils.data import Dataset, DataLoader, Subset"
      ]
    },
    {
      "cell_type": "code",
      "execution_count": null,
      "id": "3c22af6a-0f43-4d41-b909-374d37312107",
      "metadata": {
        "id": "3c22af6a-0f43-4d41-b909-374d37312107"
      },
      "outputs": [],
      "source": [
        "import pandas as pd\n",
        "df = pd.read_csv('./../H&M/articles.csv')\n",
        "df = df.astype({'article_id': 'str'})"
      ]
    },
    {
      "cell_type": "markdown",
      "id": "e4d9164f-d2d3-450a-a0f8-6dbf00678613",
      "metadata": {
        "id": "e4d9164f-d2d3-450a-a0f8-6dbf00678613"
      },
      "source": [
        "# Make Dataset"
      ]
    },
    {
      "cell_type": "code",
      "execution_count": null,
      "id": "87050e5b-a739-41ed-b842-cac37002b8e0",
      "metadata": {
        "id": "87050e5b-a739-41ed-b842-cac37002b8e0"
      },
      "outputs": [],
      "source": [
        "class DatasetImageFolder(torch.utils.data.Dataset):\n",
        "    def __init__(self, DATA_PATH: str, df, transform):\n",
        "        super(DatasetImageFolder, self).__init__()\n",
        "        self.root = DATA_PATH\n",
        "        self.transform = transform\n",
        "        self.class_names = []\n",
        "        self.images_filepaths = []\n",
        " \n",
        "        for directory in tqdm(sorted(os.listdir(os.path.join(DATA_PATH)))):\n",
        "            for fname in os.listdir(os.path.join(DATA_PATH + '/' + directory)):\n",
        "                for row in df.values:\n",
        "                    if fname[1:-4] == row[0]:\n",
        "                        self.images_filepaths.append(row[0])\n",
        "                        self.class_names.append(row[1])\n",
        "                        df = df.drop(df[df.article_id == row[0]].index)\n",
        "                        break\n",
        "                        \n",
        "        self.target_dict = dict()\n",
        "        for idx, label in enumerate(np.unique(self.class_names)):\n",
        "            self.target_dict[label] = idx\n",
        "\n",
        "    def __len__(self):\n",
        "        return len(self.images_filepaths)\n",
        " \n",
        "    def __getitem__(self, idx):\n",
        "        \n",
        "        image_filepath = ('./../H&M/images/' + '0' + str(test_dataset.images_filepaths[idx])[:2] + '/0' + \n",
        "                                str(test_dataset.images_filepaths[idx]) +'.jpg')\n",
        "        image = Image.open(image_filepath)\n",
        "     \n",
        "        label = torch.tensor(self.target_dict[self.class_names[idx]])\n",
        "        try:\n",
        "            image = self.transform(image)\n",
        "        except RuntimeError:\n",
        "            print('aaaaa:', image_filepath)\n",
        "            \n",
        "            image = torch.zeros((3, 256, 256))\n",
        "            label = torch.tensor(0)\n",
        "        return image, label, self.images_filepaths[idx]"
      ]
    },
    {
      "cell_type": "code",
      "execution_count": null,
      "id": "b011dc5b-b116-4164-a462-f81d75772eff",
      "metadata": {
        "id": "b011dc5b-b116-4164-a462-f81d75772eff",
        "outputId": "cf1e4d85-51e4-40cd-df55-ff6e36ace17a"
      },
      "outputs": [
        {
          "name": "stderr",
          "output_type": "stream",
          "text": [
            "100%|██████████| 86/86 [12:00<00:00,  8.38s/it]\n"
          ]
        }
      ],
      "source": [
        "column = 'colour_group_code'\n",
        "test_dataset = DatasetImageFolder(DATA_PATH, df[['article_id', column]], transformer)"
      ]
    },
    {
      "cell_type": "markdown",
      "id": "8ca970d3-67f0-4580-ab86-c9616506c083",
      "metadata": {
        "id": "8ca970d3-67f0-4580-ab86-c9616506c083"
      },
      "source": [
        "## pseudo balance classes"
      ]
    },
    {
      "cell_type": "code",
      "execution_count": null,
      "id": "c62a6fd3-4047-4c07-a047-d49c5e5ab778",
      "metadata": {
        "id": "c62a6fd3-4047-4c07-a047-d49c5e5ab778"
      },
      "outputs": [],
      "source": [
        "unique, counts = np.unique(test_dataset.class_names, return_counts=True)"
      ]
    },
    {
      "cell_type": "code",
      "execution_count": null,
      "id": "b36cc874-d8f8-473f-a9d9-aa8b1180c3e9",
      "metadata": {
        "id": "b36cc874-d8f8-473f-a9d9-aa8b1180c3e9",
        "outputId": "49ad9631-0206-4ef4-947c-512b3940144f"
      },
      "outputs": [
        {
          "data": {
            "text/plain": [
              "array([   28,   104,    30,   696,    91,  1359,  2097,  4476,  2727,\n",
              "       22565,  9501,  2722,  3341,  2708,  1079,   226,  1459,  2761,\n",
              "         225,   982,  1639,   574,   151,  1508,   771,   883,   114,\n",
              "         282,  3045,  2335,   741,  5776,  2055,   815,    45,   548,\n",
              "         182,   314,    51,  3004,  3304, 12129,    14,  1024,   433,\n",
              "         471,   126,   679,   811,  2099])"
            ]
          },
          "execution_count": 12,
          "metadata": {},
          "output_type": "execute_result"
        }
      ],
      "source": [
        "counts"
      ]
    },
    {
      "cell_type": "code",
      "execution_count": null,
      "id": "8cf20447-dd26-4557-bf5b-c52c909f5c0c",
      "metadata": {
        "id": "8cf20447-dd26-4557-bf5b-c52c909f5c0c",
        "outputId": "bd8f16ea-2720-40b9-944f-589a76df7961"
      },
      "outputs": [
        {
          "data": {
            "text/plain": [
              "array([-1,  1,  2,  3,  4,  5,  6,  7,  8,  9, 10, 11, 12, 13, 14, 15, 17,\n",
              "       19, 20, 21, 22, 23, 30, 31, 32, 33, 40, 41, 42, 43, 50, 51, 52, 53,\n",
              "       60, 61, 62, 63, 70, 71, 72, 73, 80, 81, 82, 83, 90, 91, 92, 93])"
            ]
          },
          "execution_count": 13,
          "metadata": {},
          "output_type": "execute_result"
        }
      ],
      "source": [
        "unique"
      ]
    },
    {
      "cell_type": "code",
      "execution_count": null,
      "id": "822218be-74b0-4509-9941-f82e741faa10",
      "metadata": {
        "id": "822218be-74b0-4509-9941-f82e741faa10",
        "outputId": "d906e3be-f3eb-4c71-8fe1-f5e0cf156961"
      },
      "outputs": [
        {
          "data": {
            "text/plain": [
              " 9     22670\n",
              " 73    12171\n",
              " 10     9542\n",
              " 51     5811\n",
              " 7      4487\n",
              " 12     3356\n",
              " 72     3308\n",
              " 42     3056\n",
              " 71     3012\n",
              " 19     2767\n",
              " 8      2731\n",
              " 11     2726\n",
              " 13     2712\n",
              " 43     2340\n",
              " 93     2106\n",
              " 6      2105\n",
              " 52     2063\n",
              " 22     1645\n",
              " 31     1520\n",
              " 17     1471\n",
              " 5      1377\n",
              " 14     1084\n",
              " 81     1027\n",
              " 21      984\n",
              " 33      886\n",
              " 53      818\n",
              " 92      815\n",
              " 32      779\n",
              " 50      750\n",
              " 3       709\n",
              " 91      681\n",
              " 23      574\n",
              " 61      553\n",
              " 83      473\n",
              " 82      435\n",
              " 63      315\n",
              " 41      285\n",
              " 15      226\n",
              " 20      225\n",
              " 62      182\n",
              " 30      153\n",
              " 90      129\n",
              " 40      114\n",
              " 1       105\n",
              " 4        94\n",
              " 70       51\n",
              " 60       46\n",
              " 2        31\n",
              "-1        28\n",
              " 80       14\n",
              "Name: colour_group_code, dtype: int64"
            ]
          },
          "execution_count": 14,
          "metadata": {},
          "output_type": "execute_result"
        }
      ],
      "source": [
        "df[column].value_counts()"
      ]
    },
    {
      "cell_type": "markdown",
      "id": "9f600b4a-3c7f-4422-b2da-247fc4355b15",
      "metadata": {
        "id": "9f600b4a-3c7f-4422-b2da-247fc4355b15"
      },
      "source": [
        "## choose balance_number"
      ]
    },
    {
      "cell_type": "code",
      "execution_count": null,
      "id": "4a29ac12-47dc-485f-9c7f-9b306e24f8e8",
      "metadata": {
        "id": "4a29ac12-47dc-485f-9c7f-9b306e24f8e8",
        "outputId": "bef46315-a09f-480c-a2c5-15d0fabd02c0"
      },
      "outputs": [
        {
          "name": "stdout",
          "output_type": "stream",
          "text": [
            "{-1: 71, 1: 19, 2: 66, 3: 2, 4: 21, 5: 1, 6: 0, 7: 0, 8: 0, 9: 0, 10: 0, 11: 0, 12: 0, 13: 0, 14: 1, 15: 8, 17: 1, 19: 0, 20: 8, 21: 2, 22: 1, 23: 3, 30: 13, 31: 1, 32: 2, 33: 2, 40: 17, 41: 7, 42: 0, 43: 0, 50: 2, 51: 0, 52: 0, 53: 2, 60: 44, 61: 3, 62: 10, 63: 6, 70: 39, 71: 0, 72: 0, 73: 0, 80: 142, 81: 1, 82: 4, 83: 4, 90: 15, 91: 2, 92: 2, 93: 0}\n"
          ]
        }
      ],
      "source": [
        "d = dict()\n",
        "balance_number = 2000.\n",
        "\n",
        "# colour_group_code\n",
        "# balance_number = 1000.\n",
        "\n",
        "# graphical_appearance_no\n",
        "# balance_number = 3000.\n",
        "\n",
        "\n",
        "for idx, value in enumerate(counts):\n",
        "    weight = int(balance_number/value)\n",
        "    d[unique[idx]] = weight\n",
        "print(d)"
      ]
    },
    {
      "cell_type": "markdown",
      "id": "6dbaf646-91cf-4e6d-92a9-f030580fa7d9",
      "metadata": {
        "id": "6dbaf646-91cf-4e6d-92a9-f030580fa7d9"
      },
      "source": [
        "## Balanced dataset "
      ]
    },
    {
      "cell_type": "code",
      "execution_count": null,
      "id": "4011b76b-7d35-42de-bee9-d2243d3122de",
      "metadata": {
        "id": "4011b76b-7d35-42de-bee9-d2243d3122de"
      },
      "outputs": [],
      "source": [
        "class BalancedDatasetImageFolder(torch.utils.data.Dataset):\n",
        "    def __init__(self, DATA_PATH: str, transform, class_names, images_filepaths, target_dict):\n",
        "        super().__init__()\n",
        "        self.root = DATA_PATH\n",
        "        self.transform = transform\n",
        "        self.class_names = class_names.copy()\n",
        "        self.images_filepaths = images_filepaths.copy()\n",
        "                        \n",
        "        self.target_dict = target_dict.copy()\n",
        "\n",
        "    def __len__(self):\n",
        "        return len(self.images_filepaths)\n",
        " \n",
        "    def __getitem__(self, idx):\n",
        "        image_filepath = ('./../H&M/images/' + '0' + str(self.images_filepaths[idx])[:2] + '/0' + \n",
        "                                str(self.images_filepaths[idx]) +'.jpg')\n",
        "        image = Image.open(image_filepath)\n",
        "        label = torch.tensor(self.target_dict[self.class_names[idx]])\n",
        "        try:\n",
        "            image = self.transform(image)\n",
        "        except RuntimeError:\n",
        "            print('aaaaa:', image_filepath)\n",
        "            \n",
        "            image = torch.zeros((3, 256, 256))\n",
        "            label = torch.tensor(0)\n",
        "        return image, label, self.images_filepaths[idx]"
      ]
    },
    {
      "cell_type": "code",
      "execution_count": null,
      "id": "b57aba26-29f3-486f-b965-4698940bd9e0",
      "metadata": {
        "id": "b57aba26-29f3-486f-b965-4698940bd9e0"
      },
      "outputs": [],
      "source": [
        "balanced_dataset = BalancedDatasetImageFolder(DATA_PATH, transformer, test_dataset.class_names, test_dataset.images_filepaths, test_dataset.target_dict)"
      ]
    },
    {
      "cell_type": "code",
      "execution_count": null,
      "id": "8f0e47c4-d4ab-4d00-bd5c-b128e43e3acc",
      "metadata": {
        "id": "8f0e47c4-d4ab-4d00-bd5c-b128e43e3acc",
        "outputId": "16be25d8-fc2a-4593-c6c4-c4b858e02768"
      },
      "outputs": [
        {
          "name": "stderr",
          "output_type": "stream",
          "text": [
            "105100it [00:00, 886058.82it/s]\n"
          ]
        }
      ],
      "source": [
        "class_names = []\n",
        "images_filepaths = []\n",
        "for name, path in tqdm(zip(balanced_dataset.class_names, balanced_dataset.images_filepaths)):\n",
        "    \n",
        "    tmp_names = []\n",
        "    tmp_paths = []\n",
        "    if d[name]>0:\n",
        "        tmp_names.append(name)\n",
        "        tmp_names = tmp_names*d[name]\n",
        "        tmp_paths.append(path)\n",
        "        tmp_paths = tmp_paths*d[name]\n",
        "\n",
        "        class_names.extend(tmp_names)\n",
        "        images_filepaths.extend(tmp_paths)\n",
        "        \n",
        "balanced_dataset.class_names.extend(class_names)\n",
        "balanced_dataset.images_filepaths.extend(images_filepaths)    "
      ]
    },
    {
      "cell_type": "markdown",
      "id": "5b39238d-cdfc-4cb0-8569-afebbd1c45f2",
      "metadata": {
        "id": "5b39238d-cdfc-4cb0-8569-afebbd1c45f2"
      },
      "source": [
        "## checking"
      ]
    },
    {
      "cell_type": "code",
      "execution_count": null,
      "id": "626877d9-0a98-4af4-8361-b10441c419ad",
      "metadata": {
        "id": "626877d9-0a98-4af4-8361-b10441c419ad"
      },
      "outputs": [],
      "source": [
        "unique, counts = np.unique(balanced_dataset.class_names, return_counts=True)"
      ]
    },
    {
      "cell_type": "code",
      "execution_count": null,
      "id": "e172dada-24cf-4bd1-98c0-487b5776a53f",
      "metadata": {
        "id": "e172dada-24cf-4bd1-98c0-487b5776a53f",
        "outputId": "38cbc7e5-99cb-43f1-ae0a-408a39d51478"
      },
      "outputs": [
        {
          "data": {
            "text/plain": [
              "array([ 2016,  2080,  2010,  2088,  2002,  2718,  2097,  4476,  2727,\n",
              "       22565,  9501,  2722,  3341,  2708,  2158,  2034,  2918,  2761,\n",
              "        2025,  2946,  3278,  2296,  2114,  3016,  2313,  2649,  2052,\n",
              "        2256,  3045,  2335,  2223,  5776,  2055,  2445,  2025,  2192,\n",
              "        2002,  2198,  2040,  3004,  3304, 12129,  2002,  2048,  2165,\n",
              "        2355,  2016,  2037,  2433,  2099])"
            ]
          },
          "execution_count": 20,
          "metadata": {},
          "output_type": "execute_result"
        }
      ],
      "source": [
        "counts"
      ]
    },
    {
      "cell_type": "code",
      "execution_count": null,
      "id": "b018810f-8058-49bb-8246-c7bf5a0bd5bd",
      "metadata": {
        "id": "b018810f-8058-49bb-8246-c7bf5a0bd5bd"
      },
      "outputs": [],
      "source": [
        "unique, counts = np.unique(test_dataset.class_names, return_counts=True)"
      ]
    },
    {
      "cell_type": "code",
      "execution_count": null,
      "id": "88533b28-a9ff-4742-a538-fbe536d51793",
      "metadata": {
        "id": "88533b28-a9ff-4742-a538-fbe536d51793",
        "outputId": "63103484-bd94-445f-aed7-3cf8632399bb"
      },
      "outputs": [
        {
          "data": {
            "text/plain": [
              "array([   28,   104,    30,   696,    91,  1359,  2097,  4476,  2727,\n",
              "       22565,  9501,  2722,  3341,  2708,  1079,   226,  1459,  2761,\n",
              "         225,   982,  1639,   574,   151,  1508,   771,   883,   114,\n",
              "         282,  3045,  2335,   741,  5776,  2055,   815,    45,   548,\n",
              "         182,   314,    51,  3004,  3304, 12129,    14,  1024,   433,\n",
              "         471,   126,   679,   811,  2099])"
            ]
          },
          "execution_count": 22,
          "metadata": {},
          "output_type": "execute_result"
        }
      ],
      "source": [
        "counts"
      ]
    },
    {
      "cell_type": "markdown",
      "id": "8c3d6889-127c-4d05-b3d8-4a7202f2df4c",
      "metadata": {
        "id": "8c3d6889-127c-4d05-b3d8-4a7202f2df4c"
      },
      "source": [
        "# DataLoader"
      ]
    },
    {
      "cell_type": "code",
      "execution_count": null,
      "id": "9fc52c00-8e18-4201-971f-a581179ca55d",
      "metadata": {
        "id": "9fc52c00-8e18-4201-971f-a581179ca55d",
        "outputId": "9e917464-9d6a-473c-d60e-c18e2a41e005"
      },
      "outputs": [
        {
          "name": "stdout",
          "output_type": "stream",
          "text": [
            "torch.Size([3, 256, 256])\n",
            "tensor(9)\n"
          ]
        }
      ],
      "source": [
        "img, label, images_filepaths = balanced_dataset[0]\n",
        "print(img.shape)\n",
        "print(label)"
      ]
    },
    {
      "cell_type": "code",
      "execution_count": null,
      "id": "eda63e15-42ad-412b-87b5-dce3263e406b",
      "metadata": {
        "id": "eda63e15-42ad-412b-87b5-dce3263e406b"
      },
      "outputs": [],
      "source": [
        "NUM_WORKERS=8\n",
        "train_loader = DataLoader(balanced_dataset, batch_size=BATCH_SIZE, shuffle=True, num_workers=NUM_WORKERS)\n",
        "\n",
        "emb_train_loader = DataLoader(test_dataset, batch_size=BATCH_SIZE, shuffle=True, num_workers=NUM_WORKERS)"
      ]
    },
    {
      "cell_type": "code",
      "execution_count": null,
      "id": "f0fdd3f7-8dfa-4415-9381-7630a5d42e47",
      "metadata": {
        "id": "f0fdd3f7-8dfa-4415-9381-7630a5d42e47"
      },
      "outputs": [],
      "source": [
        "# train_iter = iter(train_loader)\n",
        "# it = next(train_iter)\n",
        "# print(len(it))\n",
        "# print(it[0].shape)\n",
        "# print(it[1])"
      ]
    },
    {
      "cell_type": "markdown",
      "id": "87f76024-b6de-4d60-9345-f56e88ec8522",
      "metadata": {
        "id": "87f76024-b6de-4d60-9345-f56e88ec8522"
      },
      "source": [
        "## plot samples"
      ]
    },
    {
      "cell_type": "code",
      "execution_count": null,
      "id": "6e8770a4-822b-4821-9ef6-0a5842f666fe",
      "metadata": {
        "id": "6e8770a4-822b-4821-9ef6-0a5842f666fe"
      },
      "outputs": [],
      "source": [
        "def plot_from_batch_generator(batch_gen):\n",
        "    data_batch, label_batch, images_filepaths = next(iter(batch_gen))\n",
        "    grid_size = (3, 3)\n",
        "    f, axarr = plt.subplots(*grid_size)\n",
        "    f.set_size_inches(15,10)\n",
        "    class_names = batch_gen.dataset.class_names\n",
        "    for i in range(grid_size[0] * grid_size[1]):\n",
        "        \n",
        "        # read images from batch to numpy.ndarray and change axes order [H, W, C] -> [H, W, C]\n",
        "        batch_image_ndarray = np.transpose(data_batch[i].numpy(), [1, 2, 0])\n",
        "        \n",
        "        # inverse normalization for image data values back to [0,1] and clipping the values for correct pyplot.imshow()\n",
        "        src = np.clip(image_std * batch_image_ndarray + image_mean, 0, 1)\n",
        "        \n",
        "        # display batch samples with labels\n",
        "#         sample_title = 'Label = %d (%s)' % (label_batch[i], class_names[label_batch[i]])\n",
        "        sample_title = 'Label = %s' % class_names[label_batch[i]]\n",
        "        axarr[i // grid_size[0], i % grid_size[0]].imshow(src)\n",
        "        axarr[i // grid_size[0], i % grid_size[0]].set_title(sample_title)"
      ]
    },
    {
      "cell_type": "code",
      "execution_count": null,
      "id": "ea3b0ab1-666c-41a6-8cb8-d2469e8a8017",
      "metadata": {
        "id": "ea3b0ab1-666c-41a6-8cb8-d2469e8a8017"
      },
      "outputs": [],
      "source": [
        "# plot_from_batch_generator(train_loader)"
      ]
    },
    {
      "cell_type": "markdown",
      "id": "538f38a2-e8f9-436c-a243-8affbb2b9c41",
      "metadata": {
        "id": "538f38a2-e8f9-436c-a243-8affbb2b9c41"
      },
      "source": [
        "## define num_classes"
      ]
    },
    {
      "cell_type": "code",
      "execution_count": null,
      "id": "0d94efc6-13b5-414d-8025-f5fb67c2840a",
      "metadata": {
        "id": "0d94efc6-13b5-414d-8025-f5fb67c2840a"
      },
      "outputs": [],
      "source": [
        "NUM_CLASSES = len(np.unique(train_loader.dataset.class_names))"
      ]
    },
    {
      "cell_type": "markdown",
      "id": "33a2c204-ee47-44df-8e45-a729035b17b2",
      "metadata": {
        "id": "33a2c204-ee47-44df-8e45-a729035b17b2"
      },
      "source": [
        "# Download model"
      ]
    },
    {
      "cell_type": "code",
      "execution_count": null,
      "id": "3c3cf2f3-0f5f-4364-98dd-c413b90ca293",
      "metadata": {
        "id": "3c3cf2f3-0f5f-4364-98dd-c413b90ca293"
      },
      "outputs": [],
      "source": [
        "# !pip install efficientnet_pytorch"
      ]
    },
    {
      "cell_type": "code",
      "execution_count": null,
      "id": "7f483271-4df7-464f-aa5f-265277434768",
      "metadata": {
        "id": "7f483271-4df7-464f-aa5f-265277434768"
      },
      "outputs": [],
      "source": [
        "from efficientnet_pytorch import EfficientNet"
      ]
    },
    {
      "cell_type": "code",
      "execution_count": null,
      "id": "5b280168-dc81-4f6f-bde1-0b77e0bfbd25",
      "metadata": {
        "id": "5b280168-dc81-4f6f-bde1-0b77e0bfbd25",
        "outputId": "aa19acf6-6166-4f9a-c98e-165be7badbab"
      },
      "outputs": [
        {
          "name": "stdout",
          "output_type": "stream",
          "text": [
            "Loaded pretrained weights for efficientnet-b4\n"
          ]
        }
      ],
      "source": [
        "# Load pre-trained model\n",
        "# model_resnet18 = torchvision.models.resnet152(pretrained=True)\n",
        "from collections import OrderedDict\n",
        "model = EfficientNet.from_pretrained('efficientnet-b4')\n",
        "\n",
        "# Disable gradient updates for all the layers except  the final layer\n",
        "# YOUR CODE HERE\n",
        "for p in model.parameters():\n",
        "    p.requires_grad = False\n",
        "\n",
        "# Parameters of newly constructed modules have requires_grad=True by default\n",
        "num_feat = model._fc.in_features\n",
        "\n",
        "# hid_size = 200\n",
        "emb_size = 20\n",
        "model._fc = nn.Linear(num_feat, emb_size)\n",
        "\n",
        "model = nn.Sequential(OrderedDict([\n",
        "          ('efficientnet', model),\n",
        "          ('leaky_relu1', nn.LeakyReLU(0.3)),\n",
        "          ('lin', nn.Linear(emb_size, NUM_CLASSES)),\n",
        "          ('leaky_relu2', nn.LeakyReLU(0.3))\n",
        "]))\n",
        "\n",
        "# Use available device for calculations\n",
        "model = model.to(device)"
      ]
    },
    {
      "cell_type": "code",
      "execution_count": null,
      "id": "37836eeb-0ea7-4c78-b6e3-8d84ff75b5d3",
      "metadata": {
        "id": "37836eeb-0ea7-4c78-b6e3-8d84ff75b5d3",
        "outputId": "a19a6ec3-c974-4e19-fcec-fff77f3318d9"
      },
      "outputs": [
        {
          "name": "stdout",
          "output_type": "stream",
          "text": [
            "mkdir: cannot create directory ‘./models’: File exists\n"
          ]
        }
      ],
      "source": [
        "!mkdir ./models\n",
        "CHECKPOINT_PATH = \"./models/save2\""
      ]
    },
    {
      "cell_type": "code",
      "execution_count": null,
      "id": "3c05e332-2abd-444d-940a-83286e34ace3",
      "metadata": {
        "id": "3c05e332-2abd-444d-940a-83286e34ace3"
      },
      "outputs": [],
      "source": [
        "# torch.save(model.state_dict(),CHECKPOINT_PATH)\n",
        "# model.load_state_dict(torch.load(CHECKPOINT_PATH))\n",
        "# model = model.to(device)"
      ]
    },
    {
      "cell_type": "code",
      "execution_count": null,
      "id": "b270d01a-7c11-46ce-9153-69684b9afdd6",
      "metadata": {
        "id": "b270d01a-7c11-46ce-9153-69684b9afdd6"
      },
      "outputs": [],
      "source": [
        "# model(it[0].to(device)).shape"
      ]
    },
    {
      "cell_type": "markdown",
      "id": "63897426-99dc-4d3e-bf96-0c830e52426f",
      "metadata": {
        "id": "63897426-99dc-4d3e-bf96-0c830e52426f"
      },
      "source": [
        "## tensorboard"
      ]
    },
    {
      "cell_type": "code",
      "execution_count": null,
      "id": "5c3ad366-70fd-4921-b558-23f45866b549",
      "metadata": {
        "id": "5c3ad366-70fd-4921-b558-23f45866b549"
      },
      "outputs": [],
      "source": [
        "# !rm -r ./runs/log"
      ]
    },
    {
      "cell_type": "code",
      "execution_count": null,
      "id": "8ce144e0-033d-4b79-aee8-fea5752fec10",
      "metadata": {
        "id": "8ce144e0-033d-4b79-aee8-fea5752fec10"
      },
      "outputs": [],
      "source": [
        "# from torch.utils.tensorboard import SummaryWriter\n",
        "# writer = SummaryWriter('runs/log2')"
      ]
    },
    {
      "cell_type": "code",
      "execution_count": null,
      "id": "70d436e2-0058-4540-aa2e-a14c093e28ff",
      "metadata": {
        "id": "70d436e2-0058-4540-aa2e-a14c093e28ff"
      },
      "outputs": [],
      "source": [
        "# %reload_ext tensorboard\n",
        "# %tensorboard --logdir=./runs --bind_all --port=6007# bind_all for remoted python\n",
        "# # or use http://tpls-sgmta00001.sigma.sbrf.ru:6006/"
      ]
    },
    {
      "cell_type": "markdown",
      "id": "ce9ae98c-4779-4f04-814d-d6d8a974052b",
      "metadata": {
        "id": "ce9ae98c-4779-4f04-814d-d6d8a974052b"
      },
      "source": [
        "## training"
      ]
    },
    {
      "cell_type": "code",
      "execution_count": null,
      "id": "23e3c8f8-ca29-4235-b08f-8552095272b8",
      "metadata": {
        "id": "23e3c8f8-ca29-4235-b08f-8552095272b8"
      },
      "outputs": [],
      "source": [
        "from IPython.display import clear_output\n",
        "import time\n",
        "from sklearn.metrics import accuracy_score\n",
        "\n",
        "def fit(model, epochs, lr):\n",
        "    torch.cuda.empty_cache()\n",
        "    \n",
        "    opt = torch.optim.Adam(model.parameters(), lr=lr, betas=(0.5, 0.999))\n",
        "    train_losses = []\n",
        "    accuracy = []\n",
        "    start = time.time()\n",
        "    i=0\n",
        "    flag = False\n",
        "    for epoch in range(epochs):\n",
        "        model.train(True)\n",
        "        for img, label, images_filepaths in tqdm(train_loader):\n",
        "            clear_output(True)\n",
        "            img = img.to(device)\n",
        "            label = label.to(device)\n",
        "            opt.zero_grad()\n",
        "            preds = model(img).to(device)\n",
        "            ce_loss = nn.CrossEntropyLoss()\n",
        "            loss = ce_loss(preds, label)\n",
        "            loss.backward()\n",
        "            opt.step()\n",
        "            tmp_loss = loss.item()\n",
        "            train_losses.append(tmp_loss)\n",
        "            \n",
        "            end = time.time() - start\n",
        "            \n",
        "            acc = accuracy_score(label.cpu(), np.argmax(preds.cpu().detach().numpy(), axis=1))\n",
        "            accuracy.append(acc)\n",
        "            \n",
        "            # if i%10==1:\n",
        "            plt.plot(np.arange(0, len(train_losses)), train_losses, label=f'spent_time={end}, ep={epoch}')\n",
        "            plt.legend()\n",
        "            plt.show()\n",
        "\n",
        "            plt.plot(np.arange(0, len(accuracy)), accuracy, label='accuracy')\n",
        "            plt.legend()\n",
        "            plt.show()\n",
        "            \n",
        "            if (np.mean(accuracy[-5:])>0.75):\n",
        "                flag = True\n",
        "            \n",
        "            i+=1\n",
        "        \n",
        "        torch.save(model.state_dict(),CHECKPOINT_PATH)\n",
        "        if flag == True:\n",
        "            break\n",
        "    model.train(False)\n",
        "    return model"
      ]
    },
    {
      "cell_type": "code",
      "execution_count": null,
      "id": "03950bf6-1308-4d80-b633-05887c880f9c",
      "metadata": {
        "id": "03950bf6-1308-4d80-b633-05887c880f9c",
        "outputId": "5a8aee59-3a8d-4c50-ccd2-40ebb8f56e86"
      },
      "outputs": [
        {
          "data": {
            "image/png": "[encoded data removed]",
            "text/plain": [
              "<Figure size 432x288 with 1 Axes>"
            ]
          },
          "metadata": {
            "needs_background": "light"
          },
          "output_type": "display_data"
        },
        {
          "data": {
            "image/png": "[encoded data removed]",
            "text/plain": [
              "<Figure size 432x288 with 1 Axes>"
            ]
          },
          "metadata": {
            "needs_background": "light"
          },
          "output_type": "display_data"
        },
        {
          "name": "stderr",
          "output_type": "stream",
          "text": [
            "  0%|          | 3/648 [00:33<1:59:45, 11.14s/it]\n"
          ]
        },
        {
          "ename": "KeyboardInterrupt",
          "evalue": "",
          "output_type": "error",
          "traceback": [
            "\u001b[0;31m---------------------------------------------------------------------------\u001b[0m",
            "\u001b[0;31mKeyboardInterrupt\u001b[0m                         Traceback (most recent call last)",
            "\u001b[0;32m/tmp/ipykernel_1638/566307639.py\u001b[0m in \u001b[0;36m<module>\u001b[0;34m\u001b[0m\n\u001b[1;32m      1\u001b[0m \u001b[0mEPOCH_NUM\u001b[0m\u001b[0;34m=\u001b[0m\u001b[0;36m100\u001b[0m\u001b[0;34m\u001b[0m\u001b[0;34m\u001b[0m\u001b[0m\n\u001b[0;32m----> 2\u001b[0;31m \u001b[0mmodel\u001b[0m \u001b[0;34m=\u001b[0m \u001b[0mfit\u001b[0m\u001b[0;34m(\u001b[0m\u001b[0mmodel\u001b[0m\u001b[0;34m,\u001b[0m \u001b[0mEPOCH_NUM\u001b[0m \u001b[0;34m,\u001b[0m \u001b[0mlr\u001b[0m\u001b[0;34m=\u001b[0m\u001b[0;36m0.0003\u001b[0m\u001b[0;34m)\u001b[0m\u001b[0;34m\u001b[0m\u001b[0;34m\u001b[0m\u001b[0m\n\u001b[0m",
            "\u001b[0;32m/tmp/ipykernel_1638/1430463498.py\u001b[0m in \u001b[0;36mfit\u001b[0;34m(model, epochs, lr)\u001b[0m\n\u001b[1;32m     14\u001b[0m     \u001b[0;32mfor\u001b[0m \u001b[0mepoch\u001b[0m \u001b[0;32min\u001b[0m \u001b[0mrange\u001b[0m\u001b[0;34m(\u001b[0m\u001b[0mepochs\u001b[0m\u001b[0;34m)\u001b[0m\u001b[0;34m:\u001b[0m\u001b[0;34m\u001b[0m\u001b[0;34m\u001b[0m\u001b[0m\n\u001b[1;32m     15\u001b[0m         \u001b[0mmodel\u001b[0m\u001b[0;34m.\u001b[0m\u001b[0mtrain\u001b[0m\u001b[0;34m(\u001b[0m\u001b[0;32mTrue\u001b[0m\u001b[0;34m)\u001b[0m\u001b[0;34m\u001b[0m\u001b[0;34m\u001b[0m\u001b[0m\n\u001b[0;32m---> 16\u001b[0;31m         \u001b[0;32mfor\u001b[0m \u001b[0mimg\u001b[0m\u001b[0;34m,\u001b[0m \u001b[0mlabel\u001b[0m\u001b[0;34m,\u001b[0m \u001b[0mimages_filepaths\u001b[0m \u001b[0;32min\u001b[0m \u001b[0mtqdm\u001b[0m\u001b[0;34m(\u001b[0m\u001b[0mtrain_loader\u001b[0m\u001b[0;34m)\u001b[0m\u001b[0;34m:\u001b[0m\u001b[0;34m\u001b[0m\u001b[0;34m\u001b[0m\u001b[0m\n\u001b[0m\u001b[1;32m     17\u001b[0m             \u001b[0mclear_output\u001b[0m\u001b[0;34m(\u001b[0m\u001b[0;32mTrue\u001b[0m\u001b[0;34m)\u001b[0m\u001b[0;34m\u001b[0m\u001b[0;34m\u001b[0m\u001b[0m\n\u001b[1;32m     18\u001b[0m             \u001b[0mimg\u001b[0m \u001b[0;34m=\u001b[0m \u001b[0mimg\u001b[0m\u001b[0;34m.\u001b[0m\u001b[0mto\u001b[0m\u001b[0;34m(\u001b[0m\u001b[0mdevice\u001b[0m\u001b[0;34m)\u001b[0m\u001b[0;34m\u001b[0m\u001b[0;34m\u001b[0m\u001b[0m\n",
            "\u001b[0;31mKeyboardInterrupt\u001b[0m: "
          ]
        }
      ],
      "source": [
        "EPOCH_NUM=100\n",
        "model = fit(model, EPOCH_NUM , lr=0.0003)"
      ]
    },
    {
      "cell_type": "code",
      "execution_count": null,
      "id": "9449818f-329d-4676-93d5-2b007450bb88",
      "metadata": {
        "id": "9449818f-329d-4676-93d5-2b007450bb88"
      },
      "outputs": [],
      "source": [
        "torch.save(model.state_dict(),CHECKPOINT_PATH)"
      ]
    },
    {
      "cell_type": "code",
      "execution_count": null,
      "id": "c4ce9382-9d76-4e40-81aa-146f91435279",
      "metadata": {
        "id": "c4ce9382-9d76-4e40-81aa-146f91435279"
      },
      "outputs": [],
      "source": [
        "model.load_state_dict(torch.load(CHECKPOINT_PATH))\n",
        "model = model.to(device)"
      ]
    },
    {
      "cell_type": "markdown",
      "id": "3b20fc0a-9700-485f-949c-ea88ecc4b28d",
      "metadata": {
        "id": "3b20fc0a-9700-485f-949c-ea88ecc4b28d"
      },
      "source": [
        "# Make embeddings"
      ]
    },
    {
      "cell_type": "code",
      "execution_count": null,
      "id": "7c5c78b6-d08a-4d2f-8bee-912cf903b99e",
      "metadata": {
        "id": "7c5c78b6-d08a-4d2f-8bee-912cf903b99e",
        "outputId": "ba4680c1-af9e-4915-d9d4-e87e03271dc3"
      },
      "outputs": [
        {
          "name": "stderr",
          "output_type": "stream",
          "text": [
            " 11%|█▏        | 48/421 [02:57<08:07,  1.31s/it] "
          ]
        },
        {
          "name": "stdout",
          "output_type": "stream",
          "text": [
            "aaaaa: ./../H&M/images/061/0616100001.jpg\n"
          ]
        },
        {
          "name": "stderr",
          "output_type": "stream",
          "text": [
            "100%|██████████| 421/421 [24:28<00:00,  3.49s/it]"
          ]
        },
        {
          "name": "stdout",
          "output_type": "stream",
          "text": [
            "(105100, 21)\n"
          ]
        },
        {
          "name": "stderr",
          "output_type": "stream",
          "text": [
            "\n"
          ]
        },
        {
          "data": {
            "text/html": [
              "<div>\n",
              "<style scoped>\n",
              "    .dataframe tbody tr th:only-of-type {\n",
              "        vertical-align: middle;\n",
              "    }\n",
              "\n",
              "    .dataframe tbody tr th {\n",
              "        vertical-align: top;\n",
              "    }\n",
              "\n",
              "    .dataframe thead th {\n",
              "        text-align: right;\n",
              "    }\n",
              "</style>\n",
              "<table border=\"1\" class=\"dataframe\">\n",
              "  <thead>\n",
              "    <tr style=\"text-align: right;\">\n",
              "      <th></th>\n",
              "      <th>0</th>\n",
              "      <th>1</th>\n",
              "      <th>2</th>\n",
              "      <th>3</th>\n",
              "      <th>4</th>\n",
              "      <th>5</th>\n",
              "      <th>6</th>\n",
              "      <th>7</th>\n",
              "      <th>8</th>\n",
              "      <th>9</th>\n",
              "      <th>...</th>\n",
              "      <th>11</th>\n",
              "      <th>12</th>\n",
              "      <th>13</th>\n",
              "      <th>14</th>\n",
              "      <th>15</th>\n",
              "      <th>16</th>\n",
              "      <th>17</th>\n",
              "      <th>18</th>\n",
              "      <th>19</th>\n",
              "      <th>20</th>\n",
              "    </tr>\n",
              "  </thead>\n",
              "  <tbody>\n",
              "    <tr>\n",
              "      <th>0</th>\n",
              "      <td>568593004.0</td>\n",
              "      <td>1.467842</td>\n",
              "      <td>3.970417</td>\n",
              "      <td>6.125340</td>\n",
              "      <td>-0.189507</td>\n",
              "      <td>-1.584250</td>\n",
              "      <td>7.229694</td>\n",
              "      <td>-1.665498</td>\n",
              "      <td>-0.813880</td>\n",
              "      <td>-0.972181</td>\n",
              "      <td>...</td>\n",
              "      <td>4.445744</td>\n",
              "      <td>2.114445</td>\n",
              "      <td>2.641623</td>\n",
              "      <td>1.395574</td>\n",
              "      <td>-2.491008</td>\n",
              "      <td>3.702339</td>\n",
              "      <td>2.775120</td>\n",
              "      <td>3.470323</td>\n",
              "      <td>2.862988</td>\n",
              "      <td>-0.992524</td>\n",
              "    </tr>\n",
              "    <tr>\n",
              "      <th>1</th>\n",
              "      <td>639450001.0</td>\n",
              "      <td>-0.254361</td>\n",
              "      <td>2.531318</td>\n",
              "      <td>-1.763081</td>\n",
              "      <td>5.507886</td>\n",
              "      <td>2.556554</td>\n",
              "      <td>-1.420854</td>\n",
              "      <td>3.211045</td>\n",
              "      <td>3.442369</td>\n",
              "      <td>5.164075</td>\n",
              "      <td>...</td>\n",
              "      <td>1.930489</td>\n",
              "      <td>0.837425</td>\n",
              "      <td>4.025880</td>\n",
              "      <td>5.795096</td>\n",
              "      <td>4.829978</td>\n",
              "      <td>1.551886</td>\n",
              "      <td>-0.080440</td>\n",
              "      <td>1.784710</td>\n",
              "      <td>0.706856</td>\n",
              "      <td>0.988901</td>\n",
              "    </tr>\n",
              "    <tr>\n",
              "      <th>2</th>\n",
              "      <td>510075014.0</td>\n",
              "      <td>-4.188909</td>\n",
              "      <td>3.310985</td>\n",
              "      <td>0.479185</td>\n",
              "      <td>8.083498</td>\n",
              "      <td>5.236981</td>\n",
              "      <td>0.104801</td>\n",
              "      <td>-2.382178</td>\n",
              "      <td>1.942409</td>\n",
              "      <td>1.355643</td>\n",
              "      <td>...</td>\n",
              "      <td>0.347273</td>\n",
              "      <td>-5.613861</td>\n",
              "      <td>1.325653</td>\n",
              "      <td>4.182404</td>\n",
              "      <td>-1.939167</td>\n",
              "      <td>1.653908</td>\n",
              "      <td>2.426583</td>\n",
              "      <td>1.050490</td>\n",
              "      <td>0.830585</td>\n",
              "      <td>1.474581</td>\n",
              "    </tr>\n",
              "    <tr>\n",
              "      <th>3</th>\n",
              "      <td>635168015.0</td>\n",
              "      <td>-0.443159</td>\n",
              "      <td>2.806391</td>\n",
              "      <td>0.082961</td>\n",
              "      <td>3.926576</td>\n",
              "      <td>1.390461</td>\n",
              "      <td>-0.608195</td>\n",
              "      <td>1.383237</td>\n",
              "      <td>2.691496</td>\n",
              "      <td>1.011560</td>\n",
              "      <td>...</td>\n",
              "      <td>-1.315736</td>\n",
              "      <td>-1.362251</td>\n",
              "      <td>1.761591</td>\n",
              "      <td>2.603801</td>\n",
              "      <td>2.210498</td>\n",
              "      <td>0.606321</td>\n",
              "      <td>1.420433</td>\n",
              "      <td>1.230476</td>\n",
              "      <td>0.775410</td>\n",
              "      <td>1.080353</td>\n",
              "    </tr>\n",
              "    <tr>\n",
              "      <th>4</th>\n",
              "      <td>640733001.0</td>\n",
              "      <td>0.244673</td>\n",
              "      <td>-1.760099</td>\n",
              "      <td>1.701853</td>\n",
              "      <td>1.265867</td>\n",
              "      <td>-0.000304</td>\n",
              "      <td>0.085181</td>\n",
              "      <td>2.154590</td>\n",
              "      <td>1.277837</td>\n",
              "      <td>2.793372</td>\n",
              "      <td>...</td>\n",
              "      <td>1.598789</td>\n",
              "      <td>3.593164</td>\n",
              "      <td>1.092857</td>\n",
              "      <td>3.317524</td>\n",
              "      <td>2.020916</td>\n",
              "      <td>-0.570163</td>\n",
              "      <td>-1.404139</td>\n",
              "      <td>2.510555</td>\n",
              "      <td>-0.001487</td>\n",
              "      <td>-1.311058</td>\n",
              "    </tr>\n",
              "  </tbody>\n",
              "</table>\n",
              "<p>5 rows × 21 columns</p>\n",
              "</div>"
            ],
            "text/plain": [
              "            0         1         2         3         4         5         6   \\\n",
              "0  568593004.0  1.467842  3.970417  6.125340 -0.189507 -1.584250  7.229694   \n",
              "1  639450001.0 -0.254361  2.531318 -1.763081  5.507886  2.556554 -1.420854   \n",
              "2  510075014.0 -4.188909  3.310985  0.479185  8.083498  5.236981  0.104801   \n",
              "3  635168015.0 -0.443159  2.806391  0.082961  3.926576  1.390461 -0.608195   \n",
              "4  640733001.0  0.244673 -1.760099  1.701853  1.265867 -0.000304  0.085181   \n",
              "\n",
              "         7         8         9   ...        11        12        13        14  \\\n",
              "0 -1.665498 -0.813880 -0.972181  ...  4.445744  2.114445  2.641623  1.395574   \n",
              "1  3.211045  3.442369  5.164075  ...  1.930489  0.837425  4.025880  5.795096   \n",
              "2 -2.382178  1.942409  1.355643  ...  0.347273 -5.613861  1.325653  4.182404   \n",
              "3  1.383237  2.691496  1.011560  ... -1.315736 -1.362251  1.761591  2.603801   \n",
              "4  2.154590  1.277837  2.793372  ...  1.598789  3.593164  1.092857  3.317524   \n",
              "\n",
              "         15        16        17        18        19        20  \n",
              "0 -2.491008  3.702339  2.775120  3.470323  2.862988 -0.992524  \n",
              "1  4.829978  1.551886 -0.080440  1.784710  0.706856  0.988901  \n",
              "2 -1.939167  1.653908  2.426583  1.050490  0.830585  1.474581  \n",
              "3  2.210498  0.606321  1.420433  1.230476  0.775410  1.080353  \n",
              "4  2.020916 -0.570163 -1.404139  2.510555 -0.001487 -1.311058  \n",
              "\n",
              "[5 rows x 21 columns]"
            ]
          },
          "execution_count": 37,
          "metadata": {},
          "output_type": "execute_result"
        }
      ],
      "source": [
        "df = np.zeros((len(test_dataset.images_filepaths), emb_size+1))\n",
        "i=0\n",
        "for img, label, images_filepaths in tqdm(emb_train_loader):\n",
        "    img = img.to(device)\n",
        "    preds = model.efficientnet(img).cpu().detach().numpy()\n",
        "    \n",
        "    for k in range(img.shape[0]):\n",
        "        df[i*BATCH_SIZE + k, 0] = int(images_filepaths[k])\n",
        "        for m in range(emb_size):\n",
        "            df[i*BATCH_SIZE + k, m+1] = preds[k,m:m+1][0]\n",
        "    i+=1\n",
        "    \n",
        "df = pd.DataFrame(df)\n",
        "print(df.shape)\n",
        "df.head()"
      ]
    },
    {
      "cell_type": "code",
      "execution_count": null,
      "id": "4e4b8dbb-7789-445d-9354-12c178bcd165",
      "metadata": {
        "id": "4e4b8dbb-7789-445d-9354-12c178bcd165",
        "outputId": "7ef11b32-9325-4c1e-eb5d-598b0c065ff4"
      },
      "outputs": [
        {
          "data": {
            "text/html": [
              "<div>\n",
              "<style scoped>\n",
              "    .dataframe tbody tr th:only-of-type {\n",
              "        vertical-align: middle;\n",
              "    }\n",
              "\n",
              "    .dataframe tbody tr th {\n",
              "        vertical-align: top;\n",
              "    }\n",
              "\n",
              "    .dataframe thead th {\n",
              "        text-align: right;\n",
              "    }\n",
              "</style>\n",
              "<table border=\"1\" class=\"dataframe\">\n",
              "  <thead>\n",
              "    <tr style=\"text-align: right;\">\n",
              "      <th></th>\n",
              "      <th>0</th>\n",
              "      <th>1</th>\n",
              "      <th>2</th>\n",
              "      <th>3</th>\n",
              "      <th>4</th>\n",
              "      <th>5</th>\n",
              "      <th>6</th>\n",
              "      <th>7</th>\n",
              "      <th>8</th>\n",
              "      <th>9</th>\n",
              "      <th>...</th>\n",
              "      <th>11</th>\n",
              "      <th>12</th>\n",
              "      <th>13</th>\n",
              "      <th>14</th>\n",
              "      <th>15</th>\n",
              "      <th>16</th>\n",
              "      <th>17</th>\n",
              "      <th>18</th>\n",
              "      <th>19</th>\n",
              "      <th>20</th>\n",
              "    </tr>\n",
              "  </thead>\n",
              "  <tbody>\n",
              "    <tr>\n",
              "      <th>0</th>\n",
              "      <td>568593004.0</td>\n",
              "      <td>1.467842</td>\n",
              "      <td>3.970417</td>\n",
              "      <td>6.125340</td>\n",
              "      <td>-0.189507</td>\n",
              "      <td>-1.584250</td>\n",
              "      <td>7.229694</td>\n",
              "      <td>-1.665498</td>\n",
              "      <td>-0.813880</td>\n",
              "      <td>-0.972181</td>\n",
              "      <td>...</td>\n",
              "      <td>4.445744</td>\n",
              "      <td>2.114445</td>\n",
              "      <td>2.641623</td>\n",
              "      <td>1.395574</td>\n",
              "      <td>-2.491008</td>\n",
              "      <td>3.702339</td>\n",
              "      <td>2.775120</td>\n",
              "      <td>3.470323</td>\n",
              "      <td>2.862988</td>\n",
              "      <td>-0.992524</td>\n",
              "    </tr>\n",
              "    <tr>\n",
              "      <th>1</th>\n",
              "      <td>639450001.0</td>\n",
              "      <td>-0.254361</td>\n",
              "      <td>2.531318</td>\n",
              "      <td>-1.763081</td>\n",
              "      <td>5.507886</td>\n",
              "      <td>2.556554</td>\n",
              "      <td>-1.420854</td>\n",
              "      <td>3.211045</td>\n",
              "      <td>3.442369</td>\n",
              "      <td>5.164075</td>\n",
              "      <td>...</td>\n",
              "      <td>1.930489</td>\n",
              "      <td>0.837425</td>\n",
              "      <td>4.025880</td>\n",
              "      <td>5.795096</td>\n",
              "      <td>4.829978</td>\n",
              "      <td>1.551886</td>\n",
              "      <td>-0.080440</td>\n",
              "      <td>1.784710</td>\n",
              "      <td>0.706856</td>\n",
              "      <td>0.988901</td>\n",
              "    </tr>\n",
              "    <tr>\n",
              "      <th>2</th>\n",
              "      <td>510075014.0</td>\n",
              "      <td>-4.188909</td>\n",
              "      <td>3.310985</td>\n",
              "      <td>0.479185</td>\n",
              "      <td>8.083498</td>\n",
              "      <td>5.236981</td>\n",
              "      <td>0.104801</td>\n",
              "      <td>-2.382178</td>\n",
              "      <td>1.942409</td>\n",
              "      <td>1.355643</td>\n",
              "      <td>...</td>\n",
              "      <td>0.347273</td>\n",
              "      <td>-5.613861</td>\n",
              "      <td>1.325653</td>\n",
              "      <td>4.182404</td>\n",
              "      <td>-1.939167</td>\n",
              "      <td>1.653908</td>\n",
              "      <td>2.426583</td>\n",
              "      <td>1.050490</td>\n",
              "      <td>0.830585</td>\n",
              "      <td>1.474581</td>\n",
              "    </tr>\n",
              "    <tr>\n",
              "      <th>3</th>\n",
              "      <td>635168015.0</td>\n",
              "      <td>-0.443159</td>\n",
              "      <td>2.806391</td>\n",
              "      <td>0.082961</td>\n",
              "      <td>3.926576</td>\n",
              "      <td>1.390461</td>\n",
              "      <td>-0.608195</td>\n",
              "      <td>1.383237</td>\n",
              "      <td>2.691496</td>\n",
              "      <td>1.011560</td>\n",
              "      <td>...</td>\n",
              "      <td>-1.315736</td>\n",
              "      <td>-1.362251</td>\n",
              "      <td>1.761591</td>\n",
              "      <td>2.603801</td>\n",
              "      <td>2.210498</td>\n",
              "      <td>0.606321</td>\n",
              "      <td>1.420433</td>\n",
              "      <td>1.230476</td>\n",
              "      <td>0.775410</td>\n",
              "      <td>1.080353</td>\n",
              "    </tr>\n",
              "    <tr>\n",
              "      <th>4</th>\n",
              "      <td>640733001.0</td>\n",
              "      <td>0.244673</td>\n",
              "      <td>-1.760099</td>\n",
              "      <td>1.701853</td>\n",
              "      <td>1.265867</td>\n",
              "      <td>-0.000304</td>\n",
              "      <td>0.085181</td>\n",
              "      <td>2.154590</td>\n",
              "      <td>1.277837</td>\n",
              "      <td>2.793372</td>\n",
              "      <td>...</td>\n",
              "      <td>1.598789</td>\n",
              "      <td>3.593164</td>\n",
              "      <td>1.092857</td>\n",
              "      <td>3.317524</td>\n",
              "      <td>2.020916</td>\n",
              "      <td>-0.570163</td>\n",
              "      <td>-1.404139</td>\n",
              "      <td>2.510555</td>\n",
              "      <td>-0.001487</td>\n",
              "      <td>-1.311058</td>\n",
              "    </tr>\n",
              "    <tr>\n",
              "      <th>...</th>\n",
              "      <td>...</td>\n",
              "      <td>...</td>\n",
              "      <td>...</td>\n",
              "      <td>...</td>\n",
              "      <td>...</td>\n",
              "      <td>...</td>\n",
              "      <td>...</td>\n",
              "      <td>...</td>\n",
              "      <td>...</td>\n",
              "      <td>...</td>\n",
              "      <td>...</td>\n",
              "      <td>...</td>\n",
              "      <td>...</td>\n",
              "      <td>...</td>\n",
              "      <td>...</td>\n",
              "      <td>...</td>\n",
              "      <td>...</td>\n",
              "      <td>...</td>\n",
              "      <td>...</td>\n",
              "      <td>...</td>\n",
              "      <td>...</td>\n",
              "    </tr>\n",
              "    <tr>\n",
              "      <th>105095</th>\n",
              "      <td>910439002.0</td>\n",
              "      <td>-1.036296</td>\n",
              "      <td>-2.346099</td>\n",
              "      <td>1.240059</td>\n",
              "      <td>-4.820119</td>\n",
              "      <td>0.489179</td>\n",
              "      <td>0.164161</td>\n",
              "      <td>3.717622</td>\n",
              "      <td>2.561325</td>\n",
              "      <td>2.408957</td>\n",
              "      <td>...</td>\n",
              "      <td>1.927429</td>\n",
              "      <td>-2.175008</td>\n",
              "      <td>2.535063</td>\n",
              "      <td>2.283042</td>\n",
              "      <td>-1.565670</td>\n",
              "      <td>-1.233865</td>\n",
              "      <td>0.950978</td>\n",
              "      <td>6.371066</td>\n",
              "      <td>-0.800880</td>\n",
              "      <td>-4.149199</td>\n",
              "    </tr>\n",
              "    <tr>\n",
              "      <th>105096</th>\n",
              "      <td>828050002.0</td>\n",
              "      <td>6.541903</td>\n",
              "      <td>-2.903010</td>\n",
              "      <td>6.053606</td>\n",
              "      <td>5.117522</td>\n",
              "      <td>-2.435457</td>\n",
              "      <td>-0.399521</td>\n",
              "      <td>2.789445</td>\n",
              "      <td>4.742798</td>\n",
              "      <td>4.869843</td>\n",
              "      <td>...</td>\n",
              "      <td>3.161389</td>\n",
              "      <td>1.368923</td>\n",
              "      <td>-2.911216</td>\n",
              "      <td>6.167363</td>\n",
              "      <td>4.674146</td>\n",
              "      <td>5.463200</td>\n",
              "      <td>-0.207463</td>\n",
              "      <td>-0.657633</td>\n",
              "      <td>-0.339938</td>\n",
              "      <td>-4.399602</td>\n",
              "    </tr>\n",
              "    <tr>\n",
              "      <th>105097</th>\n",
              "      <td>637935001.0</td>\n",
              "      <td>-0.565408</td>\n",
              "      <td>4.175253</td>\n",
              "      <td>2.741917</td>\n",
              "      <td>5.590564</td>\n",
              "      <td>4.943574</td>\n",
              "      <td>-1.445582</td>\n",
              "      <td>0.437543</td>\n",
              "      <td>2.537083</td>\n",
              "      <td>5.571931</td>\n",
              "      <td>...</td>\n",
              "      <td>4.112484</td>\n",
              "      <td>-1.588542</td>\n",
              "      <td>4.645475</td>\n",
              "      <td>3.516471</td>\n",
              "      <td>3.426046</td>\n",
              "      <td>2.943505</td>\n",
              "      <td>0.815717</td>\n",
              "      <td>3.665178</td>\n",
              "      <td>2.310355</td>\n",
              "      <td>-0.750373</td>\n",
              "    </tr>\n",
              "    <tr>\n",
              "      <th>105098</th>\n",
              "      <td>874240002.0</td>\n",
              "      <td>2.580819</td>\n",
              "      <td>0.601560</td>\n",
              "      <td>0.071406</td>\n",
              "      <td>8.153777</td>\n",
              "      <td>0.427558</td>\n",
              "      <td>-4.409646</td>\n",
              "      <td>-1.974847</td>\n",
              "      <td>3.156410</td>\n",
              "      <td>3.373031</td>\n",
              "      <td>...</td>\n",
              "      <td>-0.674447</td>\n",
              "      <td>0.172492</td>\n",
              "      <td>-2.682840</td>\n",
              "      <td>6.462188</td>\n",
              "      <td>5.180929</td>\n",
              "      <td>2.404669</td>\n",
              "      <td>-2.376741</td>\n",
              "      <td>-1.741528</td>\n",
              "      <td>-0.448084</td>\n",
              "      <td>-4.044993</td>\n",
              "    </tr>\n",
              "    <tr>\n",
              "      <th>105099</th>\n",
              "      <td>194270044.0</td>\n",
              "      <td>1.054785</td>\n",
              "      <td>2.837615</td>\n",
              "      <td>2.154982</td>\n",
              "      <td>0.248435</td>\n",
              "      <td>0.140946</td>\n",
              "      <td>2.310358</td>\n",
              "      <td>-1.098608</td>\n",
              "      <td>0.867607</td>\n",
              "      <td>-1.527661</td>\n",
              "      <td>...</td>\n",
              "      <td>-3.810107</td>\n",
              "      <td>2.789417</td>\n",
              "      <td>2.154260</td>\n",
              "      <td>-1.266977</td>\n",
              "      <td>-0.636797</td>\n",
              "      <td>0.882999</td>\n",
              "      <td>2.155229</td>\n",
              "      <td>-2.713294</td>\n",
              "      <td>1.004728</td>\n",
              "      <td>2.175847</td>\n",
              "    </tr>\n",
              "  </tbody>\n",
              "</table>\n",
              "<p>105100 rows × 21 columns</p>\n",
              "</div>"
            ],
            "text/plain": [
              "                 0         1         2         3         4         5   \\\n",
              "0       568593004.0  1.467842  3.970417  6.125340 -0.189507 -1.584250   \n",
              "1       639450001.0 -0.254361  2.531318 -1.763081  5.507886  2.556554   \n",
              "2       510075014.0 -4.188909  3.310985  0.479185  8.083498  5.236981   \n",
              "3       635168015.0 -0.443159  2.806391  0.082961  3.926576  1.390461   \n",
              "4       640733001.0  0.244673 -1.760099  1.701853  1.265867 -0.000304   \n",
              "...             ...       ...       ...       ...       ...       ...   \n",
              "105095  910439002.0 -1.036296 -2.346099  1.240059 -4.820119  0.489179   \n",
              "105096  828050002.0  6.541903 -2.903010  6.053606  5.117522 -2.435457   \n",
              "105097  637935001.0 -0.565408  4.175253  2.741917  5.590564  4.943574   \n",
              "105098  874240002.0  2.580819  0.601560  0.071406  8.153777  0.427558   \n",
              "105099  194270044.0  1.054785  2.837615  2.154982  0.248435  0.140946   \n",
              "\n",
              "              6         7         8         9   ...        11        12  \\\n",
              "0       7.229694 -1.665498 -0.813880 -0.972181  ...  4.445744  2.114445   \n",
              "1      -1.420854  3.211045  3.442369  5.164075  ...  1.930489  0.837425   \n",
              "2       0.104801 -2.382178  1.942409  1.355643  ...  0.347273 -5.613861   \n",
              "3      -0.608195  1.383237  2.691496  1.011560  ... -1.315736 -1.362251   \n",
              "4       0.085181  2.154590  1.277837  2.793372  ...  1.598789  3.593164   \n",
              "...          ...       ...       ...       ...  ...       ...       ...   \n",
              "105095  0.164161  3.717622  2.561325  2.408957  ...  1.927429 -2.175008   \n",
              "105096 -0.399521  2.789445  4.742798  4.869843  ...  3.161389  1.368923   \n",
              "105097 -1.445582  0.437543  2.537083  5.571931  ...  4.112484 -1.588542   \n",
              "105098 -4.409646 -1.974847  3.156410  3.373031  ... -0.674447  0.172492   \n",
              "105099  2.310358 -1.098608  0.867607 -1.527661  ... -3.810107  2.789417   \n",
              "\n",
              "              13        14        15        16        17        18        19  \\\n",
              "0       2.641623  1.395574 -2.491008  3.702339  2.775120  3.470323  2.862988   \n",
              "1       4.025880  5.795096  4.829978  1.551886 -0.080440  1.784710  0.706856   \n",
              "2       1.325653  4.182404 -1.939167  1.653908  2.426583  1.050490  0.830585   \n",
              "3       1.761591  2.603801  2.210498  0.606321  1.420433  1.230476  0.775410   \n",
              "4       1.092857  3.317524  2.020916 -0.570163 -1.404139  2.510555 -0.001487   \n",
              "...          ...       ...       ...       ...       ...       ...       ...   \n",
              "105095  2.535063  2.283042 -1.565670 -1.233865  0.950978  6.371066 -0.800880   \n",
              "105096 -2.911216  6.167363  4.674146  5.463200 -0.207463 -0.657633 -0.339938   \n",
              "105097  4.645475  3.516471  3.426046  2.943505  0.815717  3.665178  2.310355   \n",
              "105098 -2.682840  6.462188  5.180929  2.404669 -2.376741 -1.741528 -0.448084   \n",
              "105099  2.154260 -1.266977 -0.636797  0.882999  2.155229 -2.713294  1.004728   \n",
              "\n",
              "              20  \n",
              "0      -0.992524  \n",
              "1       0.988901  \n",
              "2       1.474581  \n",
              "3       1.080353  \n",
              "4      -1.311058  \n",
              "...          ...  \n",
              "105095 -4.149199  \n",
              "105096 -4.399602  \n",
              "105097 -0.750373  \n",
              "105098 -4.044993  \n",
              "105099  2.175847  \n",
              "\n",
              "[105100 rows x 21 columns]"
            ]
          },
          "execution_count": 38,
          "metadata": {},
          "output_type": "execute_result"
        }
      ],
      "source": [
        "df"
      ]
    },
    {
      "cell_type": "code",
      "execution_count": null,
      "id": "58828acc-c991-48f6-a742-30ccde52a6a2",
      "metadata": {
        "id": "58828acc-c991-48f6-a742-30ccde52a6a2"
      },
      "outputs": [],
      "source": [
        "df.to_csv('./checkpoint2.csv')"
      ]
    },
    {
      "cell_type": "code",
      "execution_count": null,
      "id": "0c68b800-21a6-478f-b05b-20d06b6c140d",
      "metadata": {
        "id": "0c68b800-21a6-478f-b05b-20d06b6c140d"
      },
      "outputs": [],
      "source": [
        ""
      ]
    }
  ],
  "metadata": {
    "kernelspec": {
      "display_name": "Python 3 (ipykernel)",
      "language": "python",
      "name": "python3"
    },
    "language_info": {
      "codemirror_mode": {
        "name": "ipython",
        "version": 3
      },
      "file_extension": ".py",
      "mimetype": "text/x-python",
      "name": "python",
      "nbconvert_exporter": "python",
      "pygments_lexer": "ipython3",
      "version": "3.7.12"
    },
    "colab": {
      "name": "colour_group_code.ipynb",
      "provenance": [],
      "include_colab_link": true
    }
  },
  "nbformat": 4,
  "nbformat_minor": 5
}